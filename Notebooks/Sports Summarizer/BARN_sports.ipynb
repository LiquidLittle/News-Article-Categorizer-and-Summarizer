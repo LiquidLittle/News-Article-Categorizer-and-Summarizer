{
 "cells": [
  {
   "cell_type": "markdown",
   "metadata": {},
   "source": [
    "# Install and Import Necessary Libraries"
   ]
  },
  {
   "cell_type": "markdown",
   "metadata": {},
   "source": [
    "In the exploration of potential NLP project ideas, I have previously conducted projects in classification and sentiment analysis. Seeking a shift to a different category, I opted to undertake a text summarization project with a focus on news articles.\n",
    "\n",
    "In the contemporary digital landscape, the internet swiftly disseminates vast volumes of information worldwide within seconds. Traditional media outlets, including newspapers, have adapted by establishing online platforms to provide diverse information to their audience. Millions of news articles are delivered in a digital form and available for all the audience around the world. Nevertheless, the challenge arises when lengthy text articles struggle to convey valuable information efficiently to readers. Recognizing the need to expedite the consumption of news, the implementation of a text summarization engine emerges as a valuable solution.\n",
    "\n",
    "In this project, I used the dataset I obtained from Kaggle which contains CNN articles, according categories, and actual summaries. Considering about the availability of GPUs and the size of the dataset, I decided to only use “Sports” news to train a model specifically targeting to summarize sports news. I used BART (Bidirectional and Auto-Regressive Transformers) as my pretrained base model and tried to apply additional training for sports news.\n"
   ]
  },
  {
   "cell_type": "code",
   "execution_count": 1,
   "metadata": {
    "colab": {
     "base_uri": "https://localhost:8080/"
    },
    "executionInfo": {
     "elapsed": 41150,
     "status": "ok",
     "timestamp": 1706691866137,
     "user": {
      "displayName": "yi Liu",
      "userId": "06730254382051748854"
     },
     "user_tz": 300
    },
    "id": "mDKdnqSBvyGR",
    "outputId": "84775da7-0ea0-4911-f1f2-782e8372ef5b"
   },
   "outputs": [
    {
     "name": "stdout",
     "output_type": "stream",
     "text": [
      "Requirement already satisfied: tensorflow in c:\\users\\61\\anaconda3\\lib\\site-packages (2.15.0)\n",
      "Requirement already satisfied: tensorflow-intel==2.15.0 in c:\\users\\61\\anaconda3\\lib\\site-packages (from tensorflow) (2.15.0)\n",
      "Requirement already satisfied: absl-py>=1.0.0 in c:\\users\\61\\anaconda3\\lib\\site-packages (from tensorflow-intel==2.15.0->tensorflow) (2.1.0)\n",
      "Requirement already satisfied: astunparse>=1.6.0 in c:\\users\\61\\anaconda3\\lib\\site-packages (from tensorflow-intel==2.15.0->tensorflow) (1.6.3)\n",
      "Requirement already satisfied: flatbuffers>=23.5.26 in c:\\users\\61\\anaconda3\\lib\\site-packages (from tensorflow-intel==2.15.0->tensorflow) (23.5.26)\n",
      "Requirement already satisfied: gast!=0.5.0,!=0.5.1,!=0.5.2,>=0.2.1 in c:\\users\\61\\anaconda3\\lib\\site-packages (from tensorflow-intel==2.15.0->tensorflow) (0.5.4)\n",
      "Requirement already satisfied: google-pasta>=0.1.1 in c:\\users\\61\\anaconda3\\lib\\site-packages (from tensorflow-intel==2.15.0->tensorflow) (0.2.0)\n",
      "Requirement already satisfied: h5py>=2.9.0 in c:\\users\\61\\anaconda3\\lib\\site-packages (from tensorflow-intel==2.15.0->tensorflow) (3.9.0)\n",
      "Requirement already satisfied: libclang>=13.0.0 in c:\\users\\61\\anaconda3\\lib\\site-packages (from tensorflow-intel==2.15.0->tensorflow) (16.0.6)\n",
      "Requirement already satisfied: ml-dtypes~=0.2.0 in c:\\users\\61\\anaconda3\\lib\\site-packages (from tensorflow-intel==2.15.0->tensorflow) (0.2.0)\n",
      "Requirement already satisfied: numpy<2.0.0,>=1.23.5 in c:\\users\\61\\anaconda3\\lib\\site-packages (from tensorflow-intel==2.15.0->tensorflow) (1.24.3)\n",
      "Requirement already satisfied: opt-einsum>=2.3.2 in c:\\users\\61\\anaconda3\\lib\\site-packages (from tensorflow-intel==2.15.0->tensorflow) (3.3.0)\n",
      "Requirement already satisfied: packaging in c:\\users\\61\\anaconda3\\lib\\site-packages (from tensorflow-intel==2.15.0->tensorflow) (23.1)\n",
      "Requirement already satisfied: protobuf!=4.21.0,!=4.21.1,!=4.21.2,!=4.21.3,!=4.21.4,!=4.21.5,<5.0.0dev,>=3.20.3 in c:\\users\\61\\anaconda3\\lib\\site-packages (from tensorflow-intel==2.15.0->tensorflow) (4.23.4)\n",
      "Requirement already satisfied: setuptools in c:\\users\\61\\anaconda3\\lib\\site-packages (from tensorflow-intel==2.15.0->tensorflow) (69.0.3)\n",
      "Requirement already satisfied: six>=1.12.0 in c:\\users\\61\\anaconda3\\lib\\site-packages (from tensorflow-intel==2.15.0->tensorflow) (1.16.0)\n",
      "Requirement already satisfied: termcolor>=1.1.0 in c:\\users\\61\\anaconda3\\lib\\site-packages (from tensorflow-intel==2.15.0->tensorflow) (2.4.0)\n",
      "Requirement already satisfied: typing-extensions>=3.6.6 in c:\\users\\61\\anaconda3\\lib\\site-packages (from tensorflow-intel==2.15.0->tensorflow) (4.7.1)\n",
      "Requirement already satisfied: wrapt<1.15,>=1.11.0 in c:\\users\\61\\anaconda3\\lib\\site-packages (from tensorflow-intel==2.15.0->tensorflow) (1.14.1)\n",
      "Requirement already satisfied: tensorflow-io-gcs-filesystem>=0.23.1 in c:\\users\\61\\anaconda3\\lib\\site-packages (from tensorflow-intel==2.15.0->tensorflow) (0.31.0)\n",
      "Requirement already satisfied: grpcio<2.0,>=1.24.3 in c:\\users\\61\\anaconda3\\lib\\site-packages (from tensorflow-intel==2.15.0->tensorflow) (1.60.0)\n",
      "Requirement already satisfied: tensorboard<2.16,>=2.15 in c:\\users\\61\\anaconda3\\lib\\site-packages (from tensorflow-intel==2.15.0->tensorflow) (2.15.1)\n",
      "Requirement already satisfied: tensorflow-estimator<2.16,>=2.15.0 in c:\\users\\61\\anaconda3\\lib\\site-packages (from tensorflow-intel==2.15.0->tensorflow) (2.15.0)\n",
      "Requirement already satisfied: keras<2.16,>=2.15.0 in c:\\users\\61\\anaconda3\\lib\\site-packages (from tensorflow-intel==2.15.0->tensorflow) (2.15.0)\n",
      "Requirement already satisfied: wheel<1.0,>=0.23.0 in c:\\users\\61\\anaconda3\\lib\\site-packages (from astunparse>=1.6.0->tensorflow-intel==2.15.0->tensorflow) (0.42.0)\n",
      "Requirement already satisfied: google-auth<3,>=1.6.3 in c:\\users\\61\\anaconda3\\lib\\site-packages (from tensorboard<2.16,>=2.15->tensorflow-intel==2.15.0->tensorflow) (2.27.0)\n",
      "Requirement already satisfied: google-auth-oauthlib<2,>=0.5 in c:\\users\\61\\anaconda3\\lib\\site-packages (from tensorboard<2.16,>=2.15->tensorflow-intel==2.15.0->tensorflow) (1.2.0)\n",
      "Requirement already satisfied: markdown>=2.6.8 in c:\\users\\61\\anaconda3\\lib\\site-packages (from tensorboard<2.16,>=2.15->tensorflow-intel==2.15.0->tensorflow) (3.4.1)\n",
      "Requirement already satisfied: requests<3,>=2.21.0 in c:\\users\\61\\anaconda3\\lib\\site-packages (from tensorboard<2.16,>=2.15->tensorflow-intel==2.15.0->tensorflow) (2.31.0)\n",
      "Requirement already satisfied: tensorboard-data-server<0.8.0,>=0.7.0 in c:\\users\\61\\anaconda3\\lib\\site-packages (from tensorboard<2.16,>=2.15->tensorflow-intel==2.15.0->tensorflow) (0.7.2)\n",
      "Requirement already satisfied: werkzeug>=1.0.1 in c:\\users\\61\\anaconda3\\lib\\site-packages (from tensorboard<2.16,>=2.15->tensorflow-intel==2.15.0->tensorflow) (2.2.3)\n",
      "Requirement already satisfied: cachetools<6.0,>=2.0.0 in c:\\users\\61\\anaconda3\\lib\\site-packages (from google-auth<3,>=1.6.3->tensorboard<2.16,>=2.15->tensorflow-intel==2.15.0->tensorflow) (5.3.2)\n",
      "Requirement already satisfied: pyasn1-modules>=0.2.1 in c:\\users\\61\\anaconda3\\lib\\site-packages (from google-auth<3,>=1.6.3->tensorboard<2.16,>=2.15->tensorflow-intel==2.15.0->tensorflow) (0.2.8)\n",
      "Requirement already satisfied: rsa<5,>=3.1.4 in c:\\users\\61\\anaconda3\\lib\\site-packages (from google-auth<3,>=1.6.3->tensorboard<2.16,>=2.15->tensorflow-intel==2.15.0->tensorflow) (4.9)\n",
      "Requirement already satisfied: requests-oauthlib>=0.7.0 in c:\\users\\61\\anaconda3\\lib\\site-packages (from google-auth-oauthlib<2,>=0.5->tensorboard<2.16,>=2.15->tensorflow-intel==2.15.0->tensorflow) (1.3.1)\n",
      "Requirement already satisfied: charset-normalizer<4,>=2 in c:\\users\\61\\anaconda3\\lib\\site-packages (from requests<3,>=2.21.0->tensorboard<2.16,>=2.15->tensorflow-intel==2.15.0->tensorflow) (2.0.4)\n",
      "Requirement already satisfied: idna<4,>=2.5 in c:\\users\\61\\anaconda3\\lib\\site-packages (from requests<3,>=2.21.0->tensorboard<2.16,>=2.15->tensorflow-intel==2.15.0->tensorflow) (3.4)\n",
      "Requirement already satisfied: urllib3<3,>=1.21.1 in c:\\users\\61\\anaconda3\\lib\\site-packages (from requests<3,>=2.21.0->tensorboard<2.16,>=2.15->tensorflow-intel==2.15.0->tensorflow) (1.26.16)\n",
      "Requirement already satisfied: certifi>=2017.4.17 in c:\\users\\61\\anaconda3\\lib\\site-packages (from requests<3,>=2.21.0->tensorboard<2.16,>=2.15->tensorflow-intel==2.15.0->tensorflow) (2023.7.22)\n",
      "Requirement already satisfied: MarkupSafe>=2.1.1 in c:\\users\\61\\anaconda3\\lib\\site-packages (from werkzeug>=1.0.1->tensorboard<2.16,>=2.15->tensorflow-intel==2.15.0->tensorflow) (2.1.1)\n",
      "Requirement already satisfied: pyasn1<0.5.0,>=0.4.6 in c:\\users\\61\\anaconda3\\lib\\site-packages (from pyasn1-modules>=0.2.1->google-auth<3,>=1.6.3->tensorboard<2.16,>=2.15->tensorflow-intel==2.15.0->tensorflow) (0.4.8)\n",
      "Requirement already satisfied: oauthlib>=3.0.0 in c:\\users\\61\\anaconda3\\lib\\site-packages (from requests-oauthlib>=0.7.0->google-auth-oauthlib<2,>=0.5->tensorboard<2.16,>=2.15->tensorflow-intel==2.15.0->tensorflow) (3.2.2)\n",
      "Requirement already satisfied: rouge_score in c:\\users\\61\\anaconda3\\lib\\site-packages (0.1.2)\n",
      "Requirement already satisfied: absl-py in c:\\users\\61\\anaconda3\\lib\\site-packages (from rouge_score) (2.1.0)\n",
      "Requirement already satisfied: nltk in c:\\users\\61\\anaconda3\\lib\\site-packages (from rouge_score) (3.8.1)\n",
      "Requirement already satisfied: numpy in c:\\users\\61\\anaconda3\\lib\\site-packages (from rouge_score) (1.24.3)\n",
      "Requirement already satisfied: six>=1.14.0 in c:\\users\\61\\anaconda3\\lib\\site-packages (from rouge_score) (1.16.0)\n",
      "Requirement already satisfied: click in c:\\users\\61\\anaconda3\\lib\\site-packages (from nltk->rouge_score) (8.0.4)\n",
      "Requirement already satisfied: joblib in c:\\users\\61\\anaconda3\\lib\\site-packages (from nltk->rouge_score) (1.2.0)\n",
      "Requirement already satisfied: regex>=2021.8.3 in c:\\users\\61\\anaconda3\\lib\\site-packages (from nltk->rouge_score) (2022.7.9)\n",
      "Requirement already satisfied: tqdm in c:\\users\\61\\anaconda3\\lib\\site-packages (from nltk->rouge_score) (4.65.0)\n",
      "Requirement already satisfied: colorama in c:\\users\\61\\anaconda3\\lib\\site-packages (from click->nltk->rouge_score) (0.4.6)\n",
      "Requirement already satisfied: evaluate in c:\\users\\61\\anaconda3\\lib\\site-packages (0.4.1)\n",
      "Requirement already satisfied: datasets>=2.0.0 in c:\\users\\61\\anaconda3\\lib\\site-packages (from evaluate) (2.16.1)\n",
      "Requirement already satisfied: numpy>=1.17 in c:\\users\\61\\anaconda3\\lib\\site-packages (from evaluate) (1.24.3)\n",
      "Requirement already satisfied: dill in c:\\users\\61\\anaconda3\\lib\\site-packages (from evaluate) (0.3.7)\n",
      "Requirement already satisfied: pandas in c:\\users\\61\\anaconda3\\lib\\site-packages (from evaluate) (2.0.3)\n",
      "Requirement already satisfied: requests>=2.19.0 in c:\\users\\61\\anaconda3\\lib\\site-packages (from evaluate) (2.31.0)\n",
      "Requirement already satisfied: tqdm>=4.62.1 in c:\\users\\61\\anaconda3\\lib\\site-packages (from evaluate) (4.65.0)\n",
      "Requirement already satisfied: xxhash in c:\\users\\61\\anaconda3\\lib\\site-packages (from evaluate) (3.4.1)\n",
      "Requirement already satisfied: multiprocess in c:\\users\\61\\anaconda3\\lib\\site-packages (from evaluate) (0.70.15)\n",
      "Requirement already satisfied: fsspec[http]>=2021.05.0 in c:\\users\\61\\anaconda3\\lib\\site-packages (from evaluate) (2023.10.0)\n",
      "Requirement already satisfied: huggingface-hub>=0.7.0 in c:\\users\\61\\anaconda3\\lib\\site-packages (from evaluate) (0.20.3)\n",
      "Requirement already satisfied: packaging in c:\\users\\61\\anaconda3\\lib\\site-packages (from evaluate) (23.1)\n",
      "Requirement already satisfied: responses<0.19 in c:\\users\\61\\anaconda3\\lib\\site-packages (from evaluate) (0.18.0)\n",
      "Requirement already satisfied: filelock in c:\\users\\61\\anaconda3\\lib\\site-packages (from datasets>=2.0.0->evaluate) (3.9.0)\n",
      "Requirement already satisfied: pyarrow>=8.0.0 in c:\\users\\61\\anaconda3\\lib\\site-packages (from datasets>=2.0.0->evaluate) (15.0.0)\n",
      "Requirement already satisfied: pyarrow-hotfix in c:\\users\\61\\anaconda3\\lib\\site-packages (from datasets>=2.0.0->evaluate) (0.6)\n",
      "Requirement already satisfied: aiohttp in c:\\users\\61\\anaconda3\\lib\\site-packages (from datasets>=2.0.0->evaluate) (3.8.3)\n",
      "Requirement already satisfied: pyyaml>=5.1 in c:\\users\\61\\anaconda3\\lib\\site-packages (from datasets>=2.0.0->evaluate) (6.0)\n",
      "Requirement already satisfied: typing-extensions>=3.7.4.3 in c:\\users\\61\\anaconda3\\lib\\site-packages (from huggingface-hub>=0.7.0->evaluate) (4.7.1)\n",
      "Requirement already satisfied: charset-normalizer<4,>=2 in c:\\users\\61\\anaconda3\\lib\\site-packages (from requests>=2.19.0->evaluate) (2.0.4)\n",
      "Requirement already satisfied: idna<4,>=2.5 in c:\\users\\61\\anaconda3\\lib\\site-packages (from requests>=2.19.0->evaluate) (3.4)\n",
      "Requirement already satisfied: urllib3<3,>=1.21.1 in c:\\users\\61\\anaconda3\\lib\\site-packages (from requests>=2.19.0->evaluate) (1.26.16)\n",
      "Requirement already satisfied: certifi>=2017.4.17 in c:\\users\\61\\anaconda3\\lib\\site-packages (from requests>=2.19.0->evaluate) (2023.7.22)\n",
      "Requirement already satisfied: colorama in c:\\users\\61\\anaconda3\\lib\\site-packages (from tqdm>=4.62.1->evaluate) (0.4.6)\n",
      "Requirement already satisfied: python-dateutil>=2.8.2 in c:\\users\\61\\anaconda3\\lib\\site-packages (from pandas->evaluate) (2.8.2)\n",
      "Requirement already satisfied: pytz>=2020.1 in c:\\users\\61\\anaconda3\\lib\\site-packages (from pandas->evaluate) (2022.7)\n",
      "Requirement already satisfied: tzdata>=2022.1 in c:\\users\\61\\anaconda3\\lib\\site-packages (from pandas->evaluate) (2023.3)\n",
      "Requirement already satisfied: attrs>=17.3.0 in c:\\users\\61\\anaconda3\\lib\\site-packages (from aiohttp->datasets>=2.0.0->evaluate) (22.1.0)\n",
      "Requirement already satisfied: multidict<7.0,>=4.5 in c:\\users\\61\\anaconda3\\lib\\site-packages (from aiohttp->datasets>=2.0.0->evaluate) (6.0.2)\n",
      "Requirement already satisfied: async-timeout<5.0,>=4.0.0a3 in c:\\users\\61\\anaconda3\\lib\\site-packages (from aiohttp->datasets>=2.0.0->evaluate) (4.0.2)\n",
      "Requirement already satisfied: yarl<2.0,>=1.0 in c:\\users\\61\\anaconda3\\lib\\site-packages (from aiohttp->datasets>=2.0.0->evaluate) (1.8.1)\n",
      "Requirement already satisfied: frozenlist>=1.1.1 in c:\\users\\61\\anaconda3\\lib\\site-packages (from aiohttp->datasets>=2.0.0->evaluate) (1.3.3)\n",
      "Requirement already satisfied: aiosignal>=1.1.2 in c:\\users\\61\\anaconda3\\lib\\site-packages (from aiohttp->datasets>=2.0.0->evaluate) (1.2.0)\n",
      "Requirement already satisfied: six>=1.5 in c:\\users\\61\\anaconda3\\lib\\site-packages (from python-dateutil>=2.8.2->pandas->evaluate) (1.16.0)\n"
     ]
    },
    {
     "name": "stdout",
     "output_type": "stream",
     "text": [
      "Requirement already satisfied: torch in c:\\users\\61\\anaconda3\\lib\\site-packages (2.1.2)\n",
      "Requirement already satisfied: filelock in c:\\users\\61\\anaconda3\\lib\\site-packages (from torch) (3.9.0)\n",
      "Requirement already satisfied: typing-extensions in c:\\users\\61\\anaconda3\\lib\\site-packages (from torch) (4.7.1)\n",
      "Requirement already satisfied: sympy in c:\\users\\61\\anaconda3\\lib\\site-packages (from torch) (1.11.1)\n",
      "Requirement already satisfied: networkx in c:\\users\\61\\anaconda3\\lib\\site-packages (from torch) (3.1)\n",
      "Requirement already satisfied: jinja2 in c:\\users\\61\\anaconda3\\lib\\site-packages (from torch) (3.1.2)\n",
      "Requirement already satisfied: fsspec in c:\\users\\61\\anaconda3\\lib\\site-packages (from torch) (2023.10.0)\n",
      "Requirement already satisfied: MarkupSafe>=2.0 in c:\\users\\61\\anaconda3\\lib\\site-packages (from jinja2->torch) (2.1.1)\n",
      "Requirement already satisfied: mpmath>=0.19 in c:\\users\\61\\anaconda3\\lib\\site-packages (from sympy->torch) (1.3.0)\n",
      "Requirement already satisfied: transformers in c:\\users\\61\\anaconda3\\lib\\site-packages (4.37.1)\n",
      "Requirement already satisfied: filelock in c:\\users\\61\\anaconda3\\lib\\site-packages (from transformers) (3.9.0)\n",
      "Requirement already satisfied: huggingface-hub<1.0,>=0.19.3 in c:\\users\\61\\anaconda3\\lib\\site-packages (from transformers) (0.20.3)\n",
      "Requirement already satisfied: numpy>=1.17 in c:\\users\\61\\anaconda3\\lib\\site-packages (from transformers) (1.24.3)\n",
      "Requirement already satisfied: packaging>=20.0 in c:\\users\\61\\anaconda3\\lib\\site-packages (from transformers) (23.1)\n",
      "Requirement already satisfied: pyyaml>=5.1 in c:\\users\\61\\anaconda3\\lib\\site-packages (from transformers) (6.0)\n",
      "Requirement already satisfied: regex!=2019.12.17 in c:\\users\\61\\anaconda3\\lib\\site-packages (from transformers) (2022.7.9)\n",
      "Requirement already satisfied: requests in c:\\users\\61\\anaconda3\\lib\\site-packages (from transformers) (2.31.0)\n",
      "Requirement already satisfied: tokenizers<0.19,>=0.14 in c:\\users\\61\\anaconda3\\lib\\site-packages (from transformers) (0.15.1)\n",
      "Requirement already satisfied: safetensors>=0.3.1 in c:\\users\\61\\anaconda3\\lib\\site-packages (from transformers) (0.4.2)\n",
      "Requirement already satisfied: tqdm>=4.27 in c:\\users\\61\\anaconda3\\lib\\site-packages (from transformers) (4.65.0)\n",
      "Requirement already satisfied: fsspec>=2023.5.0 in c:\\users\\61\\anaconda3\\lib\\site-packages (from huggingface-hub<1.0,>=0.19.3->transformers) (2023.10.0)\n",
      "Requirement already satisfied: typing-extensions>=3.7.4.3 in c:\\users\\61\\anaconda3\\lib\\site-packages (from huggingface-hub<1.0,>=0.19.3->transformers) (4.7.1)\n",
      "Requirement already satisfied: colorama in c:\\users\\61\\anaconda3\\lib\\site-packages (from tqdm>=4.27->transformers) (0.4.6)\n",
      "Requirement already satisfied: charset-normalizer<4,>=2 in c:\\users\\61\\anaconda3\\lib\\site-packages (from requests->transformers) (2.0.4)\n",
      "Requirement already satisfied: idna<4,>=2.5 in c:\\users\\61\\anaconda3\\lib\\site-packages (from requests->transformers) (3.4)\n",
      "Requirement already satisfied: urllib3<3,>=1.21.1 in c:\\users\\61\\anaconda3\\lib\\site-packages (from requests->transformers) (1.26.16)\n",
      "Requirement already satisfied: certifi>=2017.4.17 in c:\\users\\61\\anaconda3\\lib\\site-packages (from requests->transformers) (2023.7.22)\n",
      "Requirement already satisfied: datasets in c:\\users\\61\\anaconda3\\lib\\site-packages (2.16.1)\n",
      "Requirement already satisfied: filelock in c:\\users\\61\\anaconda3\\lib\\site-packages (from datasets) (3.9.0)\n",
      "Requirement already satisfied: numpy>=1.17 in c:\\users\\61\\anaconda3\\lib\\site-packages (from datasets) (1.24.3)\n",
      "Requirement already satisfied: pyarrow>=8.0.0 in c:\\users\\61\\anaconda3\\lib\\site-packages (from datasets) (15.0.0)\n",
      "Requirement already satisfied: pyarrow-hotfix in c:\\users\\61\\anaconda3\\lib\\site-packages (from datasets) (0.6)\n",
      "Requirement already satisfied: dill<0.3.8,>=0.3.0 in c:\\users\\61\\anaconda3\\lib\\site-packages (from datasets) (0.3.7)\n",
      "Requirement already satisfied: pandas in c:\\users\\61\\anaconda3\\lib\\site-packages (from datasets) (2.0.3)\n",
      "Requirement already satisfied: requests>=2.19.0 in c:\\users\\61\\anaconda3\\lib\\site-packages (from datasets) (2.31.0)\n",
      "Requirement already satisfied: tqdm>=4.62.1 in c:\\users\\61\\anaconda3\\lib\\site-packages (from datasets) (4.65.0)\n",
      "Requirement already satisfied: xxhash in c:\\users\\61\\anaconda3\\lib\\site-packages (from datasets) (3.4.1)\n",
      "Requirement already satisfied: multiprocess in c:\\users\\61\\anaconda3\\lib\\site-packages (from datasets) (0.70.15)\n",
      "Requirement already satisfied: fsspec[http]<=2023.10.0,>=2023.1.0 in c:\\users\\61\\anaconda3\\lib\\site-packages (from datasets) (2023.10.0)\n",
      "Requirement already satisfied: aiohttp in c:\\users\\61\\anaconda3\\lib\\site-packages (from datasets) (3.8.3)\n",
      "Requirement already satisfied: huggingface-hub>=0.19.4 in c:\\users\\61\\anaconda3\\lib\\site-packages (from datasets) (0.20.3)\n",
      "Requirement already satisfied: packaging in c:\\users\\61\\anaconda3\\lib\\site-packages (from datasets) (23.1)\n",
      "Requirement already satisfied: pyyaml>=5.1 in c:\\users\\61\\anaconda3\\lib\\site-packages (from datasets) (6.0)\n",
      "Requirement already satisfied: attrs>=17.3.0 in c:\\users\\61\\anaconda3\\lib\\site-packages (from aiohttp->datasets) (22.1.0)\n",
      "Requirement already satisfied: charset-normalizer<3.0,>=2.0 in c:\\users\\61\\anaconda3\\lib\\site-packages (from aiohttp->datasets) (2.0.4)\n",
      "Requirement already satisfied: multidict<7.0,>=4.5 in c:\\users\\61\\anaconda3\\lib\\site-packages (from aiohttp->datasets) (6.0.2)\n",
      "Requirement already satisfied: async-timeout<5.0,>=4.0.0a3 in c:\\users\\61\\anaconda3\\lib\\site-packages (from aiohttp->datasets) (4.0.2)\n",
      "Requirement already satisfied: yarl<2.0,>=1.0 in c:\\users\\61\\anaconda3\\lib\\site-packages (from aiohttp->datasets) (1.8.1)\n",
      "Requirement already satisfied: frozenlist>=1.1.1 in c:\\users\\61\\anaconda3\\lib\\site-packages (from aiohttp->datasets) (1.3.3)\n",
      "Requirement already satisfied: aiosignal>=1.1.2 in c:\\users\\61\\anaconda3\\lib\\site-packages (from aiohttp->datasets) (1.2.0)\n",
      "Requirement already satisfied: typing-extensions>=3.7.4.3 in c:\\users\\61\\anaconda3\\lib\\site-packages (from huggingface-hub>=0.19.4->datasets) (4.7.1)\n",
      "Requirement already satisfied: idna<4,>=2.5 in c:\\users\\61\\anaconda3\\lib\\site-packages (from requests>=2.19.0->datasets) (3.4)\n",
      "Requirement already satisfied: urllib3<3,>=1.21.1 in c:\\users\\61\\anaconda3\\lib\\site-packages (from requests>=2.19.0->datasets) (1.26.16)\n",
      "Requirement already satisfied: certifi>=2017.4.17 in c:\\users\\61\\anaconda3\\lib\\site-packages (from requests>=2.19.0->datasets) (2023.7.22)\n",
      "Requirement already satisfied: colorama in c:\\users\\61\\anaconda3\\lib\\site-packages (from tqdm>=4.62.1->datasets) (0.4.6)\n",
      "Requirement already satisfied: python-dateutil>=2.8.2 in c:\\users\\61\\anaconda3\\lib\\site-packages (from pandas->datasets) (2.8.2)\n",
      "Requirement already satisfied: pytz>=2020.1 in c:\\users\\61\\anaconda3\\lib\\site-packages (from pandas->datasets) (2022.7)\n",
      "Requirement already satisfied: tzdata>=2022.1 in c:\\users\\61\\anaconda3\\lib\\site-packages (from pandas->datasets) (2023.3)\n",
      "Requirement already satisfied: six>=1.5 in c:\\users\\61\\anaconda3\\lib\\site-packages (from python-dateutil>=2.8.2->pandas->datasets) (1.16.0)\n",
      "Requirement already satisfied: tqdm in c:\\users\\61\\anaconda3\\lib\\site-packages (4.65.0)\n",
      "Requirement already satisfied: colorama in c:\\users\\61\\anaconda3\\lib\\site-packages (from tqdm) (0.4.6)\n",
      "Requirement already satisfied: rouge_score in c:\\users\\61\\anaconda3\\lib\\site-packages (0.1.2)\n",
      "Requirement already satisfied: absl-py in c:\\users\\61\\anaconda3\\lib\\site-packages (from rouge_score) (2.1.0)\n",
      "Requirement already satisfied: nltk in c:\\users\\61\\anaconda3\\lib\\site-packages (from rouge_score) (3.8.1)\n",
      "Requirement already satisfied: numpy in c:\\users\\61\\anaconda3\\lib\\site-packages (from rouge_score) (1.24.3)\n",
      "Requirement already satisfied: six>=1.14.0 in c:\\users\\61\\anaconda3\\lib\\site-packages (from rouge_score) (1.16.0)\n",
      "Requirement already satisfied: click in c:\\users\\61\\anaconda3\\lib\\site-packages (from nltk->rouge_score) (8.0.4)\n",
      "Requirement already satisfied: joblib in c:\\users\\61\\anaconda3\\lib\\site-packages (from nltk->rouge_score) (1.2.0)\n",
      "Requirement already satisfied: regex>=2021.8.3 in c:\\users\\61\\anaconda3\\lib\\site-packages (from nltk->rouge_score) (2022.7.9)\n",
      "Requirement already satisfied: tqdm in c:\\users\\61\\anaconda3\\lib\\site-packages (from nltk->rouge_score) (4.65.0)\n",
      "Requirement already satisfied: colorama in c:\\users\\61\\anaconda3\\lib\\site-packages (from click->nltk->rouge_score) (0.4.6)\n"
     ]
    }
   ],
   "source": [
    "!pip install tensorflow\n",
    "!pip install rouge_score\n",
    "!pip install evaluate\n",
    "!pip install torch\n",
    "!pip install transformers\n",
    "!pip install datasets\n",
    "!pip install tqdm\n",
    "!pip install rouge_score"
   ]
  },
  {
   "cell_type": "code",
   "execution_count": 2,
   "metadata": {
    "executionInfo": {
     "elapsed": 5846,
     "status": "ok",
     "timestamp": 1706691871959,
     "user": {
      "displayName": "yi Liu",
      "userId": "06730254382051748854"
     },
     "user_tz": 300
    },
    "id": "NY3Fhdib9BjR"
   },
   "outputs": [
    {
     "name": "stdout",
     "output_type": "stream",
     "text": [
      "WARNING:tensorflow:From C:\\Users\\61\\anaconda3\\Lib\\site-packages\\keras\\src\\losses.py:2976: The name tf.losses.sparse_softmax_cross_entropy is deprecated. Please use tf.compat.v1.losses.sparse_softmax_cross_entropy instead.\n",
      "\n"
     ]
    }
   ],
   "source": [
    "import tensorflow as tf\n",
    "import pandas as pd\n",
    "import numpy as np\n",
    "import re\n",
    "import matplotlib.pyplot as plt\n",
    "from sklearn.model_selection import train_test_split, GridSearchCV\n",
    "from sklearn.metrics import make_scorer\n",
    "import torch\n",
    "from torch.nn.utils.rnn import pad_sequence\n",
    "from torch.utils.data import TensorDataset, DataLoader\n",
    "from transformers import BartTokenizer, BartForConditionalGeneration, AdamW, get_linear_schedule_with_warmup\n",
    "from sklearn.model_selection import train_test_split\n",
    "from tqdm import tqdm\n",
    "import pandas as pd\n",
    "from rouge_score import rouge_scorer\n",
    "from torch.cuda.amp import autocast, GradScaler\n",
    "import string\n",
    "from torch.nn.utils import clip_grad_norm_"
   ]
  },
  {
   "cell_type": "markdown",
   "metadata": {},
   "source": [
    "#### Config GPU"
   ]
  },
  {
   "cell_type": "code",
   "execution_count": 3,
   "metadata": {
    "colab": {
     "base_uri": "https://localhost:8080/"
    },
    "executionInfo": {
     "elapsed": 735,
     "status": "ok",
     "timestamp": 1706691872690,
     "user": {
      "displayName": "yi Liu",
      "userId": "06730254382051748854"
     },
     "user_tz": 300
    },
    "id": "Q4RZCGf29BjS",
    "outputId": "dd64f84f-64c6-4ce2-b91e-0d237e34c4d0"
   },
   "outputs": [
    {
     "data": {
      "text/plain": [
       "[]"
      ]
     },
     "execution_count": 3,
     "metadata": {},
     "output_type": "execute_result"
    }
   ],
   "source": [
    "tf.config.list_physical_devices('GPU')"
   ]
  },
  {
   "cell_type": "code",
   "execution_count": 4,
   "metadata": {
    "colab": {
     "base_uri": "https://localhost:8080/"
    },
    "executionInfo": {
     "elapsed": 389,
     "status": "ok",
     "timestamp": 1706691873071,
     "user": {
      "displayName": "yi Liu",
      "userId": "06730254382051748854"
     },
     "user_tz": 300
    },
    "id": "2Gmib0oE9BjS",
    "outputId": "92cd9067-38a4-4a1d-e1e0-7447e88e7d18"
   },
   "outputs": [
    {
     "name": "stdout",
     "output_type": "stream",
     "text": [
      "WARNING:tensorflow:From C:\\Users\\61\\AppData\\Local\\Temp\\ipykernel_52048\\3004751869.py:3: is_gpu_available (from tensorflow.python.framework.test_util) is deprecated and will be removed in a future version.\n",
      "Instructions for updating:\n",
      "Use `tf.config.list_physical_devices('GPU')` instead.\n"
     ]
    },
    {
     "data": {
      "text/plain": [
       "False"
      ]
     },
     "execution_count": 4,
     "metadata": {},
     "output_type": "execute_result"
    }
   ],
   "source": [
    "tf.config.list_physical_devices('GPU')\n",
    "\n",
    "tf.test.is_gpu_available()"
   ]
  },
  {
   "cell_type": "markdown",
   "metadata": {
    "executionInfo": {
     "elapsed": 8,
     "status": "ok",
     "timestamp": 1706691873073,
     "user": {
      "displayName": "yi Liu",
      "userId": "06730254382051748854"
     },
     "user_tz": 300
    },
    "id": "8Tx3913N9BjT"
   },
   "source": [
    "# Loading Dataset"
   ]
  },
  {
   "cell_type": "code",
   "execution_count": 5,
   "metadata": {
    "executionInfo": {
     "elapsed": 554,
     "status": "ok",
     "timestamp": 1706691938211,
     "user": {
      "displayName": "yi Liu",
      "userId": "06730254382051748854"
     },
     "user_tz": 300
    },
    "id": "MkGa4PVO9BjU"
   },
   "outputs": [],
   "source": [
    "df = pd.read_csv(\"merge_df2.csv\")"
   ]
  },
  {
   "cell_type": "code",
   "execution_count": 6,
   "metadata": {
    "colab": {
     "base_uri": "https://localhost:8080/",
     "height": 510
    },
    "executionInfo": {
     "elapsed": 9,
     "status": "ok",
     "timestamp": 1706691938212,
     "user": {
      "displayName": "yi Liu",
      "userId": "06730254382051748854"
     },
     "user_tz": 300
    },
    "id": "Kx379VD69BjU",
    "outputId": "cbc630da-aa9d-4656-9de9-9eb5ebddbb82"
   },
   "outputs": [
    {
     "data": {
      "text/html": [
       "<div>\n",
       "<style scoped>\n",
       "    .dataframe tbody tr th:only-of-type {\n",
       "        vertical-align: middle;\n",
       "    }\n",
       "\n",
       "    .dataframe tbody tr th {\n",
       "        vertical-align: top;\n",
       "    }\n",
       "\n",
       "    .dataframe thead th {\n",
       "        text-align: right;\n",
       "    }\n",
       "</style>\n",
       "<table border=\"1\" class=\"dataframe\">\n",
       "  <thead>\n",
       "    <tr style=\"text-align: right;\">\n",
       "      <th></th>\n",
       "      <th>Unnamed: 0</th>\n",
       "      <th>File_path</th>\n",
       "      <th>Articles</th>\n",
       "      <th>Summaries</th>\n",
       "    </tr>\n",
       "  </thead>\n",
       "  <tbody>\n",
       "    <tr>\n",
       "      <th>0</th>\n",
       "      <td>0</td>\n",
       "      <td>politics</td>\n",
       "      <td>Budget to set scene for election..Gordon Brown...</td>\n",
       "      <td>- Increase in the stamp duty threshold from £6...</td>\n",
       "    </tr>\n",
       "    <tr>\n",
       "      <th>1</th>\n",
       "      <td>1</td>\n",
       "      <td>politics</td>\n",
       "      <td>Army chiefs in regiments decision..Military ch...</td>\n",
       "      <td>\"They are very much not for the good and will ...</td>\n",
       "    </tr>\n",
       "    <tr>\n",
       "      <th>2</th>\n",
       "      <td>2</td>\n",
       "      <td>politics</td>\n",
       "      <td>Howard denies split over ID cards..Michael How...</td>\n",
       "      <td>Michael Howard has denied his shadow cabinet w...</td>\n",
       "    </tr>\n",
       "    <tr>\n",
       "      <th>3</th>\n",
       "      <td>3</td>\n",
       "      <td>politics</td>\n",
       "      <td>Observers to monitor UK election..Ministers wi...</td>\n",
       "      <td>The report said individual registration should...</td>\n",
       "    </tr>\n",
       "    <tr>\n",
       "      <th>4</th>\n",
       "      <td>4</td>\n",
       "      <td>politics</td>\n",
       "      <td>Kilroy names election seat target..Ex-chat sho...</td>\n",
       "      <td>UKIP's leader, Roger Knapman, has said he is g...</td>\n",
       "    </tr>\n",
       "    <tr>\n",
       "      <th>...</th>\n",
       "      <td>...</td>\n",
       "      <td>...</td>\n",
       "      <td>...</td>\n",
       "      <td>...</td>\n",
       "    </tr>\n",
       "    <tr>\n",
       "      <th>5444</th>\n",
       "      <td>5444</td>\n",
       "      <td>accidents</td>\n",
       "      <td>HONG KONG  —   Hundreds of pilot whales that s...</td>\n",
       "      <td>more than 500 rescuers tried frantically to se...</td>\n",
       "    </tr>\n",
       "    <tr>\n",
       "      <th>5445</th>\n",
       "      <td>5445</td>\n",
       "      <td>sports</td>\n",
       "      <td>NICE, France  —     Rivère accepts the complim...</td>\n",
       "      <td>Signing balotelli was not just a way to garner...</td>\n",
       "    </tr>\n",
       "    <tr>\n",
       "      <th>5446</th>\n",
       "      <td>5446</td>\n",
       "      <td>business</td>\n",
       "      <td>FRANKFURT  —   Germans who never really warmed...</td>\n",
       "      <td>Although there was no evidence of that the bun...</td>\n",
       "    </tr>\n",
       "    <tr>\n",
       "      <th>5447</th>\n",
       "      <td>5447</td>\n",
       "      <td>sports</td>\n",
       "      <td>Charles Oakley has strong feelings about compe...</td>\n",
       "      <td>He questioned why any n. b. a. free agent woul...</td>\n",
       "    </tr>\n",
       "    <tr>\n",
       "      <th>5448</th>\n",
       "      <td>5448</td>\n",
       "      <td>lifestyle</td>\n",
       "      <td>Hans Rosling, a Swedish doctor who transformed...</td>\n",
       "      <td>There are so many who think that death keeps c...</td>\n",
       "    </tr>\n",
       "  </tbody>\n",
       "</table>\n",
       "<p>5449 rows × 4 columns</p>\n",
       "</div>"
      ],
      "text/plain": [
       "      Unnamed: 0  File_path  \\\n",
       "0              0   politics   \n",
       "1              1   politics   \n",
       "2              2   politics   \n",
       "3              3   politics   \n",
       "4              4   politics   \n",
       "...          ...        ...   \n",
       "5444        5444  accidents   \n",
       "5445        5445     sports   \n",
       "5446        5446   business   \n",
       "5447        5447     sports   \n",
       "5448        5448  lifestyle   \n",
       "\n",
       "                                               Articles  \\\n",
       "0     Budget to set scene for election..Gordon Brown...   \n",
       "1     Army chiefs in regiments decision..Military ch...   \n",
       "2     Howard denies split over ID cards..Michael How...   \n",
       "3     Observers to monitor UK election..Ministers wi...   \n",
       "4     Kilroy names election seat target..Ex-chat sho...   \n",
       "...                                                 ...   \n",
       "5444  HONG KONG  —   Hundreds of pilot whales that s...   \n",
       "5445  NICE, France  —     Rivère accepts the complim...   \n",
       "5446  FRANKFURT  —   Germans who never really warmed...   \n",
       "5447  Charles Oakley has strong feelings about compe...   \n",
       "5448  Hans Rosling, a Swedish doctor who transformed...   \n",
       "\n",
       "                                              Summaries  \n",
       "0     - Increase in the stamp duty threshold from £6...  \n",
       "1     \"They are very much not for the good and will ...  \n",
       "2     Michael Howard has denied his shadow cabinet w...  \n",
       "3     The report said individual registration should...  \n",
       "4     UKIP's leader, Roger Knapman, has said he is g...  \n",
       "...                                                 ...  \n",
       "5444  more than 500 rescuers tried frantically to se...  \n",
       "5445  Signing balotelli was not just a way to garner...  \n",
       "5446  Although there was no evidence of that the bun...  \n",
       "5447  He questioned why any n. b. a. free agent woul...  \n",
       "5448  There are so many who think that death keeps c...  \n",
       "\n",
       "[5449 rows x 4 columns]"
      ]
     },
     "execution_count": 6,
     "metadata": {},
     "output_type": "execute_result"
    }
   ],
   "source": [
    "df"
   ]
  },
  {
   "cell_type": "markdown",
   "metadata": {},
   "source": [
    "#### Show the sum of missing values of features in the dataset"
   ]
  },
  {
   "cell_type": "code",
   "execution_count": 7,
   "metadata": {},
   "outputs": [
    {
     "name": "stdout",
     "output_type": "stream",
     "text": [
      "<class 'pandas.core.frame.DataFrame'>\n",
      "RangeIndex: 5449 entries, 0 to 5448\n",
      "Data columns (total 4 columns):\n",
      " #   Column      Non-Null Count  Dtype \n",
      "---  ------      --------------  ----- \n",
      " 0   Unnamed: 0  5449 non-null   int64 \n",
      " 1   File_path   5449 non-null   object\n",
      " 2   Articles    5449 non-null   object\n",
      " 3   Summaries   5449 non-null   object\n",
      "dtypes: int64(1), object(3)\n",
      "memory usage: 170.4+ KB\n"
     ]
    }
   ],
   "source": [
    "df.info()"
   ]
  },
  {
   "cell_type": "code",
   "execution_count": 8,
   "metadata": {},
   "outputs": [
    {
     "data": {
      "text/plain": [
       "(5449, 4)"
      ]
     },
     "execution_count": 8,
     "metadata": {},
     "output_type": "execute_result"
    }
   ],
   "source": [
    "df.shape"
   ]
  },
  {
   "cell_type": "code",
   "execution_count": 9,
   "metadata": {},
   "outputs": [
    {
     "data": {
      "text/plain": [
       "array(['politics', 'sport', 'tech', 'entertainment', 'business', 'crime',\n",
       "       'technology', 'art', 'science', 'health', 'architecture',\n",
       "       'lifestyle', 'sports', 'law', 'accidents', 'environment '],\n",
       "      dtype=object)"
      ]
     },
     "execution_count": 9,
     "metadata": {},
     "output_type": "execute_result"
    }
   ],
   "source": [
    "df['File_path'].unique()"
   ]
  },
  {
   "cell_type": "markdown",
   "metadata": {},
   "source": [
    "#### Rename some categories and show data distribution"
   ]
  },
  {
   "cell_type": "code",
   "execution_count": 10,
   "metadata": {},
   "outputs": [],
   "source": [
    "# Define a dictionary to map old values to new values\n",
    "value_mapping = {'sport': 'sports', 'tech': 'technology'}\n",
    "\n",
    "# Replace values in the DataFrame using the replace method\n",
    "df = df.replace(value_mapping)"
   ]
  },
  {
   "cell_type": "code",
   "execution_count": 11,
   "metadata": {},
   "outputs": [
    {
     "data": {
      "text/plain": [
       "array(['politics', 'sports', 'technology', 'entertainment', 'business',\n",
       "       'crime', 'art', 'science', 'health', 'architecture', 'lifestyle',\n",
       "       'law', 'accidents', 'environment '], dtype=object)"
      ]
     },
     "execution_count": 11,
     "metadata": {},
     "output_type": "execute_result"
    }
   ],
   "source": [
    "df['File_path'].unique()"
   ]
  },
  {
   "cell_type": "code",
   "execution_count": 12,
   "metadata": {},
   "outputs": [
    {
     "data": {
      "text/html": [
       "<div>\n",
       "<style scoped>\n",
       "    .dataframe tbody tr th:only-of-type {\n",
       "        vertical-align: middle;\n",
       "    }\n",
       "\n",
       "    .dataframe tbody tr th {\n",
       "        vertical-align: top;\n",
       "    }\n",
       "\n",
       "    .dataframe thead th {\n",
       "        text-align: right;\n",
       "    }\n",
       "</style>\n",
       "<table border=\"1\" class=\"dataframe\">\n",
       "  <thead>\n",
       "    <tr style=\"text-align: right;\">\n",
       "      <th></th>\n",
       "      <th>Unnamed: 0</th>\n",
       "      <th>File_path</th>\n",
       "      <th>Articles</th>\n",
       "      <th>Summaries</th>\n",
       "    </tr>\n",
       "  </thead>\n",
       "  <tbody>\n",
       "    <tr>\n",
       "      <th>0</th>\n",
       "      <td>0</td>\n",
       "      <td>politics</td>\n",
       "      <td>Budget to set scene for election..Gordon Brown...</td>\n",
       "      <td>- Increase in the stamp duty threshold from £6...</td>\n",
       "    </tr>\n",
       "    <tr>\n",
       "      <th>1</th>\n",
       "      <td>1</td>\n",
       "      <td>politics</td>\n",
       "      <td>Army chiefs in regiments decision..Military ch...</td>\n",
       "      <td>\"They are very much not for the good and will ...</td>\n",
       "    </tr>\n",
       "    <tr>\n",
       "      <th>2</th>\n",
       "      <td>2</td>\n",
       "      <td>politics</td>\n",
       "      <td>Howard denies split over ID cards..Michael How...</td>\n",
       "      <td>Michael Howard has denied his shadow cabinet w...</td>\n",
       "    </tr>\n",
       "    <tr>\n",
       "      <th>3</th>\n",
       "      <td>3</td>\n",
       "      <td>politics</td>\n",
       "      <td>Observers to monitor UK election..Ministers wi...</td>\n",
       "      <td>The report said individual registration should...</td>\n",
       "    </tr>\n",
       "    <tr>\n",
       "      <th>4</th>\n",
       "      <td>4</td>\n",
       "      <td>politics</td>\n",
       "      <td>Kilroy names election seat target..Ex-chat sho...</td>\n",
       "      <td>UKIP's leader, Roger Knapman, has said he is g...</td>\n",
       "    </tr>\n",
       "    <tr>\n",
       "      <th>...</th>\n",
       "      <td>...</td>\n",
       "      <td>...</td>\n",
       "      <td>...</td>\n",
       "      <td>...</td>\n",
       "    </tr>\n",
       "    <tr>\n",
       "      <th>5444</th>\n",
       "      <td>5444</td>\n",
       "      <td>accidents</td>\n",
       "      <td>HONG KONG  —   Hundreds of pilot whales that s...</td>\n",
       "      <td>more than 500 rescuers tried frantically to se...</td>\n",
       "    </tr>\n",
       "    <tr>\n",
       "      <th>5445</th>\n",
       "      <td>5445</td>\n",
       "      <td>sports</td>\n",
       "      <td>NICE, France  —     Rivère accepts the complim...</td>\n",
       "      <td>Signing balotelli was not just a way to garner...</td>\n",
       "    </tr>\n",
       "    <tr>\n",
       "      <th>5446</th>\n",
       "      <td>5446</td>\n",
       "      <td>business</td>\n",
       "      <td>FRANKFURT  —   Germans who never really warmed...</td>\n",
       "      <td>Although there was no evidence of that the bun...</td>\n",
       "    </tr>\n",
       "    <tr>\n",
       "      <th>5447</th>\n",
       "      <td>5447</td>\n",
       "      <td>sports</td>\n",
       "      <td>Charles Oakley has strong feelings about compe...</td>\n",
       "      <td>He questioned why any n. b. a. free agent woul...</td>\n",
       "    </tr>\n",
       "    <tr>\n",
       "      <th>5448</th>\n",
       "      <td>5448</td>\n",
       "      <td>lifestyle</td>\n",
       "      <td>Hans Rosling, a Swedish doctor who transformed...</td>\n",
       "      <td>There are so many who think that death keeps c...</td>\n",
       "    </tr>\n",
       "  </tbody>\n",
       "</table>\n",
       "<p>5449 rows × 4 columns</p>\n",
       "</div>"
      ],
      "text/plain": [
       "      Unnamed: 0  File_path  \\\n",
       "0              0   politics   \n",
       "1              1   politics   \n",
       "2              2   politics   \n",
       "3              3   politics   \n",
       "4              4   politics   \n",
       "...          ...        ...   \n",
       "5444        5444  accidents   \n",
       "5445        5445     sports   \n",
       "5446        5446   business   \n",
       "5447        5447     sports   \n",
       "5448        5448  lifestyle   \n",
       "\n",
       "                                               Articles  \\\n",
       "0     Budget to set scene for election..Gordon Brown...   \n",
       "1     Army chiefs in regiments decision..Military ch...   \n",
       "2     Howard denies split over ID cards..Michael How...   \n",
       "3     Observers to monitor UK election..Ministers wi...   \n",
       "4     Kilroy names election seat target..Ex-chat sho...   \n",
       "...                                                 ...   \n",
       "5444  HONG KONG  —   Hundreds of pilot whales that s...   \n",
       "5445  NICE, France  —     Rivère accepts the complim...   \n",
       "5446  FRANKFURT  —   Germans who never really warmed...   \n",
       "5447  Charles Oakley has strong feelings about compe...   \n",
       "5448  Hans Rosling, a Swedish doctor who transformed...   \n",
       "\n",
       "                                              Summaries  \n",
       "0     - Increase in the stamp duty threshold from £6...  \n",
       "1     \"They are very much not for the good and will ...  \n",
       "2     Michael Howard has denied his shadow cabinet w...  \n",
       "3     The report said individual registration should...  \n",
       "4     UKIP's leader, Roger Knapman, has said he is g...  \n",
       "...                                                 ...  \n",
       "5444  more than 500 rescuers tried frantically to se...  \n",
       "5445  Signing balotelli was not just a way to garner...  \n",
       "5446  Although there was no evidence of that the bun...  \n",
       "5447  He questioned why any n. b. a. free agent woul...  \n",
       "5448  There are so many who think that death keeps c...  \n",
       "\n",
       "[5449 rows x 4 columns]"
      ]
     },
     "execution_count": 12,
     "metadata": {},
     "output_type": "execute_result"
    }
   ],
   "source": [
    "df"
   ]
  },
  {
   "cell_type": "code",
   "execution_count": 13,
   "metadata": {},
   "outputs": [
    {
     "data": {
      "image/png": "[encoded data removed]",
      "text/plain": [
       "<Figure size 1200x600 with 1 Axes>"
      ]
     },
     "metadata": {},
     "output_type": "display_data"
    }
   ],
   "source": [
    "# Count the occurrences of each class\n",
    "category_counts = df['File_path'].value_counts()\n",
    "\n",
    "# Plot the result\n",
    "plt.figure(figsize=(12, 6))\n",
    "category_counts.plot(kind='bar', color='skyblue', edgecolor='black')\n",
    "\n",
    "# Add labels and title\n",
    "plt.xlabel('Category')\n",
    "plt.ylabel('Count')\n",
    "plt.title('Distribution of Categories in the Dataset')\n",
    "\n",
    "# Display the count values on top of each bar\n",
    "for i, count in enumerate(category_counts):\n",
    "    plt.text(i, count + 0.1, str(count), ha='center', va='bottom')\n",
    "\n",
    "plt.show()"
   ]
  },
  {
   "cell_type": "markdown",
   "metadata": {},
   "source": [
    "### Cleaning Summerization Text"
   ]
  },
  {
   "cell_type": "code",
   "execution_count": 14,
   "metadata": {},
   "outputs": [],
   "source": [
    "# function to make lower case\n",
    "def to_lowercase(text):\n",
    "    return text.str.lower()\n",
    "#remove extra whitespaces and tabs\n",
    "def remove_extra_whitespace_tabs(text):\n",
    "    pattern = r'^\\s+|\\s+$'\n",
    "    return text.str.replace(pattern, '')\n",
    "\n",
    "# Function to remove special characters (keeping full stops)\n",
    "def remove_special_characters(text):\n",
    "    special_characters_pattern = r'[^a-zA-Z0-9\\s]'\n",
    "    text_without_special_chars = text.str.replace(special_characters_pattern, '')\n",
    "    return text_without_special_chars\n",
    "\n",
    "# Function to remove specific characters\n",
    "def remove_specific_characters(text):\n",
    "    # regular expression pattern for the characters to remove\n",
    "    pattern = r'\\.{2,}|[—!&$%^`\\\"_+=~:?;,\\/-]+|\\n|\\t'\n",
    "     \n",
    "    # replace matches with an empty string\n",
    "    cleaned_text = text.apply(lambda x: re.sub(pattern, ' ', x))\n",
    "    \n",
    "    # Remove extra white spaces\n",
    "    cleaned_text = cleaned_text.apply(lambda x: ' '.join(x.split()))\n",
    "    return cleaned_text"
   ]
  },
  {
   "cell_type": "code",
   "execution_count": 15,
   "metadata": {},
   "outputs": [
    {
     "data": {
      "text/plain": [
       "0       budget to set scene for election..gordon brown...\n",
       "1       army chiefs in regiments decision..military ch...\n",
       "2       howard denies split over id cards..michael how...\n",
       "3       observers to monitor uk election..ministers wi...\n",
       "4       kilroy names election seat target..ex-chat sho...\n",
       "                              ...                        \n",
       "5444    hong kong  —   hundreds of pilot whales that s...\n",
       "5445    nice, france  —     rivère accepts the complim...\n",
       "5446    frankfurt  —   germans who never really warmed...\n",
       "5447    charles oakley has strong feelings about compe...\n",
       "5448    hans rosling, a swedish doctor who transformed...\n",
       "Name: Articles, Length: 5449, dtype: object"
      ]
     },
     "execution_count": 15,
     "metadata": {},
     "output_type": "execute_result"
    }
   ],
   "source": [
    "df['Articles'] = to_lowercase(df['Articles'])\n",
    "df['Articles']"
   ]
  },
  {
   "cell_type": "code",
   "execution_count": 16,
   "metadata": {},
   "outputs": [
    {
     "data": {
      "text/plain": [
       "0       budget to set scene for election..gordon brown...\n",
       "1       army chiefs in regiments decision..military ch...\n",
       "2       howard denies split over id cards..michael how...\n",
       "3       observers to monitor uk election..ministers wi...\n",
       "4       kilroy names election seat target..ex-chat sho...\n",
       "                              ...                        \n",
       "5444    hong kong  —   hundreds of pilot whales that s...\n",
       "5445    nice, france  —     rivère accepts the complim...\n",
       "5446    frankfurt  —   germans who never really warmed...\n",
       "5447    charles oakley has strong feelings about compe...\n",
       "5448    hans rosling, a swedish doctor who transformed...\n",
       "Name: Articles, Length: 5449, dtype: object"
      ]
     },
     "execution_count": 16,
     "metadata": {},
     "output_type": "execute_result"
    }
   ],
   "source": [
    "# remove extra white space and tabs\n",
    "df['Articles'] = remove_extra_whitespace_tabs(df['Articles'])\n",
    "df['Articles']"
   ]
  },
  {
   "cell_type": "code",
   "execution_count": 17,
   "metadata": {},
   "outputs": [
    {
     "data": {
      "text/plain": [
       "0       budget to set scene for election..gordon brown...\n",
       "1       army chiefs in regiments decision..military ch...\n",
       "2       howard denies split over id cards..michael how...\n",
       "3       observers to monitor uk election..ministers wi...\n",
       "4       kilroy names election seat target..ex-chat sho...\n",
       "                              ...                        \n",
       "5444    hong kong  —   hundreds of pilot whales that s...\n",
       "5445    nice, france  —     rivère accepts the complim...\n",
       "5446    frankfurt  —   germans who never really warmed...\n",
       "5447    charles oakley has strong feelings about compe...\n",
       "5448    hans rosling, a swedish doctor who transformed...\n",
       "Name: Articles, Length: 5449, dtype: object"
      ]
     },
     "execution_count": 17,
     "metadata": {},
     "output_type": "execute_result"
    }
   ],
   "source": [
    "# remove special characters\n",
    "df['Articles'] = remove_special_characters(df['Articles'])\n",
    "df['Articles']"
   ]
  },
  {
   "cell_type": "code",
   "execution_count": 18,
   "metadata": {},
   "outputs": [
    {
     "data": {
      "text/plain": [
       "0       budget to set scene for election gordon brown ...\n",
       "1       army chiefs in regiments decision military chi...\n",
       "2       howard denies split over id cards michael howa...\n",
       "3       observers to monitor uk election ministers wil...\n",
       "4       kilroy names election seat target ex chat show...\n",
       "                              ...                        \n",
       "5444    hong kong hundreds of pilot whales that swam i...\n",
       "5445    nice france rivère accepts the compliment but ...\n",
       "5446    frankfurt germans who never really warmed up t...\n",
       "5447    charles oakley has strong feelings about compe...\n",
       "5448    hans rosling a swedish doctor who transformed ...\n",
       "Name: Articles, Length: 5449, dtype: object"
      ]
     },
     "execution_count": 18,
     "metadata": {},
     "output_type": "execute_result"
    }
   ],
   "source": [
    "df['Articles'] = remove_specific_characters(df['Articles'])\n",
    "df['Articles']"
   ]
  },
  {
   "cell_type": "code",
   "execution_count": 19,
   "metadata": {},
   "outputs": [],
   "source": [
    "#### Filter categories and work on sports only"
   ]
  },
  {
   "cell_type": "code",
   "execution_count": 20,
   "metadata": {
    "executionInfo": {
     "elapsed": 6,
     "status": "ok",
     "timestamp": 1706691938212,
     "user": {
      "displayName": "yi Liu",
      "userId": "06730254382051748854"
     },
     "user_tz": 300
    },
    "id": "9ONeMTJY9BjU"
   },
   "outputs": [],
   "source": [
    "filtered_df = df[df['File_path'].isin(['sports'])]"
   ]
  },
  {
   "cell_type": "code",
   "execution_count": 21,
   "metadata": {
    "colab": {
     "base_uri": "https://localhost:8080/",
     "height": 424
    },
    "executionInfo": {
     "elapsed": 6,
     "status": "ok",
     "timestamp": 1706691938212,
     "user": {
      "displayName": "yi Liu",
      "userId": "06730254382051748854"
     },
     "user_tz": 300
    },
    "id": "x9cJHzSJ9BjV",
    "outputId": "06b9e587-9df4-423a-97d1-644ef702842b"
   },
   "outputs": [
    {
     "data": {
      "text/html": [
       "<div>\n",
       "<style scoped>\n",
       "    .dataframe tbody tr th:only-of-type {\n",
       "        vertical-align: middle;\n",
       "    }\n",
       "\n",
       "    .dataframe tbody tr th {\n",
       "        vertical-align: top;\n",
       "    }\n",
       "\n",
       "    .dataframe thead th {\n",
       "        text-align: right;\n",
       "    }\n",
       "</style>\n",
       "<table border=\"1\" class=\"dataframe\">\n",
       "  <thead>\n",
       "    <tr style=\"text-align: right;\">\n",
       "      <th></th>\n",
       "      <th>Unnamed: 0</th>\n",
       "      <th>File_path</th>\n",
       "      <th>Articles</th>\n",
       "      <th>Summaries</th>\n",
       "    </tr>\n",
       "  </thead>\n",
       "  <tbody>\n",
       "    <tr>\n",
       "      <th>417</th>\n",
       "      <td>417</td>\n",
       "      <td>sports</td>\n",
       "      <td>hodges announces rugby retirement scarlets and...</td>\n",
       "      <td>The 36-year-old, who has 54 caps, was Llanelli...</td>\n",
       "    </tr>\n",
       "    <tr>\n",
       "      <th>418</th>\n",
       "      <td>418</td>\n",
       "      <td>sports</td>\n",
       "      <td>bomb threat at bernabeu stadium spectators wer...</td>\n",
       "      <td>Spectators were evacuated from Real Madrid's B...</td>\n",
       "    </tr>\n",
       "    <tr>\n",
       "      <th>419</th>\n",
       "      <td>419</td>\n",
       "      <td>sports</td>\n",
       "      <td>parmar ruled out of davis cup tie a knee injur...</td>\n",
       "      <td>The unheralded Sherwood was the surprise inclu...</td>\n",
       "    </tr>\n",
       "    <tr>\n",
       "      <th>420</th>\n",
       "      <td>420</td>\n",
       "      <td>sports</td>\n",
       "      <td>benitez issues warning to gerrard liverpool ma...</td>\n",
       "      <td>Benitez responded: \"I spoke to Steven and said...</td>\n",
       "    </tr>\n",
       "    <tr>\n",
       "      <th>421</th>\n",
       "      <td>421</td>\n",
       "      <td>sports</td>\n",
       "      <td>officials respond in court row australian tenn...</td>\n",
       "      <td>Hewitt said he had had a \"gutful\" of trying to...</td>\n",
       "    </tr>\n",
       "    <tr>\n",
       "      <th>...</th>\n",
       "      <td>...</td>\n",
       "      <td>...</td>\n",
       "      <td>...</td>\n",
       "      <td>...</td>\n",
       "    </tr>\n",
       "    <tr>\n",
       "      <th>5404</th>\n",
       "      <td>5404</td>\n",
       "      <td>sports</td>\n",
       "      <td>many of the world’s winter athletes now prepar...</td>\n",
       "      <td>as olympic officials review the evidence deliv...</td>\n",
       "    </tr>\n",
       "    <tr>\n",
       "      <th>5411</th>\n",
       "      <td>5411</td>\n",
       "      <td>sports</td>\n",
       "      <td>the sale of a major league sports team always ...</td>\n",
       "      <td>would fans or sponsors boycott or embrace the ...</td>\n",
       "    </tr>\n",
       "    <tr>\n",
       "      <th>5436</th>\n",
       "      <td>5436</td>\n",
       "      <td>sports</td>\n",
       "      <td>welcome to our picks a guide to the best stuff...</td>\n",
       "      <td>enjoy them for the first time when you have so...</td>\n",
       "    </tr>\n",
       "    <tr>\n",
       "      <th>5445</th>\n",
       "      <td>5445</td>\n",
       "      <td>sports</td>\n",
       "      <td>nice france rivère accepts the compliment but ...</td>\n",
       "      <td>Signing balotelli was not just a way to garner...</td>\n",
       "    </tr>\n",
       "    <tr>\n",
       "      <th>5447</th>\n",
       "      <td>5447</td>\n",
       "      <td>sports</td>\n",
       "      <td>charles oakley has strong feelings about compe...</td>\n",
       "      <td>He questioned why any n. b. a. free agent woul...</td>\n",
       "    </tr>\n",
       "  </tbody>\n",
       "</table>\n",
       "<p>1051 rows × 4 columns</p>\n",
       "</div>"
      ],
      "text/plain": [
       "      Unnamed: 0 File_path                                           Articles  \\\n",
       "417          417    sports  hodges announces rugby retirement scarlets and...   \n",
       "418          418    sports  bomb threat at bernabeu stadium spectators wer...   \n",
       "419          419    sports  parmar ruled out of davis cup tie a knee injur...   \n",
       "420          420    sports  benitez issues warning to gerrard liverpool ma...   \n",
       "421          421    sports  officials respond in court row australian tenn...   \n",
       "...          ...       ...                                                ...   \n",
       "5404        5404    sports  many of the world’s winter athletes now prepar...   \n",
       "5411        5411    sports  the sale of a major league sports team always ...   \n",
       "5436        5436    sports  welcome to our picks a guide to the best stuff...   \n",
       "5445        5445    sports  nice france rivère accepts the compliment but ...   \n",
       "5447        5447    sports  charles oakley has strong feelings about compe...   \n",
       "\n",
       "                                              Summaries  \n",
       "417   The 36-year-old, who has 54 caps, was Llanelli...  \n",
       "418   Spectators were evacuated from Real Madrid's B...  \n",
       "419   The unheralded Sherwood was the surprise inclu...  \n",
       "420   Benitez responded: \"I spoke to Steven and said...  \n",
       "421   Hewitt said he had had a \"gutful\" of trying to...  \n",
       "...                                                 ...  \n",
       "5404  as olympic officials review the evidence deliv...  \n",
       "5411  would fans or sponsors boycott or embrace the ...  \n",
       "5436  enjoy them for the first time when you have so...  \n",
       "5445  Signing balotelli was not just a way to garner...  \n",
       "5447  He questioned why any n. b. a. free agent woul...  \n",
       "\n",
       "[1051 rows x 4 columns]"
      ]
     },
     "execution_count": 21,
     "metadata": {},
     "output_type": "execute_result"
    }
   ],
   "source": [
    "filtered_df"
   ]
  },
  {
   "cell_type": "code",
   "execution_count": 22,
   "metadata": {
    "executionInfo": {
     "elapsed": 228,
     "status": "ok",
     "timestamp": 1706691938435,
     "user": {
      "displayName": "yi Liu",
      "userId": "06730254382051748854"
     },
     "user_tz": 300
    },
    "id": "Im2Ftsy0ZoJV"
   },
   "outputs": [],
   "source": [
    "def remove_emojis_and_symbols(text):\n",
    "    # Remove emojis\n",
    "    text = re.sub(r'[\\U00010000-\\U0010ffff]', '', text)\n",
    "    # Remove non-alphanumeric symbols\n",
    "    text = re.sub(r'[^a-zA-Z0-9\\s]', '', text)\n",
    "    return text"
   ]
  },
  {
   "cell_type": "code",
   "execution_count": 23,
   "metadata": {
    "colab": {
     "base_uri": "https://localhost:8080/"
    },
    "executionInfo": {
     "elapsed": 16,
     "status": "ok",
     "timestamp": 1706691938435,
     "user": {
      "displayName": "yi Liu",
      "userId": "06730254382051748854"
     },
     "user_tz": 300
    },
    "id": "1xvKV0yVZpSp",
    "outputId": "7c946372-4596-40d2-98db-9288a0522da4"
   },
   "outputs": [
    {
     "name": "stderr",
     "output_type": "stream",
     "text": [
      "C:\\Users\\61\\AppData\\Local\\Temp\\ipykernel_52048\\2494307040.py:1: SettingWithCopyWarning: \n",
      "A value is trying to be set on a copy of a slice from a DataFrame.\n",
      "Try using .loc[row_indexer,col_indexer] = value instead\n",
      "\n",
      "See the caveats in the documentation: https://pandas.pydata.org/pandas-docs/stable/user_guide/indexing.html#returning-a-view-versus-a-copy\n",
      "  filtered_df['Articles'] = filtered_df['Articles'].apply(remove_emojis_and_symbols)\n"
     ]
    }
   ],
   "source": [
    "filtered_df['Articles'] = filtered_df['Articles'].apply(remove_emojis_and_symbols)"
   ]
  },
  {
   "cell_type": "code",
   "execution_count": 24,
   "metadata": {
    "colab": {
     "base_uri": "https://localhost:8080/"
    },
    "executionInfo": {
     "elapsed": 6,
     "status": "ok",
     "timestamp": 1706691938436,
     "user": {
      "displayName": "yi Liu",
      "userId": "06730254382051748854"
     },
     "user_tz": 300
    },
    "id": "_y6UOWfHZxMl",
    "outputId": "627acc17-3328-4356-9963-403ea752be19"
   },
   "outputs": [
    {
     "name": "stderr",
     "output_type": "stream",
     "text": [
      "C:\\Users\\61\\AppData\\Local\\Temp\\ipykernel_52048\\969203157.py:1: SettingWithCopyWarning: \n",
      "A value is trying to be set on a copy of a slice from a DataFrame.\n",
      "Try using .loc[row_indexer,col_indexer] = value instead\n",
      "\n",
      "See the caveats in the documentation: https://pandas.pydata.org/pandas-docs/stable/user_guide/indexing.html#returning-a-view-versus-a-copy\n",
      "  filtered_df['Summaries'] = filtered_df['Summaries'].apply(remove_emojis_and_symbols)\n"
     ]
    }
   ],
   "source": [
    "filtered_df['Summaries'] = filtered_df['Summaries'].apply(remove_emojis_and_symbols)"
   ]
  },
  {
   "cell_type": "code",
   "execution_count": 25,
   "metadata": {
    "colab": {
     "base_uri": "https://localhost:8080/",
     "height": 424
    },
    "executionInfo": {
     "elapsed": 4,
     "status": "ok",
     "timestamp": 1706691938436,
     "user": {
      "displayName": "yi Liu",
      "userId": "06730254382051748854"
     },
     "user_tz": 300
    },
    "id": "w8-2xoTDZ9Sx",
    "outputId": "13916561-9eaf-4c9f-b617-d1d55114f297"
   },
   "outputs": [
    {
     "data": {
      "text/html": [
       "<div>\n",
       "<style scoped>\n",
       "    .dataframe tbody tr th:only-of-type {\n",
       "        vertical-align: middle;\n",
       "    }\n",
       "\n",
       "    .dataframe tbody tr th {\n",
       "        vertical-align: top;\n",
       "    }\n",
       "\n",
       "    .dataframe thead th {\n",
       "        text-align: right;\n",
       "    }\n",
       "</style>\n",
       "<table border=\"1\" class=\"dataframe\">\n",
       "  <thead>\n",
       "    <tr style=\"text-align: right;\">\n",
       "      <th></th>\n",
       "      <th>Unnamed: 0</th>\n",
       "      <th>File_path</th>\n",
       "      <th>Articles</th>\n",
       "      <th>Summaries</th>\n",
       "    </tr>\n",
       "  </thead>\n",
       "  <tbody>\n",
       "    <tr>\n",
       "      <th>417</th>\n",
       "      <td>417</td>\n",
       "      <td>sports</td>\n",
       "      <td>hodges announces rugby retirement scarlets and...</td>\n",
       "      <td>The 36yearold who has 54 caps was Llanellis pl...</td>\n",
       "    </tr>\n",
       "    <tr>\n",
       "      <th>418</th>\n",
       "      <td>418</td>\n",
       "      <td>sports</td>\n",
       "      <td>bomb threat at bernabeu stadium spectators wer...</td>\n",
       "      <td>Spectators were evacuated from Real Madrids Be...</td>\n",
       "    </tr>\n",
       "    <tr>\n",
       "      <th>419</th>\n",
       "      <td>419</td>\n",
       "      <td>sports</td>\n",
       "      <td>parmar ruled out of davis cup tie a knee injur...</td>\n",
       "      <td>The unheralded Sherwood was the surprise inclu...</td>\n",
       "    </tr>\n",
       "    <tr>\n",
       "      <th>420</th>\n",
       "      <td>420</td>\n",
       "      <td>sports</td>\n",
       "      <td>benitez issues warning to gerrard liverpool ma...</td>\n",
       "      <td>Benitez responded I spoke to Steven and said t...</td>\n",
       "    </tr>\n",
       "    <tr>\n",
       "      <th>421</th>\n",
       "      <td>421</td>\n",
       "      <td>sports</td>\n",
       "      <td>officials respond in court row australian tenn...</td>\n",
       "      <td>Hewitt said he had had a gutful of trying to p...</td>\n",
       "    </tr>\n",
       "    <tr>\n",
       "      <th>...</th>\n",
       "      <td>...</td>\n",
       "      <td>...</td>\n",
       "      <td>...</td>\n",
       "      <td>...</td>\n",
       "    </tr>\n",
       "    <tr>\n",
       "      <th>5404</th>\n",
       "      <td>5404</td>\n",
       "      <td>sports</td>\n",
       "      <td>many of the worlds winter athletes now prepari...</td>\n",
       "      <td>as olympic officials review the evidence deliv...</td>\n",
       "    </tr>\n",
       "    <tr>\n",
       "      <th>5411</th>\n",
       "      <td>5411</td>\n",
       "      <td>sports</td>\n",
       "      <td>the sale of a major league sports team always ...</td>\n",
       "      <td>would fans or sponsors boycott or embrace the ...</td>\n",
       "    </tr>\n",
       "    <tr>\n",
       "      <th>5436</th>\n",
       "      <td>5436</td>\n",
       "      <td>sports</td>\n",
       "      <td>welcome to our picks a guide to the best stuff...</td>\n",
       "      <td>enjoy them for the first time when you have so...</td>\n",
       "    </tr>\n",
       "    <tr>\n",
       "      <th>5445</th>\n",
       "      <td>5445</td>\n",
       "      <td>sports</td>\n",
       "      <td>nice france rivre accepts the compliment but r...</td>\n",
       "      <td>Signing balotelli was not just a way to garner...</td>\n",
       "    </tr>\n",
       "    <tr>\n",
       "      <th>5447</th>\n",
       "      <td>5447</td>\n",
       "      <td>sports</td>\n",
       "      <td>charles oakley has strong feelings about compe...</td>\n",
       "      <td>He questioned why any n b a free agent would w...</td>\n",
       "    </tr>\n",
       "  </tbody>\n",
       "</table>\n",
       "<p>1051 rows × 4 columns</p>\n",
       "</div>"
      ],
      "text/plain": [
       "      Unnamed: 0 File_path                                           Articles  \\\n",
       "417          417    sports  hodges announces rugby retirement scarlets and...   \n",
       "418          418    sports  bomb threat at bernabeu stadium spectators wer...   \n",
       "419          419    sports  parmar ruled out of davis cup tie a knee injur...   \n",
       "420          420    sports  benitez issues warning to gerrard liverpool ma...   \n",
       "421          421    sports  officials respond in court row australian tenn...   \n",
       "...          ...       ...                                                ...   \n",
       "5404        5404    sports  many of the worlds winter athletes now prepari...   \n",
       "5411        5411    sports  the sale of a major league sports team always ...   \n",
       "5436        5436    sports  welcome to our picks a guide to the best stuff...   \n",
       "5445        5445    sports  nice france rivre accepts the compliment but r...   \n",
       "5447        5447    sports  charles oakley has strong feelings about compe...   \n",
       "\n",
       "                                              Summaries  \n",
       "417   The 36yearold who has 54 caps was Llanellis pl...  \n",
       "418   Spectators were evacuated from Real Madrids Be...  \n",
       "419   The unheralded Sherwood was the surprise inclu...  \n",
       "420   Benitez responded I spoke to Steven and said t...  \n",
       "421   Hewitt said he had had a gutful of trying to p...  \n",
       "...                                                 ...  \n",
       "5404  as olympic officials review the evidence deliv...  \n",
       "5411  would fans or sponsors boycott or embrace the ...  \n",
       "5436  enjoy them for the first time when you have so...  \n",
       "5445  Signing balotelli was not just a way to garner...  \n",
       "5447  He questioned why any n b a free agent would w...  \n",
       "\n",
       "[1051 rows x 4 columns]"
      ]
     },
     "execution_count": 25,
     "metadata": {},
     "output_type": "execute_result"
    }
   ],
   "source": [
    "filtered_df"
   ]
  },
  {
   "cell_type": "code",
   "execution_count": 26,
   "metadata": {
    "colab": {
     "base_uri": "https://localhost:8080/",
     "height": 688
    },
    "executionInfo": {
     "elapsed": 525,
     "status": "ok",
     "timestamp": 1706691938958,
     "user": {
      "displayName": "yi Liu",
      "userId": "06730254382051748854"
     },
     "user_tz": 300
    },
    "id": "x2cJynotvtjU",
    "outputId": "8999f9c4-28d4-47a6-ae70-291731fac9ad"
   },
   "outputs": [
    {
     "name": "stderr",
     "output_type": "stream",
     "text": [
      "C:\\Users\\61\\AppData\\Local\\Temp\\ipykernel_52048\\2625111853.py:1: SettingWithCopyWarning: \n",
      "A value is trying to be set on a copy of a slice from a DataFrame.\n",
      "Try using .loc[row_indexer,col_indexer] = value instead\n",
      "\n",
      "See the caveats in the documentation: https://pandas.pydata.org/pandas-docs/stable/user_guide/indexing.html#returning-a-view-versus-a-copy\n",
      "  filtered_df['Summary_Length'] = filtered_df['Summaries'].apply(lambda x: len(x.split()))\n"
     ]
    },
    {
     "data": {
      "image/png": "[encoded data removed]",
      "text/plain": [
       "<Figure size 1000x600 with 1 Axes>"
      ]
     },
     "metadata": {},
     "output_type": "display_data"
    }
   ],
   "source": [
    "filtered_df['Summary_Length'] = filtered_df['Summaries'].apply(lambda x: len(x.split()))\n",
    "\n",
    "# Plotting the distribution\n",
    "plt.figure(figsize=(10, 6))\n",
    "plt.hist(filtered_df['Summary_Length'], bins=30, color='skyblue', edgecolor='black')\n",
    "plt.title('Distribution of Summary Lengths')\n",
    "plt.xlabel('Summary Length')\n",
    "plt.ylabel('Frequency')\n",
    "plt.grid(axis='y', linestyle='--', alpha=0.7)\n",
    "\n",
    "# Show the plot\n",
    "plt.show()"
   ]
  },
  {
   "cell_type": "code",
   "execution_count": 27,
   "metadata": {
    "colab": {
     "base_uri": "https://localhost:8080/",
     "height": 269,
     "referenced_widgets": [
      "3d1d8342961440d98cfef08d50924708",
      "45da6859736e495a8a77cbebb4d40723",
      "559dbbaee20f425da6d8ad2e57f35fdd",
      "8588cbedb10747fc99cfe2b62949ec05",
      "3b4e202dbb1b4a989008b1cba2e08602",
      "241e64ce314e48349339373f02363530",
      "7679cc0f07ac4444bb61317fe2d32e69",
      "d6b6cb5b4dea404788a205a2dd219fed",
      "d0bd9c2b8bc549b8b1c3a4a26550396f",
      "baffb2458c244330b09196103c6bf259",
      "5a1b2ac8f3a64be29fd7e5266f7f7307",
      "32b76883b14a484ba965309fcaec0a7e",
      "f7accb0c37864189986fac311fc2fdf5",
      "2ad67142637c4c09b07765345c0dec90",
      "187cd6acc6a54c17b0a3d10e14d26831",
      "fc539ae74bd049b381e6291326f90f2e",
      "d9c61f6990ff45f1ab4980cbb43ed15e",
      "7718a074f48e458781cc8589be779162",
      "b7ab9e20648c420f88b8eaa69707b45f",
      "633dfaa7fd98486082d44621a7c682b6",
      "78b2664a0d0a4df49754460563f02568",
      "c0d7a631364343a59152cccc102261d5",
      "a009577267fb4a8d8c3e2d4a943982a2",
      "3965c5b36a034de8b382ade7e3380a03",
      "0ae39c5834c2440a8e131b0579245d9a",
      "199a180e2cd84cfc961fb0a964183513",
      "b50e53b51ff349e7b5e80d2c7db0f13d",
      "b505dd59aecd4b849916402d13b97972",
      "f2db634e8f7745e9b74d617b1ffcaf85",
      "9d4e9deffa214caca44cc74d68fc2e08",
      "81471b6479ac4240b5c46df64a355964",
      "b1face2523b84067a6607a7c80cfa575",
      "3db636f85c6840b8a7fd4753b81d6943",
      "7e9386c4b2d245c5824588bd5eedce75",
      "ac4e66bd39664871967a5da4e77ea3c5",
      "7f8eb3c512224030bd1ca9d75fc95f00",
      "b04aa4d6c7994b4e8e026f729b4f6f4a",
      "0b31e74eabf04f4f911667266ca7c4dc",
      "81de4189edc84b6abed046687eb8b3a1",
      "2b8e44c5550e443c8aa7925514c485c8",
      "8348fe6b040a40e4a2506f0cc9c5c190",
      "730d8a7990a04fdf90ca95377b7d1142",
      "d6156dbce2244320a8b327578b171833",
      "82cf530977254a568e98c9a2c1b883fc"
     ]
    },
    "executionInfo": {
     "elapsed": 1447,
     "status": "ok",
     "timestamp": 1706691950398,
     "user": {
      "displayName": "yi Liu",
      "userId": "06730254382051748854"
     },
     "user_tz": 300
    },
    "id": "o_-sZXe59BjV",
    "outputId": "2e112e11-7241-48f4-ba23-80758737a5a5"
   },
   "outputs": [],
   "source": [
    "#device to GPU\n",
    "device = torch.device(\"cuda\" if torch.cuda.is_available() else \"cpu\")\n",
    "\n",
    "# Tokenize and preprocess the text data\n",
    "tokenizer = BartTokenizer.from_pretrained('facebook/bart-base')\n",
    "max_length = 1024  # Maximum sequence length"
   ]
  },
  {
   "cell_type": "code",
   "execution_count": 28,
   "metadata": {
    "colab": {
     "base_uri": "https://localhost:8080/"
    },
    "executionInfo": {
     "elapsed": 4241,
     "status": "ok",
     "timestamp": 1706691954636,
     "user": {
      "displayName": "yi Liu",
      "userId": "06730254382051748854"
     },
     "user_tz": 300
    },
    "id": "IQL-oB4_9BjV",
    "outputId": "746bcfea-c9c4-471b-b84f-9326b7866dbc"
   },
   "outputs": [
    {
     "name": "stderr",
     "output_type": "stream",
     "text": [
      "C:\\Users\\61\\AppData\\Local\\Temp\\ipykernel_52048\\3657970675.py:10: SettingWithCopyWarning: \n",
      "A value is trying to be set on a copy of a slice from a DataFrame.\n",
      "Try using .loc[row_indexer,col_indexer] = value instead\n",
      "\n",
      "See the caveats in the documentation: https://pandas.pydata.org/pandas-docs/stable/user_guide/indexing.html#returning-a-view-versus-a-copy\n",
      "  filtered_df['TokenizedText'] = filtered_df['Articles'].apply(tokenize_text)\n",
      "C:\\Users\\61\\AppData\\Local\\Temp\\ipykernel_52048\\3657970675.py:11: SettingWithCopyWarning: \n",
      "A value is trying to be set on a copy of a slice from a DataFrame.\n",
      "Try using .loc[row_indexer,col_indexer] = value instead\n",
      "\n",
      "See the caveats in the documentation: https://pandas.pydata.org/pandas-docs/stable/user_guide/indexing.html#returning-a-view-versus-a-copy\n",
      "  filtered_df['TokenizedSummary'] = filtered_df['Summaries'].apply(tokenize_summary)\n"
     ]
    }
   ],
   "source": [
    "def tokenize_text(text):\n",
    "    inputs = tokenizer.encode(text, return_tensors=\"pt\", max_length=382, truncation=True, padding='max_length', return_attention_mask=True)\n",
    "    return inputs.to(device)  # Move the tokenized inputs to the GPU\n",
    "\n",
    "def tokenize_summary(text):\n",
    "    inputs = tokenizer.encode(text, return_tensors=\"pt\", max_length=155, truncation=True, padding='max_length', return_attention_mask=True)\n",
    "    return inputs.to(device)  # Move the tokenized summaries to the GPU\n",
    "\n",
    "\n",
    "filtered_df['TokenizedText'] = filtered_df['Articles'].apply(tokenize_text)\n",
    "filtered_df['TokenizedSummary'] = filtered_df['Summaries'].apply(tokenize_summary)"
   ]
  },
  {
   "cell_type": "code",
   "execution_count": 29,
   "metadata": {
    "executionInfo": {
     "elapsed": 3,
     "status": "ok",
     "timestamp": 1706691954636,
     "user": {
      "displayName": "yi Liu",
      "userId": "06730254382051748854"
     },
     "user_tz": 300
    },
    "id": "agbV0TlA9BjV"
   },
   "outputs": [],
   "source": [
    "train_df, test_df = train_test_split(filtered_df, test_size=0.2, random_state=42)"
   ]
  },
  {
   "cell_type": "code",
   "execution_count": 30,
   "metadata": {
    "executionInfo": {
     "elapsed": 3,
     "status": "ok",
     "timestamp": 1706691954636,
     "user": {
      "displayName": "yi Liu",
      "userId": "06730254382051748854"
     },
     "user_tz": 300
    },
    "id": "vA7x277Z9BjW"
   },
   "outputs": [],
   "source": [
    "X_train = torch.stack([seq.squeeze() for seq in train_df['TokenizedText']])\n",
    "Y_train = torch.stack([seq.squeeze() for seq in train_df['TokenizedSummary']])\n",
    "X_test = torch.stack([seq.squeeze() for seq in test_df['TokenizedText']])\n",
    "Y_test = torch.stack([seq.squeeze() for seq in test_df['TokenizedSummary']])"
   ]
  },
  {
   "cell_type": "code",
   "execution_count": 31,
   "metadata": {
    "executionInfo": {
     "elapsed": 611,
     "status": "ok",
     "timestamp": 1706691955245,
     "user": {
      "displayName": "yi Liu",
      "userId": "06730254382051748854"
     },
     "user_tz": 300
    },
    "id": "1-_MLgjW9BjW"
   },
   "outputs": [],
   "source": [
    "train_dataset = TensorDataset(X_train, Y_train)\n",
    "train_dataloader = DataLoader(train_dataset, batch_size=4, shuffle=True)\n",
    "test_dataset = TensorDataset(X_test, Y_test)\n",
    "test_dataloader = DataLoader(test_dataset, batch_size=4)"
   ]
  },
  {
   "cell_type": "code",
   "execution_count": 32,
   "metadata": {
    "colab": {
     "base_uri": "https://localhost:8080/",
     "height": 49,
     "referenced_widgets": [
      "f3385558cec640868c7b57312899bfa1",
      "f8d8c64893574e23aa456fd823dd3e6f",
      "b5ce236331634f66a619bdbe85ceaad6",
      "be33acedc9524f33aef7c126ffc2e814",
      "ff02b9567a4443499f38b11afc3ed7a3",
      "7f174916fdf1409db0f5c555041df6e7",
      "fcd4c9a585ce4e1897d4d1ed138e3fe2",
      "bbc67961f77644d3bef7efc03ea81446",
      "3c0c87c8839843628fdcf21436ba9f3a",
      "86c98f9214864fa9a719a488c2336fa7",
      "e0e8782160214f1c809c97625373deeb"
     ]
    },
    "executionInfo": {
     "elapsed": 8822,
     "status": "ok",
     "timestamp": 1706691964064,
     "user": {
      "displayName": "yi Liu",
      "userId": "06730254382051748854"
     },
     "user_tz": 300
    },
    "id": "HKQHiKZ09BjW",
    "outputId": "2b51fa4a-3e17-4aae-d0d2-312bb069ef6d"
   },
   "outputs": [],
   "source": [
    "model = BartForConditionalGeneration.from_pretrained('facebook/bart-base')"
   ]
  },
  {
   "cell_type": "code",
   "execution_count": 33,
   "metadata": {
    "executionInfo": {
     "elapsed": 10,
     "status": "ok",
     "timestamp": 1706691964065,
     "user": {
      "displayName": "yi Liu",
      "userId": "06730254382051748854"
     },
     "user_tz": 300
    },
    "id": "MY6lglOe9BjW"
   },
   "outputs": [
    {
     "name": "stderr",
     "output_type": "stream",
     "text": [
      "C:\\Users\\61\\anaconda3\\Lib\\site-packages\\torch\\cuda\\amp\\grad_scaler.py:125: UserWarning: torch.cuda.amp.GradScaler is enabled, but CUDA is not available.  Disabling.\n",
      "  warnings.warn(\n"
     ]
    }
   ],
   "source": [
    "# Create a GradScaler for mixed-precision training\n",
    "scaler = GradScaler()"
   ]
  },
  {
   "cell_type": "code",
   "execution_count": 34,
   "metadata": {
    "colab": {
     "base_uri": "https://localhost:8080/"
    },
    "executionInfo": {
     "elapsed": 544,
     "status": "ok",
     "timestamp": 1706691964599,
     "user": {
      "displayName": "yi Liu",
      "userId": "06730254382051748854"
     },
     "user_tz": 300
    },
    "id": "r39kzdk79BjW",
    "outputId": "77b1d6d1-fcb2-41d5-8f9a-75ba96ce5b3a"
   },
   "outputs": [
    {
     "name": "stderr",
     "output_type": "stream",
     "text": [
      "C:\\Users\\61\\anaconda3\\Lib\\site-packages\\transformers\\optimization.py:429: FutureWarning: This implementation of AdamW is deprecated and will be removed in a future version. Use the PyTorch implementation torch.optim.AdamW instead, or set `no_deprecation_warning=True` to disable this warning\n",
      "  warnings.warn(\n"
     ]
    }
   ],
   "source": [
    "# Define hyperparameters\n",
    "device = torch.device(\"cuda\" if torch.cuda.is_available() else \"cpu\")\n",
    "model.to(device)  # Move the model to the GPU\n",
    "optimizer = AdamW(model.parameters(), lr=2e-5, weight_decay=0.01)\n",
    "scheduler = get_linear_schedule_with_warmup(optimizer, num_warmup_steps=50, num_training_steps=len(train_dataloader) * 10)  # Add learning rate scheduler\n",
    "early_stopping_rounds = 2\n",
    "best_rouge_score = -1\n",
    "current_round = 0\n",
    "\n"
   ]
  },
  {
   "cell_type": "code",
   "execution_count": 35,
   "metadata": {
    "executionInfo": {
     "elapsed": 2,
     "status": "ok",
     "timestamp": 1706691964599,
     "user": {
      "displayName": "yi Liu",
      "userId": "06730254382051748854"
     },
     "user_tz": 300
    },
    "id": "4Cx2vC7h9BjW"
   },
   "outputs": [],
   "source": [
    "# Define gradient accumulation steps\n",
    "accumulation_steps = 20  # You can adjust this number\n",
    "\n",
    "def train(model, dataloader, optimizer, scheduler):\n",
    "    model.train()\n",
    "    total_loss = 0.0\n",
    "    optimizer.zero_grad()\n",
    "\n",
    "    for step, batch in enumerate(tqdm(dataloader, desc=\"Training\")):\n",
    "        inputs = batch[0].to(device)  # Move the input batch to the GPU\n",
    "        attention_mask = (inputs != 0).float().to(device)  # Create attention mask\n",
    "        targets = batch[1].to(device)  # Move the target batch to the GPU\n",
    "\n",
    "        with autocast():\n",
    "            outputs = model(input_ids=inputs, attention_mask=attention_mask, decoder_input_ids=targets, labels=targets)\n",
    "            loss = outputs.loss\n",
    "\n",
    "        # Perform gradient accumulation\n",
    "        loss = loss / accumulation_steps\n",
    "        scaler.scale(loss).backward()\n",
    "\n",
    "        if (step + 1) % accumulation_steps == 0:\n",
    "            # Update gradients and optimizer once every accumulation_steps\n",
    "            clip_grad_norm_(model.parameters(), max_norm=1.0)  # Optional gradient clipping\n",
    "            scaler.step(optimizer)\n",
    "            scaler.update()\n",
    "            optimizer.zero_grad()\n",
    "\n",
    "        total_loss += loss.item()\n",
    "\n",
    "    return total_loss / len(dataloader)\n",
    "\n"
   ]
  },
  {
   "cell_type": "code",
   "execution_count": 36,
   "metadata": {
    "colab": {
     "base_uri": "https://localhost:8080/"
    },
    "executionInfo": {
     "elapsed": 79668,
     "status": "ok",
     "timestamp": 1706692044265,
     "user": {
      "displayName": "yi Liu",
      "userId": "06730254382051748854"
     },
     "user_tz": 300
    },
    "id": "ikRfCkg99BjX",
    "outputId": "c2f40be3-8231-4662-928c-7d644038a3f2"
   },
   "outputs": [
    {
     "name": "stderr",
     "output_type": "stream",
     "text": [
      "Training:   0%|          | 0/210 [00:00<?, ?it/s]C:\\Users\\61\\anaconda3\\Lib\\site-packages\\torch\\amp\\autocast_mode.py:250: UserWarning: User provided device_type of 'cuda', but CUDA is not available. Disabling\n",
      "  warnings.warn(\n",
      "Training: 100%|██████████| 210/210 [06:28<00:00,  1.85s/it]\n"
     ]
    },
    {
     "name": "stdout",
     "output_type": "stream",
     "text": [
      "Epoch 1, Train Loss: 0.5705\n"
     ]
    },
    {
     "name": "stderr",
     "output_type": "stream",
     "text": [
      "Training: 100%|██████████| 210/210 [06:29<00:00,  1.86s/it]\n"
     ]
    },
    {
     "name": "stdout",
     "output_type": "stream",
     "text": [
      "Epoch 2, Train Loss: 0.5687\n"
     ]
    },
    {
     "name": "stderr",
     "output_type": "stream",
     "text": [
      "Training: 100%|██████████| 210/210 [06:28<00:00,  1.85s/it]"
     ]
    },
    {
     "name": "stdout",
     "output_type": "stream",
     "text": [
      "Epoch 3, Train Loss: 0.5706\n"
     ]
    },
    {
     "name": "stderr",
     "output_type": "stream",
     "text": [
      "\n"
     ]
    }
   ],
   "source": [
    "for epoch in range(3):\n",
    "    train_loss = train(model, train_dataloader, optimizer, scheduler)\n",
    "    print(f\"Epoch {epoch+1}, Train Loss: {train_loss:.4f}\")"
   ]
  },
  {
   "cell_type": "code",
   "execution_count": 37,
   "metadata": {
    "executionInfo": {
     "elapsed": 16,
     "status": "ok",
     "timestamp": 1706692044267,
     "user": {
      "displayName": "yi Liu",
      "userId": "06730254382051748854"
     },
     "user_tz": 300
    },
    "id": "1Z-Gc3dWRgI4"
   },
   "outputs": [],
   "source": [
    "def evaluate1(model, dataloader):\n",
    "    model.eval()\n",
    "\n",
    "    test_articles = []\n",
    "    actual_summaries = []\n",
    "    predicted_summaries = []\n",
    "    rouge1_precision_scores = []\n",
    "\n",
    "    scorer = rouge_scorer.RougeScorer(['rouge1'])\n",
    "\n",
    "    with torch.no_grad():\n",
    "        for batch in tqdm(dataloader, desc=\"Evaluating Test\"):\n",
    "            inputs = batch[0].to(device)\n",
    "            attention_mask = (inputs != 0).float().to(device)\n",
    "            targets = batch[1].to(device)\n",
    "            outputs = model.generate(input_ids=inputs, attention_mask=attention_mask, max_length=155, num_beams=30, length_penalty=2.0, early_stopping=True)\n",
    "\n",
    "            for output, target, input_text in zip(outputs, targets, inputs):\n",
    "                # Calculate ROUGE-1 precision for each sample\n",
    "                output_text = tokenizer.decode(output, skip_special_tokens=True)\n",
    "                target_text = tokenizer.decode(target, skip_special_tokens=True)\n",
    "                rouge_scores = scorer.score(output_text, target_text)\n",
    "                rouge1_precision_scores.append(rouge_scores['rouge1'].precision)\n",
    "\n",
    "                # Append tokenized text, actual summaries, and predicted summaries\n",
    "                test_articles.append(tokenizer.decode(input_text, skip_special_tokens=True))\n",
    "                actual_summaries.append(target_text)\n",
    "                predicted_summaries.append(output_text)\n",
    "\n",
    "    return test_articles, actual_summaries, predicted_summaries, rouge1_precision_scores"
   ]
  },
  {
   "cell_type": "code",
   "execution_count": 38,
   "metadata": {
    "executionInfo": {
     "elapsed": 8,
     "status": "ok",
     "timestamp": 1706692044267,
     "user": {
      "displayName": "yi Liu",
      "userId": "06730254382051748854"
     },
     "user_tz": 300
    },
    "id": "Quo3RSrhRhC9"
   },
   "outputs": [],
   "source": [
    "def evaluate2(model, dataloader):\n",
    "    model.eval()\n",
    "\n",
    "    test_articles = []\n",
    "    actual_summaries = []\n",
    "    predicted_summaries = []\n",
    "    rouge2_precision_scores = []\n",
    "\n",
    "    scorer = rouge_scorer.RougeScorer(['rouge2'])\n",
    "\n",
    "    with torch.no_grad():\n",
    "        for batch in tqdm(dataloader, desc=\"Evaluating Test\"):\n",
    "            inputs = batch[0].to(device)\n",
    "            attention_mask = (inputs != 0).float().to(device)\n",
    "            targets = batch[1].to(device)\n",
    "            outputs = model.generate(input_ids=inputs, attention_mask=attention_mask, max_length=512, num_beams=30, length_penalty=3.0, early_stopping=True)\n",
    "\n",
    "            for output, target, input_text in zip(outputs, targets, inputs):\n",
    "                # Calculate ROUGE-2 precision for each sample\n",
    "                output_text = tokenizer.decode(output, skip_special_tokens=True)\n",
    "                target_text = tokenizer.decode(target, skip_special_tokens=True)\n",
    "                rouge_scores = scorer.score(output_text, target_text)\n",
    "                rouge2_precision_scores.append(rouge_scores['rouge2'].precision)\n",
    "\n",
    "                # Append tokenized text, actual summaries, and predicted summaries\n",
    "                test_articles.append(tokenizer.decode(input_text, skip_special_tokens=True))\n",
    "                actual_summaries.append(target_text)\n",
    "                predicted_summaries.append(output_text)\n",
    "\n",
    "    return test_articles, actual_summaries, predicted_summaries, rouge2_precision_scores"
   ]
  },
  {
   "cell_type": "code",
   "execution_count": 39,
   "metadata": {
    "colab": {
     "base_uri": "https://localhost:8080/",
     "height": 1000
    },
    "executionInfo": {
     "elapsed": 511360,
     "status": "ok",
     "timestamp": 1706692555619,
     "user": {
      "displayName": "yi Liu",
      "userId": "06730254382051748854"
     },
     "user_tz": 300
    },
    "id": "uGWDncu19BjX",
    "outputId": "8e620524-d37b-4c2e-bafd-ac699b256425"
   },
   "outputs": [
    {
     "name": "stderr",
     "output_type": "stream",
     "text": [
      "Evaluating Test: 100%|██████████| 53/53 [49:01<00:00, 55.50s/it]\n"
     ]
    },
    {
     "data": {
      "text/html": [
       "<div>\n",
       "<style scoped>\n",
       "    .dataframe tbody tr th:only-of-type {\n",
       "        vertical-align: middle;\n",
       "    }\n",
       "\n",
       "    .dataframe tbody tr th {\n",
       "        vertical-align: top;\n",
       "    }\n",
       "\n",
       "    .dataframe thead th {\n",
       "        text-align: right;\n",
       "    }\n",
       "</style>\n",
       "<table border=\"1\" class=\"dataframe\">\n",
       "  <thead>\n",
       "    <tr style=\"text-align: right;\">\n",
       "      <th></th>\n",
       "      <th>Article</th>\n",
       "      <th>Actual Summary</th>\n",
       "      <th>Predicted Summary</th>\n",
       "      <th>ROUGE-1 Precision</th>\n",
       "    </tr>\n",
       "  </thead>\n",
       "  <tbody>\n",
       "    <tr>\n",
       "      <th>0</th>\n",
       "      <td>van nistelrooy set to return manchester united striker ruud van nistelrooy may make his comeback after an achilles tendon injury in the fa cup fifth round tie at everton on saturday he has been out of action for nearly three months and had targeted a return in the champions league tie with ac milan on 23 february but manchester united manager sir alex ferguson hinted he may be back early he said there is a chance he could be involved at everton but well just have to see how he comes through training the 28 year old has been training in holland and ferguson said ruud comes back on tuesday and we need to assess how far on he is the training he has been doing in holland has been perfect and i am very satisfied with it even without van nistelrooy united made it 13 wins in 15 league games with a 2 0 derby victory at manchester city on sunday but they will be boosted by the return of the dutch international who is the clubs top scorer this season with 12 goals he has not played since aggravating the injury in the 3 0 win against west brom on 27 november ferguson was unhappy with van nistelrooy for not revealing he was carrying an injury united have also been hit by injuries to both alan smith and louis saha during van nistelrooys absence meaning wayne rooney has sometimes had to play in a lone role up front the teenager has responded with six goals in nine games including the first goal against city on sunday</td>\n",
       "      <td>The 28yearold has been training in Holland and Ferguson said Ruud comes back on Tuesday and we need to assess how far on he isThe training he has been doing in Holland has been perfect and I am very satisfied with itManchester United striker Ruud van Nistelrooy may make his comeback after an Achilles tendon injury in the FA Cup fifth round tie at Everton on SaturdayEven without Van Nistelrooy United made it 13 wins in 15 league games with a 20 derby victory at Manchester City on SundayUnited have also been hit by injuries to both Alan Smith and Louis Saha during Van Nistelrooys absence meaning Wayne Rooney has sometimes had to play in a lone role up front</td>\n",
       "      <td>van nistelrooy set to return manchester united striker ruud van nistelirooy may make his comeback after an achilles tendon injury in the fa cup fifth round tie at everton on saturday he has been out of action for nearly three months and had targeted a return in the champions league tie with ac milan on 23 february but Manchester united manager sir alex ferguson hinted he may be back early he said there is a chance he could be involved at ever, everton but well just have to see how he comes through training the 28 year old has been training in holland and ferguson said ruud comes back on tuesday and we need to assess how far on he is the training he has</td>\n",
       "      <td>0.558333</td>\n",
       "    </tr>\n",
       "    <tr>\n",
       "      <th>1</th>\n",
       "      <td>brentford v southampton griffin park tuesday 1 march 1945 gmt barry knight kent home to manchester united in the quarter finals midfielder andrew frampton and striker deon burton are both slight doubts with hamstring injuries but should be fit saints are missing their entire first choice midfield of jamie redknapp graeme le saux nigel quashie and david prutton anders svensson and matt oakley are likely replacements with kevin phillips also scheduled to start with henri camara rested brentford boss martin allen after conceding eight goals in our last three matches i have to admit im not very confident theres no doubt were the underdogs and after defending so poorly recently its not looking good southampton have just drawn with the premiership champions and that makes our task harder than it was already southampton boss harry redknapp we know they can give us problems brentford have done well but we are the premiership side and should have the better players staying in the premiership is our priority we want to win of course we do well battle but if it comes to a football match i think well win key match stats brentford are the lowest ranked club left in the fa cup theyre on their best run in the competition since reaching the quarter finals for the fourth time in their history 16 years ago now they have the carrot of the plum draw in the last eight dangling before them victory over premiership strugglers southampton would bring the mighty manchester united to griffin park and a gigantic pay day for the sole league one survivors martin allens brave side came back from two goals down at st marys to earn a deserved replay southampton striker henri camara scored twice from close range to put the saints in command but isaiah rankin hit back just before half time and sam sodje headed past</td>\n",
       "      <td>Victory over Premiership strugglers Southampton would bring the mighty Manchester United to Griffin Park and a gigantic pay day for the sole League One survivors To get to within two matches of a second visit to the Millennium Stadium in three years for the final Harry Redknapp must guide his side past a club 36 places inferior on the League ladder and a manager 19 years his junior who played under him at West Ham SOUTHAMPTON go into this tie on the back of an eventful Premiership match with Arsenal on SaturdaySouthampton were last humbled by a club from the third tier six years agoBrentford have done well but we are the Premiership side and should have the better playersBut to write another chapter in their FA Cup history the Solent side must avoid succumbing to</td>\n",
       "      <td>brentford v southampton griffin park tuesday 1 march 1945 gmt barry knight kent home to manchester united in the quarter finals midfielder andrew frampton and striker deon burton are both slight doubts with hamstring injuries but should be fit saints are missing their entire first choice midfield of jamie redknapp graeme le saux nigel quashie and david prutton anders svensson and matt oakley are likely replacements with kevin phillips also scheduled to start with henri camara rested brentford boss martin allen after conceding eight goals in our last three matches i have to admit im not very confident theres no doubt were the underdogs and after defending so poorly recently its not looking good</td>\n",
       "      <td>0.198529</td>\n",
       "    </tr>\n",
       "    <tr>\n",
       "      <th>2</th>\n",
       "      <td>pountney handed ban and fine northampton coach budge pountney has been fined 2 000 and banned from match day coaching for six weeks for calling a referee a disgrace pountney was found guilty of bringing the game into disrepute at a rugby football union disciplinary hearing in london on thursday night pountney criticised referee steve landers performance in northamptons defeat by saracens on 5 february the last two weeks of the six week ban are suspended pountney pleaded guilty to the offence before a panel consisting of chairman robert horner nigel gillingham and jeff probyn the ban means former scotland international pountney cannot enter the playing enclosure technical areas or go near the touchline tunnel or players and officials areas on the day of a game</td>\n",
       "      <td>Northampton coach Budge Pountney has been fined 2000 and banned from matchday coaching for six weeks for calling a referee a disgracePountney criticised referee Steve Landers performance in Northamptons defeat by Saracens on 5 FebruaryPountney was found guilty of bringing the game into disrepute at a Rugby Football Union disciplinary hearing in London on Thursday night</td>\n",
       "      <td>pountney handed ban and fine northampton coach budge pountney has been fined 2 000 and banned from match day coaching for six weeks for calling a referee a disgrace suountney was found guilty of bringing the game into disrepute at a rugby football union disciplinary hearing in london on thursday night pisyney criticised referee steve landers performance in northamptons defeat by saracens on 5 february the last two weeks of the six week ban are suspended pountneys pleaded guilty to the offence before a panel consisting of chairman robert horner nigel gillingham and jeff probyn the ban means former scotland international Pountney cannot enter the playing enclosure technical areas or go near the touchline tunnel</td>\n",
       "      <td>0.928571</td>\n",
       "    </tr>\n",
       "    <tr>\n",
       "      <th>3</th>\n",
       "      <td>iaaf will contest greek decision the international association of athletics federations will appeal against the acquittal of greek athletes kostas kenteris and katerina thanou the high profile duo were cleared of doping offences by the greek athletics federation segas last month now the iaaf will lodge an appeal with the court of arbitration for sport cas and has suspended both athletes an iaaf statement said the doping review board concluded that the decision is erroneous the statement continued both athletes cases will be refered to arbitration before the cas the decision in both cases will be final and binding segas said the iaaf appeal was expected and understandable now we are going to await the final result which we cannot prejudge said segas chairman vassilis sevastis kenteris who won olympic 200m gold at the 2000 olympics and thanou were suspended by the iaaf last december after failing to take routine drugs tests before the athens games however the independent tribunal overturned those bans clearing the sprinters of avoiding tests in tel aviv chicago and athens and failing to notify anti doping officials of their whereabouts before the olympics kenteris lawyer gregory ioannidis described the iaafs decision as not unexpected but told bbc sport he did not expect the organisation to take action so quickly the iaafs timing is extremely surprising and it creates concerns and questions said ioannidis the iaaf has not yet received the complete file of proceedings which include statements testimonies the closing speeches of defence counsel and nine audio tapes we have the evidence and it is time the world discovered the truth kenteris and thanou dramatically withdrew from last summers olympics after missing a drugs test at the olympic village on 12 august the pair then spent four days in a hospital claiming they had been injured in a motorcycle crash it was</td>\n",
       "      <td>Kenteris who won Olympic 200m gold at the 2000 Olympics and Thanou were suspended by the IAAF last December after failing to take routine drugs tests before the Athens GamesSegas said the IAAF appeal was expected and understandableAn IAAF statement said The Doping Review Board concluded that the decision is erroneousNow the IAAF will lodge an appeal with the Court of Arbitration for Sport CAS and has suspended both athletesKenteris and Thanou dramatically withdrew from last summers Olympics after missing a drugs test at the Olympic Village on 12 AugustThe International Association of Athletics Federations will appeal against the acquittal of Greek athletes Kostas Kenteris and Katerina ThanouThanou and Kenteris still face a criminal trial later this year for allegedly</td>\n",
       "      <td>IAaf will contest greek decision the international association of athletics federations will appeal against the acquittal of greek athletes kostas kenteris and katerina thanou the high profile duo were cleared of doping offences by the greek athletics federation segas last month now the iaaf will lodge an appeal with the court of arbitration for sport cas and has suspended both athletes an IAaf statement said the doping review board concluded that the decision is erroneous the statement continued both athletes cases will be refered to arbitration before the cas the decision in both situations will be final and binding segas said the Iiaaf appeal was expected and understandable now we are going to await the final result which we cannot prejudge said segas chairman vassilis</td>\n",
       "      <td>0.541667</td>\n",
       "    </tr>\n",
       "    <tr>\n",
       "      <th>4</th>\n",
       "      <td>jones medals must go if guilty world anti doping agency wada chief dick pound says marion jones should be stripped of all her medals if found guilty of taking banned substances victor conte of balco laboratories claims the american sprinter regularly used drugs to enhance her performance if she is found guilty she should be stripped of all her medals and banned for two years said pound asked if there was a timescale as to what medals could be taken pound said that is not an issue at all however under international olympic committee ioc rules athletes can only be stripped of their medals if caught within three years of the event jones who won five medals at the 2000 olympics denies using drugs and says she will take legal action over contes allegations balco laboratories is the firm at the centre of a wide reaching investigation into doping in the us pound continued if she has indeed taken drugs it is going to be a big disappointment for a lot of people</td>\n",
       "      <td>If she is found guilty she should be stripped of all her medals and banned for two years said PoundWorld AntiDoping Agency WADA chief Dick Pound says Marion Jones should be stripped of all her medals if found guilty of taking banned substancesAsked if there was a timescale as to what medals could be taken Pound said That is not an issue at allJones who won five medals at the 2000 Olympics denies using drugs and says she will take legal action over Contes allegations</td>\n",
       "      <td>jones medals must go if guilty world anti doping agency wada chief dick pound says marion jones should be stripped of all her medals if found guilty of taking banned substances victor conte of balco laboratories claims the american sprinter regularly used drugs to enhance her performance if she is found guilty she should be awarded of all your medals and banned for two years said pound asked if there was a timescale as to what medals could be taken pound said that is not an issue at all however under international olympic committee ioc rules athletes can only be stripped with their medals if caught within three years of the event jones who won five medals at the 2000 olympics denies using drugs and says she will take legal action over contes allegations bal</td>\n",
       "      <td>0.952941</td>\n",
       "    </tr>\n",
       "  </tbody>\n",
       "</table>\n",
       "</div>"
      ],
      "text/plain": [
       "                                                                                                                                                                                                                                                                                                                                                                                                                                                                                                                                                                                                                                                                                                                                                                                                                                                                                                                                                                                                                                                                                                                                                                                                                                                                                                                                                                                                                                                                                                                                                                                                                                                                                                                                                                                                                                                                                                                                                              Article  \\\n",
       "0                                                                                                                                                                                                                                                                                                                                                                                                                                                                                  van nistelrooy set to return manchester united striker ruud van nistelrooy may make his comeback after an achilles tendon injury in the fa cup fifth round tie at everton on saturday he has been out of action for nearly three months and had targeted a return in the champions league tie with ac milan on 23 february but manchester united manager sir alex ferguson hinted he may be back early he said there is a chance he could be involved at everton but well just have to see how he comes through training the 28 year old has been training in holland and ferguson said ruud comes back on tuesday and we need to assess how far on he is the training he has been doing in holland has been perfect and i am very satisfied with it even without van nistelrooy united made it 13 wins in 15 league games with a 2 0 derby victory at manchester city on sunday but they will be boosted by the return of the dutch international who is the clubs top scorer this season with 12 goals he has not played since aggravating the injury in the 3 0 win against west brom on 27 november ferguson was unhappy with van nistelrooy for not revealing he was carrying an injury united have also been hit by injuries to both alan smith and louis saha during van nistelrooys absence meaning wayne rooney has sometimes had to play in a lone role up front the teenager has responded with six goals in nine games including the first goal against city on sunday   \n",
       "1                                                                                brentford v southampton griffin park tuesday 1 march 1945 gmt barry knight kent home to manchester united in the quarter finals midfielder andrew frampton and striker deon burton are both slight doubts with hamstring injuries but should be fit saints are missing their entire first choice midfield of jamie redknapp graeme le saux nigel quashie and david prutton anders svensson and matt oakley are likely replacements with kevin phillips also scheduled to start with henri camara rested brentford boss martin allen after conceding eight goals in our last three matches i have to admit im not very confident theres no doubt were the underdogs and after defending so poorly recently its not looking good southampton have just drawn with the premiership champions and that makes our task harder than it was already southampton boss harry redknapp we know they can give us problems brentford have done well but we are the premiership side and should have the better players staying in the premiership is our priority we want to win of course we do well battle but if it comes to a football match i think well win key match stats brentford are the lowest ranked club left in the fa cup theyre on their best run in the competition since reaching the quarter finals for the fourth time in their history 16 years ago now they have the carrot of the plum draw in the last eight dangling before them victory over premiership strugglers southampton would bring the mighty manchester united to griffin park and a gigantic pay day for the sole league one survivors martin allens brave side came back from two goals down at st marys to earn a deserved replay southampton striker henri camara scored twice from close range to put the saints in command but isaiah rankin hit back just before half time and sam sodje headed past   \n",
       "2                                                                                                                                                                                                                                                                                                                                                                                                                                                                                                                                                                                                                                                                                                                                                                                                                                                                                                                                                                                                                                                                                                                                                                   pountney handed ban and fine northampton coach budge pountney has been fined 2 000 and banned from match day coaching for six weeks for calling a referee a disgrace pountney was found guilty of bringing the game into disrepute at a rugby football union disciplinary hearing in london on thursday night pountney criticised referee steve landers performance in northamptons defeat by saracens on 5 february the last two weeks of the six week ban are suspended pountney pleaded guilty to the offence before a panel consisting of chairman robert horner nigel gillingham and jeff probyn the ban means former scotland international pountney cannot enter the playing enclosure technical areas or go near the touchline tunnel or players and officials areas on the day of a game   \n",
       "3  iaaf will contest greek decision the international association of athletics federations will appeal against the acquittal of greek athletes kostas kenteris and katerina thanou the high profile duo were cleared of doping offences by the greek athletics federation segas last month now the iaaf will lodge an appeal with the court of arbitration for sport cas and has suspended both athletes an iaaf statement said the doping review board concluded that the decision is erroneous the statement continued both athletes cases will be refered to arbitration before the cas the decision in both cases will be final and binding segas said the iaaf appeal was expected and understandable now we are going to await the final result which we cannot prejudge said segas chairman vassilis sevastis kenteris who won olympic 200m gold at the 2000 olympics and thanou were suspended by the iaaf last december after failing to take routine drugs tests before the athens games however the independent tribunal overturned those bans clearing the sprinters of avoiding tests in tel aviv chicago and athens and failing to notify anti doping officials of their whereabouts before the olympics kenteris lawyer gregory ioannidis described the iaafs decision as not unexpected but told bbc sport he did not expect the organisation to take action so quickly the iaafs timing is extremely surprising and it creates concerns and questions said ioannidis the iaaf has not yet received the complete file of proceedings which include statements testimonies the closing speeches of defence counsel and nine audio tapes we have the evidence and it is time the world discovered the truth kenteris and thanou dramatically withdrew from last summers olympics after missing a drugs test at the olympic village on 12 august the pair then spent four days in a hospital claiming they had been injured in a motorcycle crash it was   \n",
       "4                                                                                                                                                                                                                                                                                                                                                                                                                                                                                                                                                                                                                                                                                                                                                                                                                                                                                                                                                              jones medals must go if guilty world anti doping agency wada chief dick pound says marion jones should be stripped of all her medals if found guilty of taking banned substances victor conte of balco laboratories claims the american sprinter regularly used drugs to enhance her performance if she is found guilty she should be stripped of all her medals and banned for two years said pound asked if there was a timescale as to what medals could be taken pound said that is not an issue at all however under international olympic committee ioc rules athletes can only be stripped of their medals if caught within three years of the event jones who won five medals at the 2000 olympics denies using drugs and says she will take legal action over contes allegations balco laboratories is the firm at the centre of a wide reaching investigation into doping in the us pound continued if she has indeed taken drugs it is going to be a big disappointment for a lot of people   \n",
       "\n",
       "                                                                                                                                                                                                                                                                                                                                                                                                                                                                                                                                                                                                                                                                                                                                                                                              Actual Summary  \\\n",
       "0                                                                                                                    The 28yearold has been training in Holland and Ferguson said Ruud comes back on Tuesday and we need to assess how far on he isThe training he has been doing in Holland has been perfect and I am very satisfied with itManchester United striker Ruud van Nistelrooy may make his comeback after an Achilles tendon injury in the FA Cup fifth round tie at Everton on SaturdayEven without Van Nistelrooy United made it 13 wins in 15 league games with a 20 derby victory at Manchester City on SundayUnited have also been hit by injuries to both Alan Smith and Louis Saha during Van Nistelrooys absence meaning Wayne Rooney has sometimes had to play in a lone role up front   \n",
       "1      Victory over Premiership strugglers Southampton would bring the mighty Manchester United to Griffin Park and a gigantic pay day for the sole League One survivors To get to within two matches of a second visit to the Millennium Stadium in three years for the final Harry Redknapp must guide his side past a club 36 places inferior on the League ladder and a manager 19 years his junior who played under him at West Ham SOUTHAMPTON go into this tie on the back of an eventful Premiership match with Arsenal on SaturdaySouthampton were last humbled by a club from the third tier six years agoBrentford have done well but we are the Premiership side and should have the better playersBut to write another chapter in their FA Cup history the Solent side must avoid succumbing to   \n",
       "2                                                                                                                                                                                                                                                                                                                                                                                                                        Northampton coach Budge Pountney has been fined 2000 and banned from matchday coaching for six weeks for calling a referee a disgracePountney criticised referee Steve Landers performance in Northamptons defeat by Saracens on 5 FebruaryPountney was found guilty of bringing the game into disrepute at a Rugby Football Union disciplinary hearing in London on Thursday night   \n",
       "3  Kenteris who won Olympic 200m gold at the 2000 Olympics and Thanou were suspended by the IAAF last December after failing to take routine drugs tests before the Athens GamesSegas said the IAAF appeal was expected and understandableAn IAAF statement said The Doping Review Board concluded that the decision is erroneousNow the IAAF will lodge an appeal with the Court of Arbitration for Sport CAS and has suspended both athletesKenteris and Thanou dramatically withdrew from last summers Olympics after missing a drugs test at the Olympic Village on 12 AugustThe International Association of Athletics Federations will appeal against the acquittal of Greek athletes Kostas Kenteris and Katerina ThanouThanou and Kenteris still face a criminal trial later this year for allegedly   \n",
       "4                                                                                                                                                                                                                                                                                                                     If she is found guilty she should be stripped of all her medals and banned for two years said PoundWorld AntiDoping Agency WADA chief Dick Pound says Marion Jones should be stripped of all her medals if found guilty of taking banned substancesAsked if there was a timescale as to what medals could be taken Pound said That is not an issue at allJones who won five medals at the 2000 Olympics denies using drugs and says she will take legal action over Contes allegations   \n",
       "\n",
       "                                                                                                                                                                                                                                                                                                                                                                                                                                                                                                                                                                                                                                                                                                                                                                                                Predicted Summary  \\\n",
       "0                                                                                                                            van nistelrooy set to return manchester united striker ruud van nistelirooy may make his comeback after an achilles tendon injury in the fa cup fifth round tie at everton on saturday he has been out of action for nearly three months and had targeted a return in the champions league tie with ac milan on 23 february but Manchester united manager sir alex ferguson hinted he may be back early he said there is a chance he could be involved at ever, everton but well just have to see how he comes through training the 28 year old has been training in holland and ferguson said ruud comes back on tuesday and we need to assess how far on he is the training he has   \n",
       "1                                                                                  brentford v southampton griffin park tuesday 1 march 1945 gmt barry knight kent home to manchester united in the quarter finals midfielder andrew frampton and striker deon burton are both slight doubts with hamstring injuries but should be fit saints are missing their entire first choice midfield of jamie redknapp graeme le saux nigel quashie and david prutton anders svensson and matt oakley are likely replacements with kevin phillips also scheduled to start with henri camara rested brentford boss martin allen after conceding eight goals in our last three matches i have to admit im not very confident theres no doubt were the underdogs and after defending so poorly recently its not looking good   \n",
       "2                                                                  pountney handed ban and fine northampton coach budge pountney has been fined 2 000 and banned from match day coaching for six weeks for calling a referee a disgrace suountney was found guilty of bringing the game into disrepute at a rugby football union disciplinary hearing in london on thursday night pisyney criticised referee steve landers performance in northamptons defeat by saracens on 5 february the last two weeks of the six week ban are suspended pountneys pleaded guilty to the offence before a panel consisting of chairman robert horner nigel gillingham and jeff probyn the ban means former scotland international Pountney cannot enter the playing enclosure technical areas or go near the touchline tunnel   \n",
       "3  IAaf will contest greek decision the international association of athletics federations will appeal against the acquittal of greek athletes kostas kenteris and katerina thanou the high profile duo were cleared of doping offences by the greek athletics federation segas last month now the iaaf will lodge an appeal with the court of arbitration for sport cas and has suspended both athletes an IAaf statement said the doping review board concluded that the decision is erroneous the statement continued both athletes cases will be refered to arbitration before the cas the decision in both situations will be final and binding segas said the Iiaaf appeal was expected and understandable now we are going to await the final result which we cannot prejudge said segas chairman vassilis   \n",
       "4                 jones medals must go if guilty world anti doping agency wada chief dick pound says marion jones should be stripped of all her medals if found guilty of taking banned substances victor conte of balco laboratories claims the american sprinter regularly used drugs to enhance her performance if she is found guilty she should be awarded of all your medals and banned for two years said pound asked if there was a timescale as to what medals could be taken pound said that is not an issue at all however under international olympic committee ioc rules athletes can only be stripped with their medals if caught within three years of the event jones who won five medals at the 2000 olympics denies using drugs and says she will take legal action over contes allegations bal   \n",
       "\n",
       "   ROUGE-1 Precision  \n",
       "0           0.558333  \n",
       "1           0.198529  \n",
       "2           0.928571  \n",
       "3           0.541667  \n",
       "4           0.952941  "
      ]
     },
     "execution_count": 39,
     "metadata": {},
     "output_type": "execute_result"
    }
   ],
   "source": [
    "# Evaluate the model\n",
    "test_articles, actual_summaries, predicted_summaries, rouge1_precision_scores = evaluate1(model, test_dataloader)\n",
    "\n",
    "# Create a dictionary with the extracted data\n",
    "data = {\n",
    "    'Article': test_articles,\n",
    "    'Actual Summary': actual_summaries,\n",
    "    'Predicted Summary': predicted_summaries,\n",
    "    'ROUGE-1 Precision': rouge1_precision_scores,\n",
    "}\n",
    "\n",
    "# Create a Pandas DataFrame from the dictionary\n",
    "results_rouge1_df = pd.DataFrame(data)\n",
    "\n",
    "\n",
    "# Display the DataFrame\n",
    "pd.set_option('display.max_colwidth', None)\n",
    "results_rouge1_df.head(5)"
   ]
  },
  {
   "cell_type": "code",
   "execution_count": 40,
   "metadata": {
    "executionInfo": {
     "elapsed": 381,
     "status": "ok",
     "timestamp": 1706692555986,
     "user": {
      "displayName": "yi Liu",
      "userId": "06730254382051748854"
     },
     "user_tz": 300
    },
    "id": "57OeCQ__ThoM"
   },
   "outputs": [],
   "source": [
    "results_rouge1_df.to_excel('results_rouge1.xlsx')"
   ]
  },
  {
   "cell_type": "code",
   "execution_count": 41,
   "metadata": {
    "colab": {
     "base_uri": "https://localhost:8080/",
     "height": 1000
    },
    "executionInfo": {
     "elapsed": 3165944,
     "status": "ok",
     "timestamp": 1706695721921,
     "user": {
      "displayName": "yi Liu",
      "userId": "06730254382051748854"
     },
     "user_tz": 300
    },
    "id": "EQMFadOESGtz",
    "outputId": "fd28a75f-44d1-44c0-80d1-26cd99b9600f"
   },
   "outputs": [
    {
     "name": "stderr",
     "output_type": "stream",
     "text": [
      "Evaluating Test: 100%|██████████| 53/53 [4:10:44<00:00, 283.86s/it]  \n"
     ]
    },
    {
     "data": {
      "text/html": [
       "<div>\n",
       "<style scoped>\n",
       "    .dataframe tbody tr th:only-of-type {\n",
       "        vertical-align: middle;\n",
       "    }\n",
       "\n",
       "    .dataframe tbody tr th {\n",
       "        vertical-align: top;\n",
       "    }\n",
       "\n",
       "    .dataframe thead th {\n",
       "        text-align: right;\n",
       "    }\n",
       "</style>\n",
       "<table border=\"1\" class=\"dataframe\">\n",
       "  <thead>\n",
       "    <tr style=\"text-align: right;\">\n",
       "      <th></th>\n",
       "      <th>Article</th>\n",
       "      <th>Actual Summary</th>\n",
       "      <th>Predicted Summary</th>\n",
       "      <th>ROUGE-2 Precision</th>\n",
       "    </tr>\n",
       "  </thead>\n",
       "  <tbody>\n",
       "    <tr>\n",
       "      <th>0</th>\n",
       "      <td>van nistelrooy set to return manchester united striker ruud van nistelrooy may make his comeback after an achilles tendon injury in the fa cup fifth round tie at everton on saturday he has been out of action for nearly three months and had targeted a return in the champions league tie with ac milan on 23 february but manchester united manager sir alex ferguson hinted he may be back early he said there is a chance he could be involved at everton but well just have to see how he comes through training the 28 year old has been training in holland and ferguson said ruud comes back on tuesday and we need to assess how far on he is the training he has been doing in holland has been perfect and i am very satisfied with it even without van nistelrooy united made it 13 wins in 15 league games with a 2 0 derby victory at manchester city on sunday but they will be boosted by the return of the dutch international who is the clubs top scorer this season with 12 goals he has not played since aggravating the injury in the 3 0 win against west brom on 27 november ferguson was unhappy with van nistelrooy for not revealing he was carrying an injury united have also been hit by injuries to both alan smith and louis saha during van nistelrooys absence meaning wayne rooney has sometimes had to play in a lone role up front the teenager has responded with six goals in nine games including the first goal against city on sunday</td>\n",
       "      <td>The 28yearold has been training in Holland and Ferguson said Ruud comes back on Tuesday and we need to assess how far on he isThe training he has been doing in Holland has been perfect and I am very satisfied with itManchester United striker Ruud van Nistelrooy may make his comeback after an Achilles tendon injury in the FA Cup fifth round tie at Everton on SaturdayEven without Van Nistelrooy United made it 13 wins in 15 league games with a 20 derby victory at Manchester City on SundayUnited have also been hit by injuries to both Alan Smith and Louis Saha during Van Nistelrooys absence meaning Wayne Rooney has sometimes had to play in a lone role up front</td>\n",
       "      <td>van nistelrooy set to return manchester united striker ruud van nistelirooy may make his comeback after an achilles tendon injury in the fa cup fifth round tie at everton on saturday he has been out of action for nearly three months and had targeted a return in the champions league tie with ac milan on 23 february but Manchester united manager sir alex ferguson hinted he may be back early he said there is a chance he could be involved at everdayton but well just have to see how he comes through training the 28 year old has been training in holland and ferguson said ruud comes back on tuesday and we need to assess how far on he is the training he have been doing in Holland has been perfect and i am very satisfied with it even without van NistelROoy united made it 13 wins in 15 league games with a 2 0 derby victory at manchester city on sunday but they will be boosted by the return of the dutch international who is the clubs top scorer this season with 12 goals he has not played since aggravating the injury in his the 3 0 win against west brom on 27 november ferguson was unhappy with van nisteelroooy for not revealing he was carrying an injury united have also been hit by injuries to both alan smith and louis saha during van nisselrooys absence meaning wayne rooney has sometimes had to play in a lone role up front the teenager has responded with six goals in nine games including the only goal he had not played for long time on he was wearing his training he was only training in the league on urok ufcfc player of the year after ufc ufc defender ufc player ufficffic player su su suffice defender defender kapapitated by injury umpirokapo player Mau Maucapoapoapo defender on kimbede Maucane on kimonthly he is wearing a long time training he is playing in his current role as well as his current playing role in the 24th week of the season as a result of his training the best player on the 22nd day of his playing career is the best manchester United manager alex Ferguson said he would have been more satisfied with the performance he has played in the last 16 games with the first goal against West Brom on jubim on kulday he is a better player on kubim he is training in</td>\n",
       "      <td>0.873950</td>\n",
       "    </tr>\n",
       "    <tr>\n",
       "      <th>1</th>\n",
       "      <td>brentford v southampton griffin park tuesday 1 march 1945 gmt barry knight kent home to manchester united in the quarter finals midfielder andrew frampton and striker deon burton are both slight doubts with hamstring injuries but should be fit saints are missing their entire first choice midfield of jamie redknapp graeme le saux nigel quashie and david prutton anders svensson and matt oakley are likely replacements with kevin phillips also scheduled to start with henri camara rested brentford boss martin allen after conceding eight goals in our last three matches i have to admit im not very confident theres no doubt were the underdogs and after defending so poorly recently its not looking good southampton have just drawn with the premiership champions and that makes our task harder than it was already southampton boss harry redknapp we know they can give us problems brentford have done well but we are the premiership side and should have the better players staying in the premiership is our priority we want to win of course we do well battle but if it comes to a football match i think well win key match stats brentford are the lowest ranked club left in the fa cup theyre on their best run in the competition since reaching the quarter finals for the fourth time in their history 16 years ago now they have the carrot of the plum draw in the last eight dangling before them victory over premiership strugglers southampton would bring the mighty manchester united to griffin park and a gigantic pay day for the sole league one survivors martin allens brave side came back from two goals down at st marys to earn a deserved replay southampton striker henri camara scored twice from close range to put the saints in command but isaiah rankin hit back just before half time and sam sodje headed past</td>\n",
       "      <td>Victory over Premiership strugglers Southampton would bring the mighty Manchester United to Griffin Park and a gigantic pay day for the sole League One survivors To get to within two matches of a second visit to the Millennium Stadium in three years for the final Harry Redknapp must guide his side past a club 36 places inferior on the League ladder and a manager 19 years his junior who played under him at West Ham SOUTHAMPTON go into this tie on the back of an eventful Premiership match with Arsenal on SaturdaySouthampton were last humbled by a club from the third tier six years agoBrentford have done well but we are the Premiership side and should have the better playersBut to write another chapter in their FA Cup history the Solent side must avoid succumbing to</td>\n",
       "      <td>brentford v southampton griffin park tuesday 1 march 1945 gmt barry knight kent home to manchester united in the quarter finals midfielder andrew frampton and striker deon burton are both slight doubts with hamstring injuries but should be fit saints are missing their entire first choice midfield of jamie redknapp graeme le saux nigel quashie and david prutton anders svensson and matt oakley are likely replacements with kevin phillips also scheduled to start with henri camara rested brentford boss martin allen after conceding eight goals in our last three matches i have to admit im not very confident theres no doubt were the underdogs and after defending so poorly recently its not looking good southampton have just drawn with the premiership champions and that makes our task harder than it was already southampton boss harry redknap we know they can give us problems brentf have done well but we are the prem premiership side and should have the better players staying in the Premiership is our priority we want to win of course we do well battle but if it comes to a football match i think we have the best players in the fa cup theyre on their best run in the competition since reaching the quarterfinals for the fourth time in their history 16 years ago now they have the carrot of the plum draw in the last eight seasons before them victory over premiership we don’t want to play you are a high ranked club and a gigantic pay day for the sole league one of the highest ranked club in the league i think well win key match stats Brentford are the lowest ranked club left in the world cup they’re on the best run In the competitionSince reaching the Quarter finals for the four goals down at st marys to earn a deserved replay southampton would bring the mighty manchester football fans away from their weekend weekend in the final week of the season high pay day at home to premiership strugglers southampton are in the midst of a run with the saints in command but isaiah rankin hit back just before half time time and sam sodje headed past</td>\n",
       "      <td>0.296296</td>\n",
       "    </tr>\n",
       "    <tr>\n",
       "      <th>2</th>\n",
       "      <td>pountney handed ban and fine northampton coach budge pountney has been fined 2 000 and banned from match day coaching for six weeks for calling a referee a disgrace pountney was found guilty of bringing the game into disrepute at a rugby football union disciplinary hearing in london on thursday night pountney criticised referee steve landers performance in northamptons defeat by saracens on 5 february the last two weeks of the six week ban are suspended pountney pleaded guilty to the offence before a panel consisting of chairman robert horner nigel gillingham and jeff probyn the ban means former scotland international pountney cannot enter the playing enclosure technical areas or go near the touchline tunnel or players and officials areas on the day of a game</td>\n",
       "      <td>Northampton coach Budge Pountney has been fined 2000 and banned from matchday coaching for six weeks for calling a referee a disgracePountney criticised referee Steve Landers performance in Northamptons defeat by Saracens on 5 FebruaryPountney was found guilty of bringing the game into disrepute at a Rugby Football Union disciplinary hearing in London on Thursday night</td>\n",
       "      <td>pountney handed ban and fine northampton coach budge pountney has been fined 2 000 and banned from match day coaching for six weeks for calling a referee a disgrace suountney was found guilty of bringing the game into disrepute at a rugby football union disciplinary hearing in london on thursday night pisyney criticised referee steve landers performance in northamptons defeat by saracens on 5 february the last two weeks of the six week ban are suspended pountneys pleaded guilty to the offence before a panel consisting of chairman robert horner nigel gillingham and jeff probyn the ban means former scotland international Pountney cannot enter the playing enclosure technical areas or go near the touchline tunnel or players and officials areas on the day of a game</td>\n",
       "      <td>0.854545</td>\n",
       "    </tr>\n",
       "    <tr>\n",
       "      <th>3</th>\n",
       "      <td>iaaf will contest greek decision the international association of athletics federations will appeal against the acquittal of greek athletes kostas kenteris and katerina thanou the high profile duo were cleared of doping offences by the greek athletics federation segas last month now the iaaf will lodge an appeal with the court of arbitration for sport cas and has suspended both athletes an iaaf statement said the doping review board concluded that the decision is erroneous the statement continued both athletes cases will be refered to arbitration before the cas the decision in both cases will be final and binding segas said the iaaf appeal was expected and understandable now we are going to await the final result which we cannot prejudge said segas chairman vassilis sevastis kenteris who won olympic 200m gold at the 2000 olympics and thanou were suspended by the iaaf last december after failing to take routine drugs tests before the athens games however the independent tribunal overturned those bans clearing the sprinters of avoiding tests in tel aviv chicago and athens and failing to notify anti doping officials of their whereabouts before the olympics kenteris lawyer gregory ioannidis described the iaafs decision as not unexpected but told bbc sport he did not expect the organisation to take action so quickly the iaafs timing is extremely surprising and it creates concerns and questions said ioannidis the iaaf has not yet received the complete file of proceedings which include statements testimonies the closing speeches of defence counsel and nine audio tapes we have the evidence and it is time the world discovered the truth kenteris and thanou dramatically withdrew from last summers olympics after missing a drugs test at the olympic village on 12 august the pair then spent four days in a hospital claiming they had been injured in a motorcycle crash it was</td>\n",
       "      <td>Kenteris who won Olympic 200m gold at the 2000 Olympics and Thanou were suspended by the IAAF last December after failing to take routine drugs tests before the Athens GamesSegas said the IAAF appeal was expected and understandableAn IAAF statement said The Doping Review Board concluded that the decision is erroneousNow the IAAF will lodge an appeal with the Court of Arbitration for Sport CAS and has suspended both athletesKenteris and Thanou dramatically withdrew from last summers Olympics after missing a drugs test at the Olympic Village on 12 AugustThe International Association of Athletics Federations will appeal against the acquittal of Greek athletes Kostas Kenteris and Katerina ThanouThanou and Kenteris still face a criminal trial later this year for allegedly</td>\n",
       "      <td>IAaf will contest greek decision the international association of athletics federations will appeal against the acquittal of greek athletes kostas kenteris and katerina thanou the high profile duo were cleared of doping offences by the greek athletics federation segas last month now the iaaf will lodge an appeal with the court of arbitration for sport cas and has suspended both athletes an IAaf statement said the doping review board concluded that the decision is erroneous the statement continued both athletes cases will be refered to arbitration before the cas the decision in both cases will have to be final and binding segas said the Iiaaf appeal was expected and understandable now we are going to await the final result which we cannot prejudge said segas chairman vassilis sevastis Kenteris who won olympic 200m gold at the 2000 olympics and thanou were suspended by the iiaaf last december after failing to take routine drugs tests before the athens games however the independent tribunal overturned those bans clearing the sprinters of avoiding tests in tel aviv chicago chicago and athens and failing to notify anti doping officials of their whereabouts before the Olympics on 12 august we have the evidence and it is time the world discovered the evidence on the evidence tiaafs decision as not unexpected but told bbc sport he did not expect the organisation to take action so quickly the bbc sports they have not yet received the complete file of proceedings which include statements that include statements testimonies the closing speeches of defence counsel and nine audio tapes the closing interviews of defence interviews and those documents and they are time the IIAaf is a lawyer gregory ioannidis what is now the house of proceedings will be the epi court of proceedings and it will be as long as the case the case in defence counsel will be on the list of proceedings it will include statements on the opening speeches of defense counsel and 9 audio tapes we have all the evidence, it is the evidence we are the evidence now we want the evidence the evidence. we are time we can only discovered the truth keteris and than cou dramatically withdrew from last summers oseics after missing a drugs test at the olympi village on 12 b august the pair then spent four days in a hospital claiming they had been injured in a motorcycle crash claiming they were in a state crash crash it was not</td>\n",
       "      <td>0.722689</td>\n",
       "    </tr>\n",
       "    <tr>\n",
       "      <th>4</th>\n",
       "      <td>jones medals must go if guilty world anti doping agency wada chief dick pound says marion jones should be stripped of all her medals if found guilty of taking banned substances victor conte of balco laboratories claims the american sprinter regularly used drugs to enhance her performance if she is found guilty she should be stripped of all her medals and banned for two years said pound asked if there was a timescale as to what medals could be taken pound said that is not an issue at all however under international olympic committee ioc rules athletes can only be stripped of their medals if caught within three years of the event jones who won five medals at the 2000 olympics denies using drugs and says she will take legal action over contes allegations balco laboratories is the firm at the centre of a wide reaching investigation into doping in the us pound continued if she has indeed taken drugs it is going to be a big disappointment for a lot of people</td>\n",
       "      <td>If she is found guilty she should be stripped of all her medals and banned for two years said PoundWorld AntiDoping Agency WADA chief Dick Pound says Marion Jones should be stripped of all her medals if found guilty of taking banned substancesAsked if there was a timescale as to what medals could be taken Pound said That is not an issue at allJones who won five medals at the 2000 Olympics denies using drugs and says she will take legal action over Contes allegations</td>\n",
       "      <td>jones medals must go if guilty world anti doping agency wada chief dick pound says marion jones should be stripped of all her medals if found guilty of taking banned substances victor conte of balco laboratories claims the american sprinter regularly used drugs to enhance her performance if she is found guilty she should be awarded of all your medals and banned for two years said pound asked if there was a timescale as to what medals could be taken pound said that is not an issue at all however under international olympic committee ioc rules athletes can only be stripped with their medals if caught within three years of the event jones who won five medals at the 2000 olympics denies using drugs and says she will take legal action over contes allegations balco lab is the firm at the centre of a wide reaching investigation into doping in the us pound continued if she has indeed taken drugs it is going to be a big disappointment for a lot of people</td>\n",
       "      <td>0.880952</td>\n",
       "    </tr>\n",
       "  </tbody>\n",
       "</table>\n",
       "</div>"
      ],
      "text/plain": [
       "                                                                                                                                                                                                                                                                                                                                                                                                                                                                                                                                                                                                                                                                                                                                                                                                                                                                                                                                                                                                                                                                                                                                                                                                                                                                                                                                                                                                                                                                                                                                                                                                                                                                                                                                                                                                                                                                                                                                                              Article  \\\n",
       "0                                                                                                                                                                                                                                                                                                                                                                                                                                                                                  van nistelrooy set to return manchester united striker ruud van nistelrooy may make his comeback after an achilles tendon injury in the fa cup fifth round tie at everton on saturday he has been out of action for nearly three months and had targeted a return in the champions league tie with ac milan on 23 february but manchester united manager sir alex ferguson hinted he may be back early he said there is a chance he could be involved at everton but well just have to see how he comes through training the 28 year old has been training in holland and ferguson said ruud comes back on tuesday and we need to assess how far on he is the training he has been doing in holland has been perfect and i am very satisfied with it even without van nistelrooy united made it 13 wins in 15 league games with a 2 0 derby victory at manchester city on sunday but they will be boosted by the return of the dutch international who is the clubs top scorer this season with 12 goals he has not played since aggravating the injury in the 3 0 win against west brom on 27 november ferguson was unhappy with van nistelrooy for not revealing he was carrying an injury united have also been hit by injuries to both alan smith and louis saha during van nistelrooys absence meaning wayne rooney has sometimes had to play in a lone role up front the teenager has responded with six goals in nine games including the first goal against city on sunday   \n",
       "1                                                                                brentford v southampton griffin park tuesday 1 march 1945 gmt barry knight kent home to manchester united in the quarter finals midfielder andrew frampton and striker deon burton are both slight doubts with hamstring injuries but should be fit saints are missing their entire first choice midfield of jamie redknapp graeme le saux nigel quashie and david prutton anders svensson and matt oakley are likely replacements with kevin phillips also scheduled to start with henri camara rested brentford boss martin allen after conceding eight goals in our last three matches i have to admit im not very confident theres no doubt were the underdogs and after defending so poorly recently its not looking good southampton have just drawn with the premiership champions and that makes our task harder than it was already southampton boss harry redknapp we know they can give us problems brentford have done well but we are the premiership side and should have the better players staying in the premiership is our priority we want to win of course we do well battle but if it comes to a football match i think well win key match stats brentford are the lowest ranked club left in the fa cup theyre on their best run in the competition since reaching the quarter finals for the fourth time in their history 16 years ago now they have the carrot of the plum draw in the last eight dangling before them victory over premiership strugglers southampton would bring the mighty manchester united to griffin park and a gigantic pay day for the sole league one survivors martin allens brave side came back from two goals down at st marys to earn a deserved replay southampton striker henri camara scored twice from close range to put the saints in command but isaiah rankin hit back just before half time and sam sodje headed past   \n",
       "2                                                                                                                                                                                                                                                                                                                                                                                                                                                                                                                                                                                                                                                                                                                                                                                                                                                                                                                                                                                                                                                                                                                                                                   pountney handed ban and fine northampton coach budge pountney has been fined 2 000 and banned from match day coaching for six weeks for calling a referee a disgrace pountney was found guilty of bringing the game into disrepute at a rugby football union disciplinary hearing in london on thursday night pountney criticised referee steve landers performance in northamptons defeat by saracens on 5 february the last two weeks of the six week ban are suspended pountney pleaded guilty to the offence before a panel consisting of chairman robert horner nigel gillingham and jeff probyn the ban means former scotland international pountney cannot enter the playing enclosure technical areas or go near the touchline tunnel or players and officials areas on the day of a game   \n",
       "3  iaaf will contest greek decision the international association of athletics federations will appeal against the acquittal of greek athletes kostas kenteris and katerina thanou the high profile duo were cleared of doping offences by the greek athletics federation segas last month now the iaaf will lodge an appeal with the court of arbitration for sport cas and has suspended both athletes an iaaf statement said the doping review board concluded that the decision is erroneous the statement continued both athletes cases will be refered to arbitration before the cas the decision in both cases will be final and binding segas said the iaaf appeal was expected and understandable now we are going to await the final result which we cannot prejudge said segas chairman vassilis sevastis kenteris who won olympic 200m gold at the 2000 olympics and thanou were suspended by the iaaf last december after failing to take routine drugs tests before the athens games however the independent tribunal overturned those bans clearing the sprinters of avoiding tests in tel aviv chicago and athens and failing to notify anti doping officials of their whereabouts before the olympics kenteris lawyer gregory ioannidis described the iaafs decision as not unexpected but told bbc sport he did not expect the organisation to take action so quickly the iaafs timing is extremely surprising and it creates concerns and questions said ioannidis the iaaf has not yet received the complete file of proceedings which include statements testimonies the closing speeches of defence counsel and nine audio tapes we have the evidence and it is time the world discovered the truth kenteris and thanou dramatically withdrew from last summers olympics after missing a drugs test at the olympic village on 12 august the pair then spent four days in a hospital claiming they had been injured in a motorcycle crash it was   \n",
       "4                                                                                                                                                                                                                                                                                                                                                                                                                                                                                                                                                                                                                                                                                                                                                                                                                                                                                                                                                              jones medals must go if guilty world anti doping agency wada chief dick pound says marion jones should be stripped of all her medals if found guilty of taking banned substances victor conte of balco laboratories claims the american sprinter regularly used drugs to enhance her performance if she is found guilty she should be stripped of all her medals and banned for two years said pound asked if there was a timescale as to what medals could be taken pound said that is not an issue at all however under international olympic committee ioc rules athletes can only be stripped of their medals if caught within three years of the event jones who won five medals at the 2000 olympics denies using drugs and says she will take legal action over contes allegations balco laboratories is the firm at the centre of a wide reaching investigation into doping in the us pound continued if she has indeed taken drugs it is going to be a big disappointment for a lot of people   \n",
       "\n",
       "                                                                                                                                                                                                                                                                                                                                                                                                                                                                                                                                                                                                                                                                                                                                                                                              Actual Summary  \\\n",
       "0                                                                                                                    The 28yearold has been training in Holland and Ferguson said Ruud comes back on Tuesday and we need to assess how far on he isThe training he has been doing in Holland has been perfect and I am very satisfied with itManchester United striker Ruud van Nistelrooy may make his comeback after an Achilles tendon injury in the FA Cup fifth round tie at Everton on SaturdayEven without Van Nistelrooy United made it 13 wins in 15 league games with a 20 derby victory at Manchester City on SundayUnited have also been hit by injuries to both Alan Smith and Louis Saha during Van Nistelrooys absence meaning Wayne Rooney has sometimes had to play in a lone role up front   \n",
       "1      Victory over Premiership strugglers Southampton would bring the mighty Manchester United to Griffin Park and a gigantic pay day for the sole League One survivors To get to within two matches of a second visit to the Millennium Stadium in three years for the final Harry Redknapp must guide his side past a club 36 places inferior on the League ladder and a manager 19 years his junior who played under him at West Ham SOUTHAMPTON go into this tie on the back of an eventful Premiership match with Arsenal on SaturdaySouthampton were last humbled by a club from the third tier six years agoBrentford have done well but we are the Premiership side and should have the better playersBut to write another chapter in their FA Cup history the Solent side must avoid succumbing to   \n",
       "2                                                                                                                                                                                                                                                                                                                                                                                                                        Northampton coach Budge Pountney has been fined 2000 and banned from matchday coaching for six weeks for calling a referee a disgracePountney criticised referee Steve Landers performance in Northamptons defeat by Saracens on 5 FebruaryPountney was found guilty of bringing the game into disrepute at a Rugby Football Union disciplinary hearing in London on Thursday night   \n",
       "3  Kenteris who won Olympic 200m gold at the 2000 Olympics and Thanou were suspended by the IAAF last December after failing to take routine drugs tests before the Athens GamesSegas said the IAAF appeal was expected and understandableAn IAAF statement said The Doping Review Board concluded that the decision is erroneousNow the IAAF will lodge an appeal with the Court of Arbitration for Sport CAS and has suspended both athletesKenteris and Thanou dramatically withdrew from last summers Olympics after missing a drugs test at the Olympic Village on 12 AugustThe International Association of Athletics Federations will appeal against the acquittal of Greek athletes Kostas Kenteris and Katerina ThanouThanou and Kenteris still face a criminal trial later this year for allegedly   \n",
       "4                                                                                                                                                                                                                                                                                                                     If she is found guilty she should be stripped of all her medals and banned for two years said PoundWorld AntiDoping Agency WADA chief Dick Pound says Marion Jones should be stripped of all her medals if found guilty of taking banned substancesAsked if there was a timescale as to what medals could be taken Pound said That is not an issue at allJones who won five medals at the 2000 Olympics denies using drugs and says she will take legal action over Contes allegations   \n",
       "\n",
       "                                                                                                                                                                                                                                                                                                                                                                                                                                                                                                                                                                                                                                                                                                                                                                                                                                                                                                                                                                                                                                                                                                                                                                                                                                                                                                                                                                                                                                                                                                                                                                                                                                                                                                                                                                                                                                                                                                                                                                                                                                                                                                                                                                                                                                                                                                                                                                                                                                                                                               Predicted Summary  \\\n",
       "0                                                                                                                                                                                                                          van nistelrooy set to return manchester united striker ruud van nistelirooy may make his comeback after an achilles tendon injury in the fa cup fifth round tie at everton on saturday he has been out of action for nearly three months and had targeted a return in the champions league tie with ac milan on 23 february but Manchester united manager sir alex ferguson hinted he may be back early he said there is a chance he could be involved at everdayton but well just have to see how he comes through training the 28 year old has been training in holland and ferguson said ruud comes back on tuesday and we need to assess how far on he is the training he have been doing in Holland has been perfect and i am very satisfied with it even without van NistelROoy united made it 13 wins in 15 league games with a 2 0 derby victory at manchester city on sunday but they will be boosted by the return of the dutch international who is the clubs top scorer this season with 12 goals he has not played since aggravating the injury in his the 3 0 win against west brom on 27 november ferguson was unhappy with van nisteelroooy for not revealing he was carrying an injury united have also been hit by injuries to both alan smith and louis saha during van nisselrooys absence meaning wayne rooney has sometimes had to play in a lone role up front the teenager has responded with six goals in nine games including the only goal he had not played for long time on he was wearing his training he was only training in the league on urok ufcfc player of the year after ufc ufc defender ufc player ufficffic player su su suffice defender defender kapapitated by injury umpirokapo player Mau Maucapoapoapo defender on kimbede Maucane on kimonthly he is wearing a long time training he is playing in his current role as well as his current playing role in the 24th week of the season as a result of his training the best player on the 22nd day of his playing career is the best manchester United manager alex Ferguson said he would have been more satisfied with the performance he has played in the last 16 games with the first goal against West Brom on jubim on kulday he is a better player on kubim he is training in   \n",
       "1                                                                                                                                                                                                                                                                                                                                                                        brentford v southampton griffin park tuesday 1 march 1945 gmt barry knight kent home to manchester united in the quarter finals midfielder andrew frampton and striker deon burton are both slight doubts with hamstring injuries but should be fit saints are missing their entire first choice midfield of jamie redknapp graeme le saux nigel quashie and david prutton anders svensson and matt oakley are likely replacements with kevin phillips also scheduled to start with henri camara rested brentford boss martin allen after conceding eight goals in our last three matches i have to admit im not very confident theres no doubt were the underdogs and after defending so poorly recently its not looking good southampton have just drawn with the premiership champions and that makes our task harder than it was already southampton boss harry redknap we know they can give us problems brentf have done well but we are the prem premiership side and should have the better players staying in the Premiership is our priority we want to win of course we do well battle but if it comes to a football match i think we have the best players in the fa cup theyre on their best run in the competition since reaching the quarterfinals for the fourth time in their history 16 years ago now they have the carrot of the plum draw in the last eight seasons before them victory over premiership we don’t want to play you are a high ranked club and a gigantic pay day for the sole league one of the highest ranked club in the league i think well win key match stats Brentford are the lowest ranked club left in the world cup they’re on the best run In the competitionSince reaching the Quarter finals for the four goals down at st marys to earn a deserved replay southampton would bring the mighty manchester football fans away from their weekend weekend in the final week of the season high pay day at home to premiership strugglers southampton are in the midst of a run with the saints in command but isaiah rankin hit back just before half time time and sam sodje headed past   \n",
       "2                                                                                                                                                                                                                                                                                                                                                                                                                                                                                                                                                                                                                                                                                                                                                                                                                                                                                                                                                                                                                                                                                                                                                                                                                                                                                                                                                                                                                                                                                                                                                                                                                                                                                                             pountney handed ban and fine northampton coach budge pountney has been fined 2 000 and banned from match day coaching for six weeks for calling a referee a disgrace suountney was found guilty of bringing the game into disrepute at a rugby football union disciplinary hearing in london on thursday night pisyney criticised referee steve landers performance in northamptons defeat by saracens on 5 february the last two weeks of the six week ban are suspended pountneys pleaded guilty to the offence before a panel consisting of chairman robert horner nigel gillingham and jeff probyn the ban means former scotland international Pountney cannot enter the playing enclosure technical areas or go near the touchline tunnel or players and officials areas on the day of a game   \n",
       "3  IAaf will contest greek decision the international association of athletics federations will appeal against the acquittal of greek athletes kostas kenteris and katerina thanou the high profile duo were cleared of doping offences by the greek athletics federation segas last month now the iaaf will lodge an appeal with the court of arbitration for sport cas and has suspended both athletes an IAaf statement said the doping review board concluded that the decision is erroneous the statement continued both athletes cases will be refered to arbitration before the cas the decision in both cases will have to be final and binding segas said the Iiaaf appeal was expected and understandable now we are going to await the final result which we cannot prejudge said segas chairman vassilis sevastis Kenteris who won olympic 200m gold at the 2000 olympics and thanou were suspended by the iiaaf last december after failing to take routine drugs tests before the athens games however the independent tribunal overturned those bans clearing the sprinters of avoiding tests in tel aviv chicago chicago and athens and failing to notify anti doping officials of their whereabouts before the Olympics on 12 august we have the evidence and it is time the world discovered the evidence on the evidence tiaafs decision as not unexpected but told bbc sport he did not expect the organisation to take action so quickly the bbc sports they have not yet received the complete file of proceedings which include statements that include statements testimonies the closing speeches of defence counsel and nine audio tapes the closing interviews of defence interviews and those documents and they are time the IIAaf is a lawyer gregory ioannidis what is now the house of proceedings will be the epi court of proceedings and it will be as long as the case the case in defence counsel will be on the list of proceedings it will include statements on the opening speeches of defense counsel and 9 audio tapes we have all the evidence, it is the evidence we are the evidence now we want the evidence the evidence. we are time we can only discovered the truth keteris and than cou dramatically withdrew from last summers oseics after missing a drugs test at the olympi village on 12 b august the pair then spent four days in a hospital claiming they had been injured in a motorcycle crash claiming they were in a state crash crash it was not   \n",
       "4                                                                                                                                                                                                                                                                                                                                                                                                                                                                                                                                                                                                                                                                                                                                                                                                                                                                                                                                                                                                                                                                                                                                                                                                                                                                                                                                                                                                                                                                                                                jones medals must go if guilty world anti doping agency wada chief dick pound says marion jones should be stripped of all her medals if found guilty of taking banned substances victor conte of balco laboratories claims the american sprinter regularly used drugs to enhance her performance if she is found guilty she should be awarded of all your medals and banned for two years said pound asked if there was a timescale as to what medals could be taken pound said that is not an issue at all however under international olympic committee ioc rules athletes can only be stripped with their medals if caught within three years of the event jones who won five medals at the 2000 olympics denies using drugs and says she will take legal action over contes allegations balco lab is the firm at the centre of a wide reaching investigation into doping in the us pound continued if she has indeed taken drugs it is going to be a big disappointment for a lot of people   \n",
       "\n",
       "   ROUGE-2 Precision  \n",
       "0           0.873950  \n",
       "1           0.296296  \n",
       "2           0.854545  \n",
       "3           0.722689  \n",
       "4           0.880952  "
      ]
     },
     "execution_count": 41,
     "metadata": {},
     "output_type": "execute_result"
    }
   ],
   "source": [
    "# Evaluate the model\n",
    "test_articles, actual_summaries, predicted_summaries, rouge2_precision_scores = evaluate2(model, test_dataloader)\n",
    "\n",
    "# Create a dictionary with the extracted data\n",
    "data = {\n",
    "    'Article': test_articles,\n",
    "    'Actual Summary': actual_summaries,\n",
    "    'Predicted Summary': predicted_summaries,\n",
    "    'ROUGE-2 Precision': rouge2_precision_scores,\n",
    "}\n",
    "\n",
    "# Create a Pandas DataFrame from the dictionary\n",
    "results_rouge2_df = pd.DataFrame(data)\n",
    "\n",
    "results_rouge2_df.head(5)"
   ]
  },
  {
   "cell_type": "code",
   "execution_count": 42,
   "metadata": {
    "executionInfo": {
     "elapsed": 191,
     "status": "ok",
     "timestamp": 1706695722109,
     "user": {
      "displayName": "yi Liu",
      "userId": "06730254382051748854"
     },
     "user_tz": 300
    },
    "id": "2peOZZncTmAu"
   },
   "outputs": [],
   "source": [
    "results_rouge2_df.to_excel('results_rouge2.xlsx')"
   ]
  },
  {
   "cell_type": "code",
   "execution_count": 43,
   "metadata": {
    "executionInfo": {
     "elapsed": 5467,
     "status": "ok",
     "timestamp": 1706695727574,
     "user": {
      "displayName": "yi Liu",
      "userId": "06730254382051748854"
     },
     "user_tz": 300
    },
    "id": "AtCbZJ0QXpOO"
   },
   "outputs": [
    {
     "name": "stderr",
     "output_type": "stream",
     "text": [
      "Some non-default generation parameters are set in the model config. These should go into a GenerationConfig file (https://huggingface.co/docs/transformers/generation_strategies#save-a-custom-decoding-strategy-with-your-model) instead. This warning will be raised to an exception in v4.41.\n",
      "Non-default generation parameters: {'early_stopping': True, 'num_beams': 4, 'no_repeat_ngram_size': 3, 'forced_bos_token_id': 0, 'forced_eos_token_id': 2}\n"
     ]
    }
   ],
   "source": [
    "\n",
    "model.save_pretrained(\"pre_train_sum_batch_4\")"
   ]
  },
  {
   "cell_type": "code",
   "execution_count": 44,
   "metadata": {
    "executionInfo": {
     "elapsed": 15,
     "status": "ok",
     "timestamp": 1706695727576,
     "user": {
      "displayName": "yi Liu",
      "userId": "06730254382051748854"
     },
     "user_tz": 300
    },
    "id": "y2jYGTN2hJYN"
   },
   "outputs": [],
   "source": [
    "abc=\"Samantha Bee called out Mark Meadows, who was White House chief of staff under Donald Trump, after 2,319 of his text messages revealed how deep he and other key Republicans were involved in the plot to overturn the election and stop Joe Biden from becoming president. ??More than 2,000 text messages!?? Bee said on ??Full Frontal?? on Thursday night. ??This proves definitively that Mark Meadows is a gossipy little bitch.?? The messages included Fox News host Sean Hannity taking orders from the White House on how to help with voter turnout on Election Day, Sen. Mike Lee (R-Utah) pleading for talking points after the election and Rep. Marjorie Taylor Greene (R-Ga.) calling for ??Marshall?? law. ??Marshall??s Law, as everyone knows, is that no one should pay retail prices for quality yoga pants,?? Bee cracked. Bee also noted that Meadows still has more than 1,000 messages that he hasn??t turned over. ??Damn! Mark Meadows, you are messy,?? she said. ??Delete my number!??Bee urged the Jan. 6 committee to push forward with its investigation. ??If there??s one thing these texts prove it??s that it doesn??t matter to Republicans if they know for a fact that Joe Biden won the election,?? she said. ??What matters is these human bumper stickers are more than willing to use lies and a violent base to both take and keep power.?? And she warned that if they??re not held accountable, it??ll happen again:\""
   ]
  },
  {
   "cell_type": "code",
   "execution_count": 45,
   "metadata": {
    "executionInfo": {
     "elapsed": 14,
     "status": "ok",
     "timestamp": 1706695727576,
     "user": {
      "displayName": "yi Liu",
      "userId": "06730254382051748854"
     },
     "user_tz": 300
    },
    "id": "LJSOyNp3hJYV"
   },
   "outputs": [],
   "source": [
    "input_ids = tokenizer.encode(abc, return_tensors=\"pt\")"
   ]
  },
  {
   "cell_type": "code",
   "execution_count": 46,
   "metadata": {
    "colab": {
     "base_uri": "https://localhost:8080/",
     "height": 391
    },
    "executionInfo": {
     "elapsed": 379,
     "status": "error",
     "timestamp": 1706695727941,
     "user": {
      "displayName": "yi Liu",
      "userId": "06730254382051748854"
     },
     "user_tz": 300
    },
    "id": "uHU7_kfJhJYV",
    "outputId": "720abadd-3dfa-4331-e0d0-812ba63fbff7"
   },
   "outputs": [],
   "source": [
    "summary_ids = model.generate(input_ids=input_ids, max_length=1024, num_beams=17, length_penalty=2.0, early_stopping=False)\n",
    "generated_summary = tokenizer.decode(summary_ids[0], skip_special_tokens=True)\n"
   ]
  },
  {
   "cell_type": "code",
   "execution_count": 47,
   "metadata": {
    "executionInfo": {
     "elapsed": 2,
     "status": "aborted",
     "timestamp": 1706695727941,
     "user": {
      "displayName": "yi Liu",
      "userId": "06730254382051748854"
     },
     "user_tz": 300
    },
    "id": "_AUyvY8ahJYV"
   },
   "outputs": [
    {
     "data": {
      "text/plain": [
       "'Samantha Bee called out Mark Meadows, who was White House chief of staff under Donald Trump, after 2,319 of his text messages revealed how deep he and other key Republicans were involved in the plot to overturn the election and stop Joe Biden from becoming president.?\\x80?More than 2,000 text messages!?\\x80” Bee said on?\\x83?Full Frontal?\\x80& on Thursday night.?\\u2000?This proves definitively that Mark Meadows is a gossipy little bitch.?\\x80?, Bee said. The messages included Fox News host Sean Hannity taking orders from the White House on how to help with voter turnout on Election Day, Sen. Mike Lee (R-Utah) pleading for talking points after the election, Rep. Marjorie Taylor, a member of the House Judiciary Committee, and Rep. David Cicilline, R-N.Y., calling for an investigation into Meadows’ alleged role in the conspiracy, according to Bee’s transcript of the Jan. 6 committee hearing, as well as a letter from Rep. Mark Meadows to Rep. Bob Goodlatte, D-Va., urging him to “delete my number.”?Bee urged Meadows to delete his number, which he hasn’t done, as everyone knows, is that no one should pay retail prices for quality yoga pants,?½�? Bee cracked. Bee also noted that Meadows still has more than 1,000 messages that he hasn?“?t turned over to the House Oversight and Government Reform Committee, which is looking into the allegations against him and his aides.? \\x80?Damn! I’m going to delete my number, you are not going to do anything about it,”” she said in a video posted to her Twitter account on Jan. 5. And she warned that if the committee is not held accountable:Bee urged the committee to push forward with its investigation into the “toxic” text messages:If there?\\x9c?s one thing these texts prove it?¶?n”t matter to Republicans if they know for a fact that Joe Biden won the election or that Hillary Clinton is running for president, or that is what matters is these human bumper stickers are proof that these people are more than willing to use lies and a violent base to both take and keep power.?\\x9d? And she urged that if they?\\x8d�?re not held liable, it?\\x81?ll happen again:'"
      ]
     },
     "execution_count": 47,
     "metadata": {},
     "output_type": "execute_result"
    }
   ],
   "source": [
    "generated_summary"
   ]
  },
  {
   "cell_type": "code",
   "execution_count": 52,
   "metadata": {},
   "outputs": [],
   "source": [
    "def clean_text(text):\n",
    "    # Remove punctuation and convert to lowercase\n",
    "    translator = str.maketrans(\"\", \"\", string.punctuation)\n",
    "    cleaned_text = text.translate(translator).lower()\n",
    "    return cleaned_text"
   ]
  },
  {
   "cell_type": "code",
   "execution_count": 53,
   "metadata": {
    "executionInfo": {
     "elapsed": 2,
     "status": "aborted",
     "timestamp": 1706695727942,
     "user": {
      "displayName": "yi Liu",
      "userId": "06730254382051748854"
     },
     "user_tz": 300
    },
    "id": "z8B8bcyRhJYW"
   },
   "outputs": [],
   "source": [
    "def rouge_1_evaluation(reference, generated):\n",
    "    reference = clean_text(reference)\n",
    "    generated = clean_text(generated)\n",
    "\n",
    "    reference_tokens = reference.split()\n",
    "    generated_tokens = generated.split()\n",
    "\n",
    "    # Calculate ROUGE-1 recall\n",
    "    overlapping_tokens = set(reference_tokens) & set(generated_tokens)\n",
    "    recall = len(overlapping_tokens) / len(reference_tokens) if len(reference_tokens) > 0 else 0.0\n",
    "\n",
    "    return recall"
   ]
  },
  {
   "cell_type": "code",
   "execution_count": 54,
   "metadata": {
    "executionInfo": {
     "elapsed": 2,
     "status": "aborted",
     "timestamp": 1706695727942,
     "user": {
      "displayName": "yi Liu",
      "userId": "06730254382051748854"
     },
     "user_tz": 300
    },
    "id": "dcAhSvQWhJYW"
   },
   "outputs": [
    {
     "name": "stdout",
     "output_type": "stream",
     "text": [
      "ROUGE-1 Recall: 0.6059322033898306\n"
     ]
    }
   ],
   "source": [
    "rouge_1_recall = rouge_1_evaluation(abc, generated_summary)\n",
    "print(f\"ROUGE-1 Recall: {rouge_1_recall}\")"
   ]
  },
  {
   "cell_type": "code",
   "execution_count": 55,
   "metadata": {
    "executionInfo": {
     "elapsed": 2,
     "status": "aborted",
     "timestamp": 1706695727942,
     "user": {
      "displayName": "yi Liu",
      "userId": "06730254382051748854"
     },
     "user_tz": 300
    },
    "id": "jp_0HpVzhJYW"
   },
   "outputs": [],
   "source": [
    "def rouge_2_evaluation(reference, generated):\n",
    "    reference = clean_text(reference)\n",
    "    generated = clean_text(generated)\n",
    "\n",
    "    reference_bigrams = list(zip(reference.split()[:-1], reference.split()[1:]))\n",
    "    generated_bigrams = list(zip(generated.split()[:-1], generated.split()[1:]))\n",
    "\n",
    "    # Calculate ROUGE-2 recall\n",
    "    overlapping_bigrams = set(reference_bigrams) & set(generated_bigrams)\n",
    "    recall = len(overlapping_bigrams) / len(reference_bigrams) if len(reference_bigrams) > 0 else 0.0\n",
    "\n",
    "    return recall"
   ]
  },
  {
   "cell_type": "code",
   "execution_count": 56,
   "metadata": {
    "executionInfo": {
     "elapsed": 2,
     "status": "aborted",
     "timestamp": 1706695727942,
     "user": {
      "displayName": "yi Liu",
      "userId": "06730254382051748854"
     },
     "user_tz": 300
    },
    "id": "hmgq0fqehJYW"
   },
   "outputs": [
    {
     "name": "stdout",
     "output_type": "stream",
     "text": [
      "ROUGE-2 Recall: 0.7489361702127659\n"
     ]
    }
   ],
   "source": [
    "rouge_2_recall = rouge_2_evaluation(abc, generated_summary)\n",
    "print(f\"ROUGE-2 Recall: {rouge_2_recall}\")"
   ]
  },
  {
   "cell_type": "code",
   "execution_count": null,
   "metadata": {},
   "outputs": [],
   "source": [
    "model.evaluate()"
   ]
  },
  {
   "cell_type": "code",
   "execution_count": null,
   "metadata": {},
   "outputs": [],
   "source": []
  }
 ],
 "metadata": {
  "accelerator": "GPU",
  "colab": {
   "gpuType": "T4",
   "provenance": []
  },
  "kernelspec": {
   "display_name": "Python 3 (ipykernel)",
   "language": "python",
   "name": "python3"
  },
  "language_info": {
   "codemirror_mode": {
    "name": "ipython",
    "version": 3
   },
   "file_extension": ".py",
   "mimetype": "text/x-python",
   "name": "python",
   "nbconvert_exporter": "python",
   "pygments_lexer": "ipython3",
   "version": "3.11.4"
  },
  "widgets": {
   "application/vnd.jupyter.widget-state+json": {
    "0ae39c5834c2440a8e131b0579245d9a": {
     "model_module": "@jupyter-widgets/controls",
     "model_module_version": "1.5.0",
     "model_name": "FloatProgressModel",
     "state": {
      "_dom_classes": [],
      "_model_module": "@jupyter-widgets/controls",
      "_model_module_version": "1.5.0",
      "_model_name": "FloatProgressModel",
      "_view_count": null,
      "_view_module": "@jupyter-widgets/controls",
      "_view_module_version": "1.5.0",
      "_view_name": "ProgressView",
      "bar_style": "success",
      "description": "",
      "description_tooltip": null,
      "layout": "IPY_MODEL_9d4e9deffa214caca44cc74d68fc2e08",
      "max": 1355863,
      "min": 0,
      "orientation": "horizontal",
      "style": "IPY_MODEL_81471b6479ac4240b5c46df64a355964",
      "value": 1355863
     }
    },
    "0b31e74eabf04f4f911667266ca7c4dc": {
     "model_module": "@jupyter-widgets/base",
     "model_module_version": "1.2.0",
     "model_name": "LayoutModel",
     "state": {
      "_model_module": "@jupyter-widgets/base",
      "_model_module_version": "1.2.0",
      "_model_name": "LayoutModel",
      "_view_count": null,
      "_view_module": "@jupyter-widgets/base",
      "_view_module_version": "1.2.0",
      "_view_name": "LayoutView",
      "align_content": null,
      "align_items": null,
      "align_self": null,
      "border": null,
      "bottom": null,
      "display": null,
      "flex": null,
      "flex_flow": null,
      "grid_area": null,
      "grid_auto_columns": null,
      "grid_auto_flow": null,
      "grid_auto_rows": null,
      "grid_column": null,
      "grid_gap": null,
      "grid_row": null,
      "grid_template_areas": null,
      "grid_template_columns": null,
      "grid_template_rows": null,
      "height": null,
      "justify_content": null,
      "justify_items": null,
      "left": null,
      "margin": null,
      "max_height": null,
      "max_width": null,
      "min_height": null,
      "min_width": null,
      "object_fit": null,
      "object_position": null,
      "order": null,
      "overflow": null,
      "overflow_x": null,
      "overflow_y": null,
      "padding": null,
      "right": null,
      "top": null,
      "visibility": null,
      "width": null
     }
    },
    "187cd6acc6a54c17b0a3d10e14d26831": {
     "model_module": "@jupyter-widgets/controls",
     "model_module_version": "1.5.0",
     "model_name": "HTMLModel",
     "state": {
      "_dom_classes": [],
      "_model_module": "@jupyter-widgets/controls",
      "_model_module_version": "1.5.0",
      "_model_name": "HTMLModel",
      "_view_count": null,
      "_view_module": "@jupyter-widgets/controls",
      "_view_module_version": "1.5.0",
      "_view_name": "HTMLView",
      "description": "",
      "description_tooltip": null,
      "layout": "IPY_MODEL_78b2664a0d0a4df49754460563f02568",
      "placeholder": "​",
      "style": "IPY_MODEL_c0d7a631364343a59152cccc102261d5",
      "value": " 456k/456k [00:00&lt;00:00, 6.51MB/s]"
     }
    },
    "199a180e2cd84cfc961fb0a964183513": {
     "model_module": "@jupyter-widgets/controls",
     "model_module_version": "1.5.0",
     "model_name": "HTMLModel",
     "state": {
      "_dom_classes": [],
      "_model_module": "@jupyter-widgets/controls",
      "_model_module_version": "1.5.0",
      "_model_name": "HTMLModel",
      "_view_count": null,
      "_view_module": "@jupyter-widgets/controls",
      "_view_module_version": "1.5.0",
      "_view_name": "HTMLView",
      "description": "",
      "description_tooltip": null,
      "layout": "IPY_MODEL_b1face2523b84067a6607a7c80cfa575",
      "placeholder": "​",
      "style": "IPY_MODEL_3db636f85c6840b8a7fd4753b81d6943",
      "value": " 1.36M/1.36M [00:00&lt;00:00, 39.5MB/s]"
     }
    },
    "241e64ce314e48349339373f02363530": {
     "model_module": "@jupyter-widgets/base",
     "model_module_version": "1.2.0",
     "model_name": "LayoutModel",
     "state": {
      "_model_module": "@jupyter-widgets/base",
      "_model_module_version": "1.2.0",
      "_model_name": "LayoutModel",
      "_view_count": null,
      "_view_module": "@jupyter-widgets/base",
      "_view_module_version": "1.2.0",
      "_view_name": "LayoutView",
      "align_content": null,
      "align_items": null,
      "align_self": null,
      "border": null,
      "bottom": null,
      "display": null,
      "flex": null,
      "flex_flow": null,
      "grid_area": null,
      "grid_auto_columns": null,
      "grid_auto_flow": null,
      "grid_auto_rows": null,
      "grid_column": null,
      "grid_gap": null,
      "grid_row": null,
      "grid_template_areas": null,
      "grid_template_columns": null,
      "grid_template_rows": null,
      "height": null,
      "justify_content": null,
      "justify_items": null,
      "left": null,
      "margin": null,
      "max_height": null,
      "max_width": null,
      "min_height": null,
      "min_width": null,
      "object_fit": null,
      "object_position": null,
      "order": null,
      "overflow": null,
      "overflow_x": null,
      "overflow_y": null,
      "padding": null,
      "right": null,
      "top": null,
      "visibility": null,
      "width": null
     }
    },
    "2ad67142637c4c09b07765345c0dec90": {
     "model_module": "@jupyter-widgets/controls",
     "model_module_version": "1.5.0",
     "model_name": "FloatProgressModel",
     "state": {
      "_dom_classes": [],
      "_model_module": "@jupyter-widgets/controls",
      "_model_module_version": "1.5.0",
      "_model_name": "FloatProgressModel",
      "_view_count": null,
      "_view_module": "@jupyter-widgets/controls",
      "_view_module_version": "1.5.0",
      "_view_name": "ProgressView",
      "bar_style": "success",
      "description": "",
      "description_tooltip": null,
      "layout": "IPY_MODEL_b7ab9e20648c420f88b8eaa69707b45f",
      "max": 456318,
      "min": 0,
      "orientation": "horizontal",
      "style": "IPY_MODEL_633dfaa7fd98486082d44621a7c682b6",
      "value": 456318
     }
    },
    "2b8e44c5550e443c8aa7925514c485c8": {
     "model_module": "@jupyter-widgets/controls",
     "model_module_version": "1.5.0",
     "model_name": "DescriptionStyleModel",
     "state": {
      "_model_module": "@jupyter-widgets/controls",
      "_model_module_version": "1.5.0",
      "_model_name": "DescriptionStyleModel",
      "_view_count": null,
      "_view_module": "@jupyter-widgets/base",
      "_view_module_version": "1.2.0",
      "_view_name": "StyleView",
      "description_width": ""
     }
    },
    "32b76883b14a484ba965309fcaec0a7e": {
     "model_module": "@jupyter-widgets/controls",
     "model_module_version": "1.5.0",
     "model_name": "HBoxModel",
     "state": {
      "_dom_classes": [],
      "_model_module": "@jupyter-widgets/controls",
      "_model_module_version": "1.5.0",
      "_model_name": "HBoxModel",
      "_view_count": null,
      "_view_module": "@jupyter-widgets/controls",
      "_view_module_version": "1.5.0",
      "_view_name": "HBoxView",
      "box_style": "",
      "children": [
       "IPY_MODEL_f7accb0c37864189986fac311fc2fdf5",
       "IPY_MODEL_2ad67142637c4c09b07765345c0dec90",
       "IPY_MODEL_187cd6acc6a54c17b0a3d10e14d26831"
      ],
      "layout": "IPY_MODEL_fc539ae74bd049b381e6291326f90f2e"
     }
    },
    "3965c5b36a034de8b382ade7e3380a03": {
     "model_module": "@jupyter-widgets/controls",
     "model_module_version": "1.5.0",
     "model_name": "HTMLModel",
     "state": {
      "_dom_classes": [],
      "_model_module": "@jupyter-widgets/controls",
      "_model_module_version": "1.5.0",
      "_model_name": "HTMLModel",
      "_view_count": null,
      "_view_module": "@jupyter-widgets/controls",
      "_view_module_version": "1.5.0",
      "_view_name": "HTMLView",
      "description": "",
      "description_tooltip": null,
      "layout": "IPY_MODEL_b505dd59aecd4b849916402d13b97972",
      "placeholder": "​",
      "style": "IPY_MODEL_f2db634e8f7745e9b74d617b1ffcaf85",
      "value": "tokenizer.json: 100%"
     }
    },
    "3b4e202dbb1b4a989008b1cba2e08602": {
     "model_module": "@jupyter-widgets/base",
     "model_module_version": "1.2.0",
     "model_name": "LayoutModel",
     "state": {
      "_model_module": "@jupyter-widgets/base",
      "_model_module_version": "1.2.0",
      "_model_name": "LayoutModel",
      "_view_count": null,
      "_view_module": "@jupyter-widgets/base",
      "_view_module_version": "1.2.0",
      "_view_name": "LayoutView",
      "align_content": null,
      "align_items": null,
      "align_self": null,
      "border": null,
      "bottom": null,
      "display": null,
      "flex": null,
      "flex_flow": null,
      "grid_area": null,
      "grid_auto_columns": null,
      "grid_auto_flow": null,
      "grid_auto_rows": null,
      "grid_column": null,
      "grid_gap": null,
      "grid_row": null,
      "grid_template_areas": null,
      "grid_template_columns": null,
      "grid_template_rows": null,
      "height": null,
      "justify_content": null,
      "justify_items": null,
      "left": null,
      "margin": null,
      "max_height": null,
      "max_width": null,
      "min_height": null,
      "min_width": null,
      "object_fit": null,
      "object_position": null,
      "order": null,
      "overflow": null,
      "overflow_x": null,
      "overflow_y": null,
      "padding": null,
      "right": null,
      "top": null,
      "visibility": null,
      "width": null
     }
    },
    "3c0c87c8839843628fdcf21436ba9f3a": {
     "model_module": "@jupyter-widgets/controls",
     "model_module_version": "1.5.0",
     "model_name": "ProgressStyleModel",
     "state": {
      "_model_module": "@jupyter-widgets/controls",
      "_model_module_version": "1.5.0",
      "_model_name": "ProgressStyleModel",
      "_view_count": null,
      "_view_module": "@jupyter-widgets/base",
      "_view_module_version": "1.2.0",
      "_view_name": "StyleView",
      "bar_color": null,
      "description_width": ""
     }
    },
    "3d1d8342961440d98cfef08d50924708": {
     "model_module": "@jupyter-widgets/controls",
     "model_module_version": "1.5.0",
     "model_name": "HBoxModel",
     "state": {
      "_dom_classes": [],
      "_model_module": "@jupyter-widgets/controls",
      "_model_module_version": "1.5.0",
      "_model_name": "HBoxModel",
      "_view_count": null,
      "_view_module": "@jupyter-widgets/controls",
      "_view_module_version": "1.5.0",
      "_view_name": "HBoxView",
      "box_style": "",
      "children": [
       "IPY_MODEL_45da6859736e495a8a77cbebb4d40723",
       "IPY_MODEL_559dbbaee20f425da6d8ad2e57f35fdd",
       "IPY_MODEL_8588cbedb10747fc99cfe2b62949ec05"
      ],
      "layout": "IPY_MODEL_3b4e202dbb1b4a989008b1cba2e08602"
     }
    },
    "3db636f85c6840b8a7fd4753b81d6943": {
     "model_module": "@jupyter-widgets/controls",
     "model_module_version": "1.5.0",
     "model_name": "DescriptionStyleModel",
     "state": {
      "_model_module": "@jupyter-widgets/controls",
      "_model_module_version": "1.5.0",
      "_model_name": "DescriptionStyleModel",
      "_view_count": null,
      "_view_module": "@jupyter-widgets/base",
      "_view_module_version": "1.2.0",
      "_view_name": "StyleView",
      "description_width": ""
     }
    },
    "45da6859736e495a8a77cbebb4d40723": {
     "model_module": "@jupyter-widgets/controls",
     "model_module_version": "1.5.0",
     "model_name": "HTMLModel",
     "state": {
      "_dom_classes": [],
      "_model_module": "@jupyter-widgets/controls",
      "_model_module_version": "1.5.0",
      "_model_name": "HTMLModel",
      "_view_count": null,
      "_view_module": "@jupyter-widgets/controls",
      "_view_module_version": "1.5.0",
      "_view_name": "HTMLView",
      "description": "",
      "description_tooltip": null,
      "layout": "IPY_MODEL_241e64ce314e48349339373f02363530",
      "placeholder": "​",
      "style": "IPY_MODEL_7679cc0f07ac4444bb61317fe2d32e69",
      "value": "vocab.json: 100%"
     }
    },
    "559dbbaee20f425da6d8ad2e57f35fdd": {
     "model_module": "@jupyter-widgets/controls",
     "model_module_version": "1.5.0",
     "model_name": "FloatProgressModel",
     "state": {
      "_dom_classes": [],
      "_model_module": "@jupyter-widgets/controls",
      "_model_module_version": "1.5.0",
      "_model_name": "FloatProgressModel",
      "_view_count": null,
      "_view_module": "@jupyter-widgets/controls",
      "_view_module_version": "1.5.0",
      "_view_name": "ProgressView",
      "bar_style": "success",
      "description": "",
      "description_tooltip": null,
      "layout": "IPY_MODEL_d6b6cb5b4dea404788a205a2dd219fed",
      "max": 898823,
      "min": 0,
      "orientation": "horizontal",
      "style": "IPY_MODEL_d0bd9c2b8bc549b8b1c3a4a26550396f",
      "value": 898823
     }
    },
    "5a1b2ac8f3a64be29fd7e5266f7f7307": {
     "model_module": "@jupyter-widgets/controls",
     "model_module_version": "1.5.0",
     "model_name": "DescriptionStyleModel",
     "state": {
      "_model_module": "@jupyter-widgets/controls",
      "_model_module_version": "1.5.0",
      "_model_name": "DescriptionStyleModel",
      "_view_count": null,
      "_view_module": "@jupyter-widgets/base",
      "_view_module_version": "1.2.0",
      "_view_name": "StyleView",
      "description_width": ""
     }
    },
    "633dfaa7fd98486082d44621a7c682b6": {
     "model_module": "@jupyter-widgets/controls",
     "model_module_version": "1.5.0",
     "model_name": "ProgressStyleModel",
     "state": {
      "_model_module": "@jupyter-widgets/controls",
      "_model_module_version": "1.5.0",
      "_model_name": "ProgressStyleModel",
      "_view_count": null,
      "_view_module": "@jupyter-widgets/base",
      "_view_module_version": "1.2.0",
      "_view_name": "StyleView",
      "bar_color": null,
      "description_width": ""
     }
    },
    "730d8a7990a04fdf90ca95377b7d1142": {
     "model_module": "@jupyter-widgets/controls",
     "model_module_version": "1.5.0",
     "model_name": "ProgressStyleModel",
     "state": {
      "_model_module": "@jupyter-widgets/controls",
      "_model_module_version": "1.5.0",
      "_model_name": "ProgressStyleModel",
      "_view_count": null,
      "_view_module": "@jupyter-widgets/base",
      "_view_module_version": "1.2.0",
      "_view_name": "StyleView",
      "bar_color": null,
      "description_width": ""
     }
    },
    "7679cc0f07ac4444bb61317fe2d32e69": {
     "model_module": "@jupyter-widgets/controls",
     "model_module_version": "1.5.0",
     "model_name": "DescriptionStyleModel",
     "state": {
      "_model_module": "@jupyter-widgets/controls",
      "_model_module_version": "1.5.0",
      "_model_name": "DescriptionStyleModel",
      "_view_count": null,
      "_view_module": "@jupyter-widgets/base",
      "_view_module_version": "1.2.0",
      "_view_name": "StyleView",
      "description_width": ""
     }
    },
    "7718a074f48e458781cc8589be779162": {
     "model_module": "@jupyter-widgets/controls",
     "model_module_version": "1.5.0",
     "model_name": "DescriptionStyleModel",
     "state": {
      "_model_module": "@jupyter-widgets/controls",
      "_model_module_version": "1.5.0",
      "_model_name": "DescriptionStyleModel",
      "_view_count": null,
      "_view_module": "@jupyter-widgets/base",
      "_view_module_version": "1.2.0",
      "_view_name": "StyleView",
      "description_width": ""
     }
    },
    "78b2664a0d0a4df49754460563f02568": {
     "model_module": "@jupyter-widgets/base",
     "model_module_version": "1.2.0",
     "model_name": "LayoutModel",
     "state": {
      "_model_module": "@jupyter-widgets/base",
      "_model_module_version": "1.2.0",
      "_model_name": "LayoutModel",
      "_view_count": null,
      "_view_module": "@jupyter-widgets/base",
      "_view_module_version": "1.2.0",
      "_view_name": "LayoutView",
      "align_content": null,
      "align_items": null,
      "align_self": null,
      "border": null,
      "bottom": null,
      "display": null,
      "flex": null,
      "flex_flow": null,
      "grid_area": null,
      "grid_auto_columns": null,
      "grid_auto_flow": null,
      "grid_auto_rows": null,
      "grid_column": null,
      "grid_gap": null,
      "grid_row": null,
      "grid_template_areas": null,
      "grid_template_columns": null,
      "grid_template_rows": null,
      "height": null,
      "justify_content": null,
      "justify_items": null,
      "left": null,
      "margin": null,
      "max_height": null,
      "max_width": null,
      "min_height": null,
      "min_width": null,
      "object_fit": null,
      "object_position": null,
      "order": null,
      "overflow": null,
      "overflow_x": null,
      "overflow_y": null,
      "padding": null,
      "right": null,
      "top": null,
      "visibility": null,
      "width": null
     }
    },
    "7e9386c4b2d245c5824588bd5eedce75": {
     "model_module": "@jupyter-widgets/controls",
     "model_module_version": "1.5.0",
     "model_name": "HBoxModel",
     "state": {
      "_dom_classes": [],
      "_model_module": "@jupyter-widgets/controls",
      "_model_module_version": "1.5.0",
      "_model_name": "HBoxModel",
      "_view_count": null,
      "_view_module": "@jupyter-widgets/controls",
      "_view_module_version": "1.5.0",
      "_view_name": "HBoxView",
      "box_style": "",
      "children": [
       "IPY_MODEL_ac4e66bd39664871967a5da4e77ea3c5",
       "IPY_MODEL_7f8eb3c512224030bd1ca9d75fc95f00",
       "IPY_MODEL_b04aa4d6c7994b4e8e026f729b4f6f4a"
      ],
      "layout": "IPY_MODEL_0b31e74eabf04f4f911667266ca7c4dc"
     }
    },
    "7f174916fdf1409db0f5c555041df6e7": {
     "model_module": "@jupyter-widgets/base",
     "model_module_version": "1.2.0",
     "model_name": "LayoutModel",
     "state": {
      "_model_module": "@jupyter-widgets/base",
      "_model_module_version": "1.2.0",
      "_model_name": "LayoutModel",
      "_view_count": null,
      "_view_module": "@jupyter-widgets/base",
      "_view_module_version": "1.2.0",
      "_view_name": "LayoutView",
      "align_content": null,
      "align_items": null,
      "align_self": null,
      "border": null,
      "bottom": null,
      "display": null,
      "flex": null,
      "flex_flow": null,
      "grid_area": null,
      "grid_auto_columns": null,
      "grid_auto_flow": null,
      "grid_auto_rows": null,
      "grid_column": null,
      "grid_gap": null,
      "grid_row": null,
      "grid_template_areas": null,
      "grid_template_columns": null,
      "grid_template_rows": null,
      "height": null,
      "justify_content": null,
      "justify_items": null,
      "left": null,
      "margin": null,
      "max_height": null,
      "max_width": null,
      "min_height": null,
      "min_width": null,
      "object_fit": null,
      "object_position": null,
      "order": null,
      "overflow": null,
      "overflow_x": null,
      "overflow_y": null,
      "padding": null,
      "right": null,
      "top": null,
      "visibility": null,
      "width": null
     }
    },
    "7f8eb3c512224030bd1ca9d75fc95f00": {
     "model_module": "@jupyter-widgets/controls",
     "model_module_version": "1.5.0",
     "model_name": "FloatProgressModel",
     "state": {
      "_dom_classes": [],
      "_model_module": "@jupyter-widgets/controls",
      "_model_module_version": "1.5.0",
      "_model_name": "FloatProgressModel",
      "_view_count": null,
      "_view_module": "@jupyter-widgets/controls",
      "_view_module_version": "1.5.0",
      "_view_name": "ProgressView",
      "bar_style": "success",
      "description": "",
      "description_tooltip": null,
      "layout": "IPY_MODEL_8348fe6b040a40e4a2506f0cc9c5c190",
      "max": 1716,
      "min": 0,
      "orientation": "horizontal",
      "style": "IPY_MODEL_730d8a7990a04fdf90ca95377b7d1142",
      "value": 1716
     }
    },
    "81471b6479ac4240b5c46df64a355964": {
     "model_module": "@jupyter-widgets/controls",
     "model_module_version": "1.5.0",
     "model_name": "ProgressStyleModel",
     "state": {
      "_model_module": "@jupyter-widgets/controls",
      "_model_module_version": "1.5.0",
      "_model_name": "ProgressStyleModel",
      "_view_count": null,
      "_view_module": "@jupyter-widgets/base",
      "_view_module_version": "1.2.0",
      "_view_name": "StyleView",
      "bar_color": null,
      "description_width": ""
     }
    },
    "81de4189edc84b6abed046687eb8b3a1": {
     "model_module": "@jupyter-widgets/base",
     "model_module_version": "1.2.0",
     "model_name": "LayoutModel",
     "state": {
      "_model_module": "@jupyter-widgets/base",
      "_model_module_version": "1.2.0",
      "_model_name": "LayoutModel",
      "_view_count": null,
      "_view_module": "@jupyter-widgets/base",
      "_view_module_version": "1.2.0",
      "_view_name": "LayoutView",
      "align_content": null,
      "align_items": null,
      "align_self": null,
      "border": null,
      "bottom": null,
      "display": null,
      "flex": null,
      "flex_flow": null,
      "grid_area": null,
      "grid_auto_columns": null,
      "grid_auto_flow": null,
      "grid_auto_rows": null,
      "grid_column": null,
      "grid_gap": null,
      "grid_row": null,
      "grid_template_areas": null,
      "grid_template_columns": null,
      "grid_template_rows": null,
      "height": null,
      "justify_content": null,
      "justify_items": null,
      "left": null,
      "margin": null,
      "max_height": null,
      "max_width": null,
      "min_height": null,
      "min_width": null,
      "object_fit": null,
      "object_position": null,
      "order": null,
      "overflow": null,
      "overflow_x": null,
      "overflow_y": null,
      "padding": null,
      "right": null,
      "top": null,
      "visibility": null,
      "width": null
     }
    },
    "82cf530977254a568e98c9a2c1b883fc": {
     "model_module": "@jupyter-widgets/controls",
     "model_module_version": "1.5.0",
     "model_name": "DescriptionStyleModel",
     "state": {
      "_model_module": "@jupyter-widgets/controls",
      "_model_module_version": "1.5.0",
      "_model_name": "DescriptionStyleModel",
      "_view_count": null,
      "_view_module": "@jupyter-widgets/base",
      "_view_module_version": "1.2.0",
      "_view_name": "StyleView",
      "description_width": ""
     }
    },
    "8348fe6b040a40e4a2506f0cc9c5c190": {
     "model_module": "@jupyter-widgets/base",
     "model_module_version": "1.2.0",
     "model_name": "LayoutModel",
     "state": {
      "_model_module": "@jupyter-widgets/base",
      "_model_module_version": "1.2.0",
      "_model_name": "LayoutModel",
      "_view_count": null,
      "_view_module": "@jupyter-widgets/base",
      "_view_module_version": "1.2.0",
      "_view_name": "LayoutView",
      "align_content": null,
      "align_items": null,
      "align_self": null,
      "border": null,
      "bottom": null,
      "display": null,
      "flex": null,
      "flex_flow": null,
      "grid_area": null,
      "grid_auto_columns": null,
      "grid_auto_flow": null,
      "grid_auto_rows": null,
      "grid_column": null,
      "grid_gap": null,
      "grid_row": null,
      "grid_template_areas": null,
      "grid_template_columns": null,
      "grid_template_rows": null,
      "height": null,
      "justify_content": null,
      "justify_items": null,
      "left": null,
      "margin": null,
      "max_height": null,
      "max_width": null,
      "min_height": null,
      "min_width": null,
      "object_fit": null,
      "object_position": null,
      "order": null,
      "overflow": null,
      "overflow_x": null,
      "overflow_y": null,
      "padding": null,
      "right": null,
      "top": null,
      "visibility": null,
      "width": null
     }
    },
    "8588cbedb10747fc99cfe2b62949ec05": {
     "model_module": "@jupyter-widgets/controls",
     "model_module_version": "1.5.0",
     "model_name": "HTMLModel",
     "state": {
      "_dom_classes": [],
      "_model_module": "@jupyter-widgets/controls",
      "_model_module_version": "1.5.0",
      "_model_name": "HTMLModel",
      "_view_count": null,
      "_view_module": "@jupyter-widgets/controls",
      "_view_module_version": "1.5.0",
      "_view_name": "HTMLView",
      "description": "",
      "description_tooltip": null,
      "layout": "IPY_MODEL_baffb2458c244330b09196103c6bf259",
      "placeholder": "​",
      "style": "IPY_MODEL_5a1b2ac8f3a64be29fd7e5266f7f7307",
      "value": " 899k/899k [00:00&lt;00:00, 9.29MB/s]"
     }
    },
    "86c98f9214864fa9a719a488c2336fa7": {
     "model_module": "@jupyter-widgets/base",
     "model_module_version": "1.2.0",
     "model_name": "LayoutModel",
     "state": {
      "_model_module": "@jupyter-widgets/base",
      "_model_module_version": "1.2.0",
      "_model_name": "LayoutModel",
      "_view_count": null,
      "_view_module": "@jupyter-widgets/base",
      "_view_module_version": "1.2.0",
      "_view_name": "LayoutView",
      "align_content": null,
      "align_items": null,
      "align_self": null,
      "border": null,
      "bottom": null,
      "display": null,
      "flex": null,
      "flex_flow": null,
      "grid_area": null,
      "grid_auto_columns": null,
      "grid_auto_flow": null,
      "grid_auto_rows": null,
      "grid_column": null,
      "grid_gap": null,
      "grid_row": null,
      "grid_template_areas": null,
      "grid_template_columns": null,
      "grid_template_rows": null,
      "height": null,
      "justify_content": null,
      "justify_items": null,
      "left": null,
      "margin": null,
      "max_height": null,
      "max_width": null,
      "min_height": null,
      "min_width": null,
      "object_fit": null,
      "object_position": null,
      "order": null,
      "overflow": null,
      "overflow_x": null,
      "overflow_y": null,
      "padding": null,
      "right": null,
      "top": null,
      "visibility": null,
      "width": null
     }
    },
    "9d4e9deffa214caca44cc74d68fc2e08": {
     "model_module": "@jupyter-widgets/base",
     "model_module_version": "1.2.0",
     "model_name": "LayoutModel",
     "state": {
      "_model_module": "@jupyter-widgets/base",
      "_model_module_version": "1.2.0",
      "_model_name": "LayoutModel",
      "_view_count": null,
      "_view_module": "@jupyter-widgets/base",
      "_view_module_version": "1.2.0",
      "_view_name": "LayoutView",
      "align_content": null,
      "align_items": null,
      "align_self": null,
      "border": null,
      "bottom": null,
      "display": null,
      "flex": null,
      "flex_flow": null,
      "grid_area": null,
      "grid_auto_columns": null,
      "grid_auto_flow": null,
      "grid_auto_rows": null,
      "grid_column": null,
      "grid_gap": null,
      "grid_row": null,
      "grid_template_areas": null,
      "grid_template_columns": null,
      "grid_template_rows": null,
      "height": null,
      "justify_content": null,
      "justify_items": null,
      "left": null,
      "margin": null,
      "max_height": null,
      "max_width": null,
      "min_height": null,
      "min_width": null,
      "object_fit": null,
      "object_position": null,
      "order": null,
      "overflow": null,
      "overflow_x": null,
      "overflow_y": null,
      "padding": null,
      "right": null,
      "top": null,
      "visibility": null,
      "width": null
     }
    },
    "a009577267fb4a8d8c3e2d4a943982a2": {
     "model_module": "@jupyter-widgets/controls",
     "model_module_version": "1.5.0",
     "model_name": "HBoxModel",
     "state": {
      "_dom_classes": [],
      "_model_module": "@jupyter-widgets/controls",
      "_model_module_version": "1.5.0",
      "_model_name": "HBoxModel",
      "_view_count": null,
      "_view_module": "@jupyter-widgets/controls",
      "_view_module_version": "1.5.0",
      "_view_name": "HBoxView",
      "box_style": "",
      "children": [
       "IPY_MODEL_3965c5b36a034de8b382ade7e3380a03",
       "IPY_MODEL_0ae39c5834c2440a8e131b0579245d9a",
       "IPY_MODEL_199a180e2cd84cfc961fb0a964183513"
      ],
      "layout": "IPY_MODEL_b50e53b51ff349e7b5e80d2c7db0f13d"
     }
    },
    "ac4e66bd39664871967a5da4e77ea3c5": {
     "model_module": "@jupyter-widgets/controls",
     "model_module_version": "1.5.0",
     "model_name": "HTMLModel",
     "state": {
      "_dom_classes": [],
      "_model_module": "@jupyter-widgets/controls",
      "_model_module_version": "1.5.0",
      "_model_name": "HTMLModel",
      "_view_count": null,
      "_view_module": "@jupyter-widgets/controls",
      "_view_module_version": "1.5.0",
      "_view_name": "HTMLView",
      "description": "",
      "description_tooltip": null,
      "layout": "IPY_MODEL_81de4189edc84b6abed046687eb8b3a1",
      "placeholder": "​",
      "style": "IPY_MODEL_2b8e44c5550e443c8aa7925514c485c8",
      "value": "config.json: 100%"
     }
    },
    "b04aa4d6c7994b4e8e026f729b4f6f4a": {
     "model_module": "@jupyter-widgets/controls",
     "model_module_version": "1.5.0",
     "model_name": "HTMLModel",
     "state": {
      "_dom_classes": [],
      "_model_module": "@jupyter-widgets/controls",
      "_model_module_version": "1.5.0",
      "_model_name": "HTMLModel",
      "_view_count": null,
      "_view_module": "@jupyter-widgets/controls",
      "_view_module_version": "1.5.0",
      "_view_name": "HTMLView",
      "description": "",
      "description_tooltip": null,
      "layout": "IPY_MODEL_d6156dbce2244320a8b327578b171833",
      "placeholder": "​",
      "style": "IPY_MODEL_82cf530977254a568e98c9a2c1b883fc",
      "value": " 1.72k/1.72k [00:00&lt;00:00, 140kB/s]"
     }
    },
    "b1face2523b84067a6607a7c80cfa575": {
     "model_module": "@jupyter-widgets/base",
     "model_module_version": "1.2.0",
     "model_name": "LayoutModel",
     "state": {
      "_model_module": "@jupyter-widgets/base",
      "_model_module_version": "1.2.0",
      "_model_name": "LayoutModel",
      "_view_count": null,
      "_view_module": "@jupyter-widgets/base",
      "_view_module_version": "1.2.0",
      "_view_name": "LayoutView",
      "align_content": null,
      "align_items": null,
      "align_self": null,
      "border": null,
      "bottom": null,
      "display": null,
      "flex": null,
      "flex_flow": null,
      "grid_area": null,
      "grid_auto_columns": null,
      "grid_auto_flow": null,
      "grid_auto_rows": null,
      "grid_column": null,
      "grid_gap": null,
      "grid_row": null,
      "grid_template_areas": null,
      "grid_template_columns": null,
      "grid_template_rows": null,
      "height": null,
      "justify_content": null,
      "justify_items": null,
      "left": null,
      "margin": null,
      "max_height": null,
      "max_width": null,
      "min_height": null,
      "min_width": null,
      "object_fit": null,
      "object_position": null,
      "order": null,
      "overflow": null,
      "overflow_x": null,
      "overflow_y": null,
      "padding": null,
      "right": null,
      "top": null,
      "visibility": null,
      "width": null
     }
    },
    "b505dd59aecd4b849916402d13b97972": {
     "model_module": "@jupyter-widgets/base",
     "model_module_version": "1.2.0",
     "model_name": "LayoutModel",
     "state": {
      "_model_module": "@jupyter-widgets/base",
      "_model_module_version": "1.2.0",
      "_model_name": "LayoutModel",
      "_view_count": null,
      "_view_module": "@jupyter-widgets/base",
      "_view_module_version": "1.2.0",
      "_view_name": "LayoutView",
      "align_content": null,
      "align_items": null,
      "align_self": null,
      "border": null,
      "bottom": null,
      "display": null,
      "flex": null,
      "flex_flow": null,
      "grid_area": null,
      "grid_auto_columns": null,
      "grid_auto_flow": null,
      "grid_auto_rows": null,
      "grid_column": null,
      "grid_gap": null,
      "grid_row": null,
      "grid_template_areas": null,
      "grid_template_columns": null,
      "grid_template_rows": null,
      "height": null,
      "justify_content": null,
      "justify_items": null,
      "left": null,
      "margin": null,
      "max_height": null,
      "max_width": null,
      "min_height": null,
      "min_width": null,
      "object_fit": null,
      "object_position": null,
      "order": null,
      "overflow": null,
      "overflow_x": null,
      "overflow_y": null,
      "padding": null,
      "right": null,
      "top": null,
      "visibility": null,
      "width": null
     }
    },
    "b50e53b51ff349e7b5e80d2c7db0f13d": {
     "model_module": "@jupyter-widgets/base",
     "model_module_version": "1.2.0",
     "model_name": "LayoutModel",
     "state": {
      "_model_module": "@jupyter-widgets/base",
      "_model_module_version": "1.2.0",
      "_model_name": "LayoutModel",
      "_view_count": null,
      "_view_module": "@jupyter-widgets/base",
      "_view_module_version": "1.2.0",
      "_view_name": "LayoutView",
      "align_content": null,
      "align_items": null,
      "align_self": null,
      "border": null,
      "bottom": null,
      "display": null,
      "flex": null,
      "flex_flow": null,
      "grid_area": null,
      "grid_auto_columns": null,
      "grid_auto_flow": null,
      "grid_auto_rows": null,
      "grid_column": null,
      "grid_gap": null,
      "grid_row": null,
      "grid_template_areas": null,
      "grid_template_columns": null,
      "grid_template_rows": null,
      "height": null,
      "justify_content": null,
      "justify_items": null,
      "left": null,
      "margin": null,
      "max_height": null,
      "max_width": null,
      "min_height": null,
      "min_width": null,
      "object_fit": null,
      "object_position": null,
      "order": null,
      "overflow": null,
      "overflow_x": null,
      "overflow_y": null,
      "padding": null,
      "right": null,
      "top": null,
      "visibility": null,
      "width": null
     }
    },
    "b5ce236331634f66a619bdbe85ceaad6": {
     "model_module": "@jupyter-widgets/controls",
     "model_module_version": "1.5.0",
     "model_name": "FloatProgressModel",
     "state": {
      "_dom_classes": [],
      "_model_module": "@jupyter-widgets/controls",
      "_model_module_version": "1.5.0",
      "_model_name": "FloatProgressModel",
      "_view_count": null,
      "_view_module": "@jupyter-widgets/controls",
      "_view_module_version": "1.5.0",
      "_view_name": "ProgressView",
      "bar_style": "success",
      "description": "",
      "description_tooltip": null,
      "layout": "IPY_MODEL_bbc67961f77644d3bef7efc03ea81446",
      "max": 557709915,
      "min": 0,
      "orientation": "horizontal",
      "style": "IPY_MODEL_3c0c87c8839843628fdcf21436ba9f3a",
      "value": 557709915
     }
    },
    "b7ab9e20648c420f88b8eaa69707b45f": {
     "model_module": "@jupyter-widgets/base",
     "model_module_version": "1.2.0",
     "model_name": "LayoutModel",
     "state": {
      "_model_module": "@jupyter-widgets/base",
      "_model_module_version": "1.2.0",
      "_model_name": "LayoutModel",
      "_view_count": null,
      "_view_module": "@jupyter-widgets/base",
      "_view_module_version": "1.2.0",
      "_view_name": "LayoutView",
      "align_content": null,
      "align_items": null,
      "align_self": null,
      "border": null,
      "bottom": null,
      "display": null,
      "flex": null,
      "flex_flow": null,
      "grid_area": null,
      "grid_auto_columns": null,
      "grid_auto_flow": null,
      "grid_auto_rows": null,
      "grid_column": null,
      "grid_gap": null,
      "grid_row": null,
      "grid_template_areas": null,
      "grid_template_columns": null,
      "grid_template_rows": null,
      "height": null,
      "justify_content": null,
      "justify_items": null,
      "left": null,
      "margin": null,
      "max_height": null,
      "max_width": null,
      "min_height": null,
      "min_width": null,
      "object_fit": null,
      "object_position": null,
      "order": null,
      "overflow": null,
      "overflow_x": null,
      "overflow_y": null,
      "padding": null,
      "right": null,
      "top": null,
      "visibility": null,
      "width": null
     }
    },
    "baffb2458c244330b09196103c6bf259": {
     "model_module": "@jupyter-widgets/base",
     "model_module_version": "1.2.0",
     "model_name": "LayoutModel",
     "state": {
      "_model_module": "@jupyter-widgets/base",
      "_model_module_version": "1.2.0",
      "_model_name": "LayoutModel",
      "_view_count": null,
      "_view_module": "@jupyter-widgets/base",
      "_view_module_version": "1.2.0",
      "_view_name": "LayoutView",
      "align_content": null,
      "align_items": null,
      "align_self": null,
      "border": null,
      "bottom": null,
      "display": null,
      "flex": null,
      "flex_flow": null,
      "grid_area": null,
      "grid_auto_columns": null,
      "grid_auto_flow": null,
      "grid_auto_rows": null,
      "grid_column": null,
      "grid_gap": null,
      "grid_row": null,
      "grid_template_areas": null,
      "grid_template_columns": null,
      "grid_template_rows": null,
      "height": null,
      "justify_content": null,
      "justify_items": null,
      "left": null,
      "margin": null,
      "max_height": null,
      "max_width": null,
      "min_height": null,
      "min_width": null,
      "object_fit": null,
      "object_position": null,
      "order": null,
      "overflow": null,
      "overflow_x": null,
      "overflow_y": null,
      "padding": null,
      "right": null,
      "top": null,
      "visibility": null,
      "width": null
     }
    },
    "bbc67961f77644d3bef7efc03ea81446": {
     "model_module": "@jupyter-widgets/base",
     "model_module_version": "1.2.0",
     "model_name": "LayoutModel",
     "state": {
      "_model_module": "@jupyter-widgets/base",
      "_model_module_version": "1.2.0",
      "_model_name": "LayoutModel",
      "_view_count": null,
      "_view_module": "@jupyter-widgets/base",
      "_view_module_version": "1.2.0",
      "_view_name": "LayoutView",
      "align_content": null,
      "align_items": null,
      "align_self": null,
      "border": null,
      "bottom": null,
      "display": null,
      "flex": null,
      "flex_flow": null,
      "grid_area": null,
      "grid_auto_columns": null,
      "grid_auto_flow": null,
      "grid_auto_rows": null,
      "grid_column": null,
      "grid_gap": null,
      "grid_row": null,
      "grid_template_areas": null,
      "grid_template_columns": null,
      "grid_template_rows": null,
      "height": null,
      "justify_content": null,
      "justify_items": null,
      "left": null,
      "margin": null,
      "max_height": null,
      "max_width": null,
      "min_height": null,
      "min_width": null,
      "object_fit": null,
      "object_position": null,
      "order": null,
      "overflow": null,
      "overflow_x": null,
      "overflow_y": null,
      "padding": null,
      "right": null,
      "top": null,
      "visibility": null,
      "width": null
     }
    },
    "be33acedc9524f33aef7c126ffc2e814": {
     "model_module": "@jupyter-widgets/controls",
     "model_module_version": "1.5.0",
     "model_name": "HTMLModel",
     "state": {
      "_dom_classes": [],
      "_model_module": "@jupyter-widgets/controls",
      "_model_module_version": "1.5.0",
      "_model_name": "HTMLModel",
      "_view_count": null,
      "_view_module": "@jupyter-widgets/controls",
      "_view_module_version": "1.5.0",
      "_view_name": "HTMLView",
      "description": "",
      "description_tooltip": null,
      "layout": "IPY_MODEL_86c98f9214864fa9a719a488c2336fa7",
      "placeholder": "​",
      "style": "IPY_MODEL_e0e8782160214f1c809c97625373deeb",
      "value": " 558M/558M [00:04&lt;00:00, 72.7MB/s]"
     }
    },
    "c0d7a631364343a59152cccc102261d5": {
     "model_module": "@jupyter-widgets/controls",
     "model_module_version": "1.5.0",
     "model_name": "DescriptionStyleModel",
     "state": {
      "_model_module": "@jupyter-widgets/controls",
      "_model_module_version": "1.5.0",
      "_model_name": "DescriptionStyleModel",
      "_view_count": null,
      "_view_module": "@jupyter-widgets/base",
      "_view_module_version": "1.2.0",
      "_view_name": "StyleView",
      "description_width": ""
     }
    },
    "d0bd9c2b8bc549b8b1c3a4a26550396f": {
     "model_module": "@jupyter-widgets/controls",
     "model_module_version": "1.5.0",
     "model_name": "ProgressStyleModel",
     "state": {
      "_model_module": "@jupyter-widgets/controls",
      "_model_module_version": "1.5.0",
      "_model_name": "ProgressStyleModel",
      "_view_count": null,
      "_view_module": "@jupyter-widgets/base",
      "_view_module_version": "1.2.0",
      "_view_name": "StyleView",
      "bar_color": null,
      "description_width": ""
     }
    },
    "d6156dbce2244320a8b327578b171833": {
     "model_module": "@jupyter-widgets/base",
     "model_module_version": "1.2.0",
     "model_name": "LayoutModel",
     "state": {
      "_model_module": "@jupyter-widgets/base",
      "_model_module_version": "1.2.0",
      "_model_name": "LayoutModel",
      "_view_count": null,
      "_view_module": "@jupyter-widgets/base",
      "_view_module_version": "1.2.0",
      "_view_name": "LayoutView",
      "align_content": null,
      "align_items": null,
      "align_self": null,
      "border": null,
      "bottom": null,
      "display": null,
      "flex": null,
      "flex_flow": null,
      "grid_area": null,
      "grid_auto_columns": null,
      "grid_auto_flow": null,
      "grid_auto_rows": null,
      "grid_column": null,
      "grid_gap": null,
      "grid_row": null,
      "grid_template_areas": null,
      "grid_template_columns": null,
      "grid_template_rows": null,
      "height": null,
      "justify_content": null,
      "justify_items": null,
      "left": null,
      "margin": null,
      "max_height": null,
      "max_width": null,
      "min_height": null,
      "min_width": null,
      "object_fit": null,
      "object_position": null,
      "order": null,
      "overflow": null,
      "overflow_x": null,
      "overflow_y": null,
      "padding": null,
      "right": null,
      "top": null,
      "visibility": null,
      "width": null
     }
    },
    "d6b6cb5b4dea404788a205a2dd219fed": {
     "model_module": "@jupyter-widgets/base",
     "model_module_version": "1.2.0",
     "model_name": "LayoutModel",
     "state": {
      "_model_module": "@jupyter-widgets/base",
      "_model_module_version": "1.2.0",
      "_model_name": "LayoutModel",
      "_view_count": null,
      "_view_module": "@jupyter-widgets/base",
      "_view_module_version": "1.2.0",
      "_view_name": "LayoutView",
      "align_content": null,
      "align_items": null,
      "align_self": null,
      "border": null,
      "bottom": null,
      "display": null,
      "flex": null,
      "flex_flow": null,
      "grid_area": null,
      "grid_auto_columns": null,
      "grid_auto_flow": null,
      "grid_auto_rows": null,
      "grid_column": null,
      "grid_gap": null,
      "grid_row": null,
      "grid_template_areas": null,
      "grid_template_columns": null,
      "grid_template_rows": null,
      "height": null,
      "justify_content": null,
      "justify_items": null,
      "left": null,
      "margin": null,
      "max_height": null,
      "max_width": null,
      "min_height": null,
      "min_width": null,
      "object_fit": null,
      "object_position": null,
      "order": null,
      "overflow": null,
      "overflow_x": null,
      "overflow_y": null,
      "padding": null,
      "right": null,
      "top": null,
      "visibility": null,
      "width": null
     }
    },
    "d9c61f6990ff45f1ab4980cbb43ed15e": {
     "model_module": "@jupyter-widgets/base",
     "model_module_version": "1.2.0",
     "model_name": "LayoutModel",
     "state": {
      "_model_module": "@jupyter-widgets/base",
      "_model_module_version": "1.2.0",
      "_model_name": "LayoutModel",
      "_view_count": null,
      "_view_module": "@jupyter-widgets/base",
      "_view_module_version": "1.2.0",
      "_view_name": "LayoutView",
      "align_content": null,
      "align_items": null,
      "align_self": null,
      "border": null,
      "bottom": null,
      "display": null,
      "flex": null,
      "flex_flow": null,
      "grid_area": null,
      "grid_auto_columns": null,
      "grid_auto_flow": null,
      "grid_auto_rows": null,
      "grid_column": null,
      "grid_gap": null,
      "grid_row": null,
      "grid_template_areas": null,
      "grid_template_columns": null,
      "grid_template_rows": null,
      "height": null,
      "justify_content": null,
      "justify_items": null,
      "left": null,
      "margin": null,
      "max_height": null,
      "max_width": null,
      "min_height": null,
      "min_width": null,
      "object_fit": null,
      "object_position": null,
      "order": null,
      "overflow": null,
      "overflow_x": null,
      "overflow_y": null,
      "padding": null,
      "right": null,
      "top": null,
      "visibility": null,
      "width": null
     }
    },
    "e0e8782160214f1c809c97625373deeb": {
     "model_module": "@jupyter-widgets/controls",
     "model_module_version": "1.5.0",
     "model_name": "DescriptionStyleModel",
     "state": {
      "_model_module": "@jupyter-widgets/controls",
      "_model_module_version": "1.5.0",
      "_model_name": "DescriptionStyleModel",
      "_view_count": null,
      "_view_module": "@jupyter-widgets/base",
      "_view_module_version": "1.2.0",
      "_view_name": "StyleView",
      "description_width": ""
     }
    },
    "f2db634e8f7745e9b74d617b1ffcaf85": {
     "model_module": "@jupyter-widgets/controls",
     "model_module_version": "1.5.0",
     "model_name": "DescriptionStyleModel",
     "state": {
      "_model_module": "@jupyter-widgets/controls",
      "_model_module_version": "1.5.0",
      "_model_name": "DescriptionStyleModel",
      "_view_count": null,
      "_view_module": "@jupyter-widgets/base",
      "_view_module_version": "1.2.0",
      "_view_name": "StyleView",
      "description_width": ""
     }
    },
    "f3385558cec640868c7b57312899bfa1": {
     "model_module": "@jupyter-widgets/controls",
     "model_module_version": "1.5.0",
     "model_name": "HBoxModel",
     "state": {
      "_dom_classes": [],
      "_model_module": "@jupyter-widgets/controls",
      "_model_module_version": "1.5.0",
      "_model_name": "HBoxModel",
      "_view_count": null,
      "_view_module": "@jupyter-widgets/controls",
      "_view_module_version": "1.5.0",
      "_view_name": "HBoxView",
      "box_style": "",
      "children": [
       "IPY_MODEL_f8d8c64893574e23aa456fd823dd3e6f",
       "IPY_MODEL_b5ce236331634f66a619bdbe85ceaad6",
       "IPY_MODEL_be33acedc9524f33aef7c126ffc2e814"
      ],
      "layout": "IPY_MODEL_ff02b9567a4443499f38b11afc3ed7a3"
     }
    },
    "f7accb0c37864189986fac311fc2fdf5": {
     "model_module": "@jupyter-widgets/controls",
     "model_module_version": "1.5.0",
     "model_name": "HTMLModel",
     "state": {
      "_dom_classes": [],
      "_model_module": "@jupyter-widgets/controls",
      "_model_module_version": "1.5.0",
      "_model_name": "HTMLModel",
      "_view_count": null,
      "_view_module": "@jupyter-widgets/controls",
      "_view_module_version": "1.5.0",
      "_view_name": "HTMLView",
      "description": "",
      "description_tooltip": null,
      "layout": "IPY_MODEL_d9c61f6990ff45f1ab4980cbb43ed15e",
      "placeholder": "​",
      "style": "IPY_MODEL_7718a074f48e458781cc8589be779162",
      "value": "merges.txt: 100%"
     }
    },
    "f8d8c64893574e23aa456fd823dd3e6f": {
     "model_module": "@jupyter-widgets/controls",
     "model_module_version": "1.5.0",
     "model_name": "HTMLModel",
     "state": {
      "_dom_classes": [],
      "_model_module": "@jupyter-widgets/controls",
      "_model_module_version": "1.5.0",
      "_model_name": "HTMLModel",
      "_view_count": null,
      "_view_module": "@jupyter-widgets/controls",
      "_view_module_version": "1.5.0",
      "_view_name": "HTMLView",
      "description": "",
      "description_tooltip": null,
      "layout": "IPY_MODEL_7f174916fdf1409db0f5c555041df6e7",
      "placeholder": "​",
      "style": "IPY_MODEL_fcd4c9a585ce4e1897d4d1ed138e3fe2",
      "value": "model.safetensors: 100%"
     }
    },
    "fc539ae74bd049b381e6291326f90f2e": {
     "model_module": "@jupyter-widgets/base",
     "model_module_version": "1.2.0",
     "model_name": "LayoutModel",
     "state": {
      "_model_module": "@jupyter-widgets/base",
      "_model_module_version": "1.2.0",
      "_model_name": "LayoutModel",
      "_view_count": null,
      "_view_module": "@jupyter-widgets/base",
      "_view_module_version": "1.2.0",
      "_view_name": "LayoutView",
      "align_content": null,
      "align_items": null,
      "align_self": null,
      "border": null,
      "bottom": null,
      "display": null,
      "flex": null,
      "flex_flow": null,
      "grid_area": null,
      "grid_auto_columns": null,
      "grid_auto_flow": null,
      "grid_auto_rows": null,
      "grid_column": null,
      "grid_gap": null,
      "grid_row": null,
      "grid_template_areas": null,
      "grid_template_columns": null,
      "grid_template_rows": null,
      "height": null,
      "justify_content": null,
      "justify_items": null,
      "left": null,
      "margin": null,
      "max_height": null,
      "max_width": null,
      "min_height": null,
      "min_width": null,
      "object_fit": null,
      "object_position": null,
      "order": null,
      "overflow": null,
      "overflow_x": null,
      "overflow_y": null,
      "padding": null,
      "right": null,
      "top": null,
      "visibility": null,
      "width": null
     }
    },
    "fcd4c9a585ce4e1897d4d1ed138e3fe2": {
     "model_module": "@jupyter-widgets/controls",
     "model_module_version": "1.5.0",
     "model_name": "DescriptionStyleModel",
     "state": {
      "_model_module": "@jupyter-widgets/controls",
      "_model_module_version": "1.5.0",
      "_model_name": "DescriptionStyleModel",
      "_view_count": null,
      "_view_module": "@jupyter-widgets/base",
      "_view_module_version": "1.2.0",
      "_view_name": "StyleView",
      "description_width": ""
     }
    },
    "ff02b9567a4443499f38b11afc3ed7a3": {
     "model_module": "@jupyter-widgets/base",
     "model_module_version": "1.2.0",
     "model_name": "LayoutModel",
     "state": {
      "_model_module": "@jupyter-widgets/base",
      "_model_module_version": "1.2.0",
      "_model_name": "LayoutModel",
      "_view_count": null,
      "_view_module": "@jupyter-widgets/base",
      "_view_module_version": "1.2.0",
      "_view_name": "LayoutView",
      "align_content": null,
      "align_items": null,
      "align_self": null,
      "border": null,
      "bottom": null,
      "display": null,
      "flex": null,
      "flex_flow": null,
      "grid_area": null,
      "grid_auto_columns": null,
      "grid_auto_flow": null,
      "grid_auto_rows": null,
      "grid_column": null,
      "grid_gap": null,
      "grid_row": null,
      "grid_template_areas": null,
      "grid_template_columns": null,
      "grid_template_rows": null,
      "height": null,
      "justify_content": null,
      "justify_items": null,
      "left": null,
      "margin": null,
      "max_height": null,
      "max_width": null,
      "min_height": null,
      "min_width": null,
      "object_fit": null,
      "object_position": null,
      "order": null,
      "overflow": null,
      "overflow_x": null,
      "overflow_y": null,
      "padding": null,
      "right": null,
      "top": null,
      "visibility": null,
      "width": null
     }
    }
   }
  }
 },
 "nbformat": 4,
 "nbformat_minor": 1
}
