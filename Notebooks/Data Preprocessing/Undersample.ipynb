{
 "cells": [
  {
   "cell_type": "code",
   "execution_count": 1,
   "metadata": {},
   "outputs": [],
   "source": [
    "from sklearn.model_selection import train_test_split\n",
    "from sklearn.model_selection import StratifiedShuffleSplit\n",
    "import pandas as pd"
   ]
  },
  {
   "cell_type": "code",
   "execution_count": 2,
   "metadata": {},
   "outputs": [],
   "source": [
    "df = pd.read_csv(\"huffdata_clean_v2.csv\")"
   ]
  },
  {
   "cell_type": "code",
   "execution_count": 48,
   "metadata": {},
   "outputs": [],
   "source": [
    "df = df[['category', 'content']]"
   ]
  },
  {
   "cell_type": "code",
   "execution_count": 49,
   "metadata": {},
   "outputs": [
    {
     "data": {
      "text/plain": [
       "category\n",
       "POLITICS          32568\n",
       "WELLNESS          16240\n",
       "ENTERTAINMENT     15847\n",
       "TRAVEL             8999\n",
       "STYLE & BEAUTY     8340\n",
       "PARENTING          7257\n",
       "HEALTHY LIVING     6359\n",
       "FOOD & DRINK       5733\n",
       "QUEER VOICES       5479\n",
       "BUSINESS           5113\n",
       "SPORTS             4391\n",
       "PARENTS            3652\n",
       "BLACK VOICES       3638\n",
       "COMEDY             3548\n",
       "HOME & LIVING      3467\n",
       "IMPACT             3330\n",
       "THE WORLDPOST      3278\n",
       "WORLD NEWS         3271\n",
       "CRIME              3123\n",
       "WOMEN              3112\n",
       "WEDDINGS           2950\n",
       "DIVORCE            2768\n",
       "MEDIA              2544\n",
       "WORLDPOST          2442\n",
       "RELIGION           2370\n",
       "WEIRD NEWS         2231\n",
       "GREEN              2169\n",
       "STYLE              2123\n",
       "TASTE              2031\n",
       "SCIENCE            1994\n",
       "TECH               1749\n",
       "MONEY              1612\n",
       "ARTS               1484\n",
       "U.S. NEWS          1371\n",
       "FIFTY              1363\n",
       "ARTS & CULTURE     1300\n",
       "GOOD NEWS          1227\n",
       "ENVIRONMENT        1220\n",
       "COLLEGE             999\n",
       "EDUCATION           994\n",
       "LATINO VOICES       964\n",
       "CULTURE & ARTS      922\n",
       "Name: count, dtype: int64"
      ]
     },
     "execution_count": 49,
     "metadata": {},
     "output_type": "execute_result"
    }
   ],
   "source": [
    "df['category'].value_counts()"
   ]
  },
  {
   "cell_type": "code",
   "execution_count": 50,
   "metadata": {},
   "outputs": [],
   "source": [
    "df_other = df[(df['category'] != \"BUSINESS\" )  & (df['category'] != \"SPORTS\") & (df['category'] != \"ENTERTAINMENT\")]"
   ]
  },
  {
   "cell_type": "code",
   "execution_count": 51,
   "metadata": {},
   "outputs": [
    {
     "name": "stdout",
     "output_type": "stream",
     "text": [
      "<class 'pandas.core.frame.DataFrame'>\n",
      "Index: 160221 entries, 0 to 185571\n",
      "Data columns (total 2 columns):\n",
      " #   Column    Non-Null Count   Dtype \n",
      "---  ------    --------------   ----- \n",
      " 0   category  160221 non-null  object\n",
      " 1   content   160221 non-null  object\n",
      "dtypes: object(2)\n",
      "memory usage: 3.7+ MB\n"
     ]
    }
   ],
   "source": [
    "df_other.info()"
   ]
  },
  {
   "cell_type": "code",
   "execution_count": 52,
   "metadata": {},
   "outputs": [],
   "source": [
    "sss = StratifiedShuffleSplit(n_splits=1, test_size=0.025, random_state=0)"
   ]
  },
  {
   "cell_type": "code",
   "execution_count": 53,
   "metadata": {},
   "outputs": [
    {
     "data": {
      "text/plain": [
       "1"
      ]
     },
     "execution_count": 53,
     "metadata": {},
     "output_type": "execute_result"
    }
   ],
   "source": [
    "sss.get_n_splits(df_other['content'],df_other['category'])"
   ]
  },
  {
   "cell_type": "code",
   "execution_count": 54,
   "metadata": {},
   "outputs": [],
   "source": [
    "for train_index, test_index in sss.split(df_other['content'],df_other['category']):\n",
    "    X_test = df['content'][test_index]\n",
    "    y_test = df['category'][test_index]"
   ]
  },
  {
   "cell_type": "code",
   "execution_count": 55,
   "metadata": {},
   "outputs": [
    {
     "data": {
      "text/plain": [
       "126825    By now it's pretty clear that we really, reall...\n",
       "150214    The Astor family's home once embodied the Amer...\n",
       "72741     They say dog is man’s best friend and for one ...\n",
       "150415    If you just need to take an island trip and le...\n",
       "83558     First there was The Secret Life of Walter Mitt...\n",
       "                                ...                        \n",
       "22826     WASHINGTON ― The Justice Department announced ...\n",
       "46991     WASHINGTON – Secretary of State John Kerry on ...\n",
       "146176    Marcial Verdejo had no contact with his childr...\n",
       "146485    Prince Harry stunned crowds with his daredevil...\n",
       "51836     Hillary Clinton forcefully defended her suppor...\n",
       "Name: content, Length: 4006, dtype: object"
      ]
     },
     "execution_count": 55,
     "metadata": {},
     "output_type": "execute_result"
    }
   ],
   "source": [
    "X_test"
   ]
  },
  {
   "cell_type": "code",
   "execution_count": 56,
   "metadata": {},
   "outputs": [
    {
     "data": {
      "text/plain": [
       "126825      FOOD & DRINK\n",
       "150214     HOME & LIVING\n",
       "72741          GOOD NEWS\n",
       "150415            TRAVEL\n",
       "83558              GREEN\n",
       "               ...      \n",
       "22826           POLITICS\n",
       "46991           POLITICS\n",
       "146176           DIVORCE\n",
       "146485    STYLE & BEAUTY\n",
       "51836           POLITICS\n",
       "Name: category, Length: 4006, dtype: object"
      ]
     },
     "execution_count": 56,
     "metadata": {},
     "output_type": "execute_result"
    }
   ],
   "source": [
    "y_test"
   ]
  },
  {
   "cell_type": "code",
   "execution_count": 57,
   "metadata": {},
   "outputs": [],
   "source": [
    "df_other_stratified = pd.DataFrame({'text' : X_test, 'labels' : y_test})"
   ]
  },
  {
   "cell_type": "code",
   "execution_count": 58,
   "metadata": {},
   "outputs": [
    {
     "data": {
      "text/html": [
       "<div>\n",
       "<style scoped>\n",
       "    .dataframe tbody tr th:only-of-type {\n",
       "        vertical-align: middle;\n",
       "    }\n",
       "\n",
       "    .dataframe tbody tr th {\n",
       "        vertical-align: top;\n",
       "    }\n",
       "\n",
       "    .dataframe thead th {\n",
       "        text-align: right;\n",
       "    }\n",
       "</style>\n",
       "<table border=\"1\" class=\"dataframe\">\n",
       "  <thead>\n",
       "    <tr style=\"text-align: right;\">\n",
       "      <th></th>\n",
       "      <th>text</th>\n",
       "      <th>labels</th>\n",
       "    </tr>\n",
       "  </thead>\n",
       "  <tbody>\n",
       "    <tr>\n",
       "      <th>126825</th>\n",
       "      <td>By now it's pretty clear that we really, reall...</td>\n",
       "      <td>FOOD &amp; DRINK</td>\n",
       "    </tr>\n",
       "    <tr>\n",
       "      <th>150214</th>\n",
       "      <td>The Astor family's home once embodied the Amer...</td>\n",
       "      <td>HOME &amp; LIVING</td>\n",
       "    </tr>\n",
       "    <tr>\n",
       "      <th>72741</th>\n",
       "      <td>They say dog is man’s best friend and for one ...</td>\n",
       "      <td>GOOD NEWS</td>\n",
       "    </tr>\n",
       "    <tr>\n",
       "      <th>150415</th>\n",
       "      <td>If you just need to take an island trip and le...</td>\n",
       "      <td>TRAVEL</td>\n",
       "    </tr>\n",
       "    <tr>\n",
       "      <th>83558</th>\n",
       "      <td>First there was The Secret Life of Walter Mitt...</td>\n",
       "      <td>GREEN</td>\n",
       "    </tr>\n",
       "    <tr>\n",
       "      <th>...</th>\n",
       "      <td>...</td>\n",
       "      <td>...</td>\n",
       "    </tr>\n",
       "    <tr>\n",
       "      <th>22826</th>\n",
       "      <td>WASHINGTON ― The Justice Department announced ...</td>\n",
       "      <td>POLITICS</td>\n",
       "    </tr>\n",
       "    <tr>\n",
       "      <th>46991</th>\n",
       "      <td>WASHINGTON – Secretary of State John Kerry on ...</td>\n",
       "      <td>POLITICS</td>\n",
       "    </tr>\n",
       "    <tr>\n",
       "      <th>146176</th>\n",
       "      <td>Marcial Verdejo had no contact with his childr...</td>\n",
       "      <td>DIVORCE</td>\n",
       "    </tr>\n",
       "    <tr>\n",
       "      <th>146485</th>\n",
       "      <td>Prince Harry stunned crowds with his daredevil...</td>\n",
       "      <td>STYLE &amp; BEAUTY</td>\n",
       "    </tr>\n",
       "    <tr>\n",
       "      <th>51836</th>\n",
       "      <td>Hillary Clinton forcefully defended her suppor...</td>\n",
       "      <td>POLITICS</td>\n",
       "    </tr>\n",
       "  </tbody>\n",
       "</table>\n",
       "<p>4006 rows × 2 columns</p>\n",
       "</div>"
      ],
      "text/plain": [
       "                                                     text          labels\n",
       "126825  By now it's pretty clear that we really, reall...    FOOD & DRINK\n",
       "150214  The Astor family's home once embodied the Amer...   HOME & LIVING\n",
       "72741   They say dog is man’s best friend and for one ...       GOOD NEWS\n",
       "150415  If you just need to take an island trip and le...          TRAVEL\n",
       "83558   First there was The Secret Life of Walter Mitt...           GREEN\n",
       "...                                                   ...             ...\n",
       "22826   WASHINGTON ― The Justice Department announced ...        POLITICS\n",
       "46991   WASHINGTON – Secretary of State John Kerry on ...        POLITICS\n",
       "146176  Marcial Verdejo had no contact with his childr...         DIVORCE\n",
       "146485  Prince Harry stunned crowds with his daredevil...  STYLE & BEAUTY\n",
       "51836   Hillary Clinton forcefully defended her suppor...        POLITICS\n",
       "\n",
       "[4006 rows x 2 columns]"
      ]
     },
     "execution_count": 58,
     "metadata": {},
     "output_type": "execute_result"
    }
   ],
   "source": [
    "df_other_stratified"
   ]
  },
  {
   "cell_type": "code",
   "execution_count": 59,
   "metadata": {},
   "outputs": [
    {
     "data": {
      "text/html": [
       "<div>\n",
       "<style scoped>\n",
       "    .dataframe tbody tr th:only-of-type {\n",
       "        vertical-align: middle;\n",
       "    }\n",
       "\n",
       "    .dataframe tbody tr th {\n",
       "        vertical-align: top;\n",
       "    }\n",
       "\n",
       "    .dataframe thead th {\n",
       "        text-align: right;\n",
       "    }\n",
       "</style>\n",
       "<table border=\"1\" class=\"dataframe\">\n",
       "  <thead>\n",
       "    <tr style=\"text-align: right;\">\n",
       "      <th></th>\n",
       "      <th>text</th>\n",
       "      <th>labels</th>\n",
       "    </tr>\n",
       "  </thead>\n",
       "  <tbody>\n",
       "    <tr>\n",
       "      <th>count</th>\n",
       "      <td>4006</td>\n",
       "      <td>4006</td>\n",
       "    </tr>\n",
       "    <tr>\n",
       "      <th>unique</th>\n",
       "      <td>4006</td>\n",
       "      <td>42</td>\n",
       "    </tr>\n",
       "    <tr>\n",
       "      <th>top</th>\n",
       "      <td>By now it's pretty clear that we really, reall...</td>\n",
       "      <td>POLITICS</td>\n",
       "    </tr>\n",
       "    <tr>\n",
       "      <th>freq</th>\n",
       "      <td>1</td>\n",
       "      <td>816</td>\n",
       "    </tr>\n",
       "  </tbody>\n",
       "</table>\n",
       "</div>"
      ],
      "text/plain": [
       "                                                     text    labels\n",
       "count                                                4006      4006\n",
       "unique                                               4006        42\n",
       "top     By now it's pretty clear that we really, reall...  POLITICS\n",
       "freq                                                    1       816"
      ]
     },
     "execution_count": 59,
     "metadata": {},
     "output_type": "execute_result"
    }
   ],
   "source": [
    "df_other_stratified.describe()"
   ]
  },
  {
   "cell_type": "code",
   "execution_count": 60,
   "metadata": {},
   "outputs": [
    {
     "data": {
      "text/plain": [
       "labels\n",
       "POLITICS          816\n",
       "ENTERTAINMENT     431\n",
       "WELLNESS          249\n",
       "HEALTHY LIVING    160\n",
       "TRAVEL            159\n",
       "QUEER VOICES      130\n",
       "PARENTING         127\n",
       "BUSINESS          110\n",
       "FOOD & DRINK      103\n",
       "SPORTS             97\n",
       "THE WORLDPOST      93\n",
       "STYLE & BEAUTY     92\n",
       "COMEDY             90\n",
       "WOMEN              87\n",
       "WORLD NEWS         82\n",
       "HOME & LIVING      73\n",
       "CRIME              70\n",
       "PARENTS            67\n",
       "WORLDPOST          64\n",
       "BLACK VOICES       62\n",
       "MEDIA              61\n",
       "IMPACT             59\n",
       "GREEN              58\n",
       "WEIRD NEWS         53\n",
       "STYLE              52\n",
       "RELIGION           51\n",
       "WEDDINGS           50\n",
       "DIVORCE            46\n",
       "TECH               45\n",
       "TASTE              39\n",
       "SCIENCE            37\n",
       "FIFTY              37\n",
       "EDUCATION          32\n",
       "ARTS & CULTURE     32\n",
       "U.S. NEWS          32\n",
       "ARTS               31\n",
       "ENVIRONMENT        31\n",
       "LATINO VOICES      31\n",
       "GOOD NEWS          30\n",
       "COLLEGE            18\n",
       "CULTURE & ARTS     13\n",
       "MONEY               6\n",
       "Name: count, dtype: int64"
      ]
     },
     "execution_count": 60,
     "metadata": {},
     "output_type": "execute_result"
    }
   ],
   "source": [
    "df_other_stratified['labels'].value_counts()"
   ]
  },
  {
   "cell_type": "code",
   "execution_count": 61,
   "metadata": {},
   "outputs": [],
   "source": [
    "df_other_stratified['labels'] = \"OTHER\""
   ]
  },
  {
   "cell_type": "code",
   "execution_count": 62,
   "metadata": {},
   "outputs": [
    {
     "data": {
      "text/plain": [
       "labels\n",
       "OTHER    4006\n",
       "Name: count, dtype: int64"
      ]
     },
     "execution_count": 62,
     "metadata": {},
     "output_type": "execute_result"
    }
   ],
   "source": [
    "df_other_stratified['labels'].value_counts()"
   ]
  },
  {
   "cell_type": "code",
   "execution_count": 63,
   "metadata": {},
   "outputs": [],
   "source": [
    "df_main = df[(df['category'] == \"BUSINESS\" )  | (df['category'] == \"SPORTS\") | (df['category'] == \"ENTERTAINMENT\")]"
   ]
  },
  {
   "cell_type": "code",
   "execution_count": 64,
   "metadata": {},
   "outputs": [],
   "source": [
    "df_main = df_main.rename(columns={'category' : \"labels\", 'content' : 'text'})"
   ]
  },
  {
   "cell_type": "code",
   "execution_count": 65,
   "metadata": {},
   "outputs": [],
   "source": [
    "df_main = df_main[['labels', 'text']]"
   ]
  },
  {
   "cell_type": "code",
   "execution_count": 66,
   "metadata": {},
   "outputs": [
    {
     "data": {
      "text/plain": [
       "labels\n",
       "ENTERTAINMENT    15847\n",
       "BUSINESS          5113\n",
       "SPORTS            4391\n",
       "Name: count, dtype: int64"
      ]
     },
     "execution_count": 66,
     "metadata": {},
     "output_type": "execute_result"
    }
   ],
   "source": [
    "df_main['labels'].value_counts()"
   ]
  },
  {
   "cell_type": "code",
   "execution_count": 67,
   "metadata": {},
   "outputs": [],
   "source": [
    "df_train = pd.concat([df_other_stratified, df_main], ignore_index=True)"
   ]
  },
  {
   "cell_type": "code",
   "execution_count": 68,
   "metadata": {},
   "outputs": [
    {
     "data": {
      "text/plain": [
       "labels\n",
       "ENTERTAINMENT    15847\n",
       "BUSINESS          5113\n",
       "SPORTS            4391\n",
       "OTHER             4006\n",
       "Name: count, dtype: int64"
      ]
     },
     "execution_count": 68,
     "metadata": {},
     "output_type": "execute_result"
    }
   ],
   "source": [
    "df_train['labels'].value_counts()"
   ]
  },
  {
   "cell_type": "code",
   "execution_count": 71,
   "metadata": {},
   "outputs": [],
   "source": [
    "entertainment = df_train[df_train.labels.eq(\"ENTERTAINMENT\")].sample(5000, random_state=0)\n",
    "other = df_train[df_train.labels.eq(\"OTHER\")]\n",
    "business = df_train[df_train.labels.eq(\"BUSINESS\")]\n",
    "sports = df_train[df_train.labels.eq(\"SPORTS\")]"
   ]
  },
  {
   "cell_type": "code",
   "execution_count": 72,
   "metadata": {},
   "outputs": [],
   "source": [
    "df_under = pd.concat([entertainment, other, business, sports], ignore_index=True)"
   ]
  },
  {
   "cell_type": "code",
   "execution_count": 74,
   "metadata": {},
   "outputs": [
    {
     "data": {
      "text/plain": [
       "labels\n",
       "BUSINESS         5113\n",
       "ENTERTAINMENT    5000\n",
       "SPORTS           4391\n",
       "OTHER            4006\n",
       "Name: count, dtype: int64"
      ]
     },
     "execution_count": 74,
     "metadata": {},
     "output_type": "execute_result"
    }
   ],
   "source": [
    "df_under['labels'].value_counts()"
   ]
  },
  {
   "cell_type": "code",
   "execution_count": 75,
   "metadata": {},
   "outputs": [],
   "source": [
    "df_under.to_csv(\"huffdata_under18k.csv\", index = False)"
   ]
  }
 ],
 "metadata": {
  "kernelspec": {
   "display_name": "math-ml",
   "language": "python",
   "name": "python3"
  },
  "language_info": {
   "codemirror_mode": {
    "name": "ipython",
    "version": 3
   },
   "file_extension": ".py",
   "mimetype": "text/x-python",
   "name": "python",
   "nbconvert_exporter": "python",
   "pygments_lexer": "ipython3",
   "version": "3.8.18"
  }
 },
 "nbformat": 4,
 "nbformat_minor": 2
}
