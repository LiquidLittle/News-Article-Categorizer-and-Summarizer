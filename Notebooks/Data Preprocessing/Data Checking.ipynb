{
 "cells": [
  {
   "cell_type": "code",
   "execution_count": 2,
   "metadata": {},
   "outputs": [],
   "source": [
    "import pandas as pd"
   ]
  },
  {
   "cell_type": "code",
   "execution_count": 8,
   "metadata": {},
   "outputs": [],
   "source": [
    "import matplotlib"
   ]
  },
  {
   "cell_type": "code",
   "execution_count": 38,
   "metadata": {},
   "outputs": [],
   "source": [
    "df = pd.read_csv(\"huffdata_clean_v2.csv\")"
   ]
  },
  {
   "cell_type": "code",
   "execution_count": 39,
   "metadata": {},
   "outputs": [
    {
     "data": {
      "text/html": [
       "<div>\n",
       "<style scoped>\n",
       "    .dataframe tbody tr th:only-of-type {\n",
       "        vertical-align: middle;\n",
       "    }\n",
       "\n",
       "    .dataframe tbody tr th {\n",
       "        vertical-align: top;\n",
       "    }\n",
       "\n",
       "    .dataframe thead th {\n",
       "        text-align: right;\n",
       "    }\n",
       "</style>\n",
       "<table border=\"1\" class=\"dataframe\">\n",
       "  <thead>\n",
       "    <tr style=\"text-align: right;\">\n",
       "      <th></th>\n",
       "      <th>category</th>\n",
       "      <th>content</th>\n",
       "      <th>Number of Words</th>\n",
       "    </tr>\n",
       "  </thead>\n",
       "  <tbody>\n",
       "    <tr>\n",
       "      <th>0</th>\n",
       "      <td>U.S. NEWS</td>\n",
       "      <td>U.S. health officials say 4.4 million American...</td>\n",
       "      <td>1045</td>\n",
       "    </tr>\n",
       "    <tr>\n",
       "      <th>1</th>\n",
       "      <td>U.S. NEWS</td>\n",
       "      <td>A volatile passenger has been charged with a f...</td>\n",
       "      <td>496</td>\n",
       "    </tr>\n",
       "    <tr>\n",
       "      <th>2</th>\n",
       "      <td>COMEDY</td>\n",
       "      <td>Woof — it’s been a long, long week. We don’t h...</td>\n",
       "      <td>90</td>\n",
       "    </tr>\n",
       "    <tr>\n",
       "      <th>3</th>\n",
       "      <td>U.S. NEWS</td>\n",
       "      <td>A white woman who said that she was unfairly f...</td>\n",
       "      <td>435</td>\n",
       "    </tr>\n",
       "    <tr>\n",
       "      <th>4</th>\n",
       "      <td>U.S. NEWS</td>\n",
       "      <td>COLUMBIA, S.C. (AP) — A 63-year-old worker die...</td>\n",
       "      <td>215</td>\n",
       "    </tr>\n",
       "  </tbody>\n",
       "</table>\n",
       "</div>"
      ],
      "text/plain": [
       "    category                                            content  \\\n",
       "0  U.S. NEWS  U.S. health officials say 4.4 million American...   \n",
       "1  U.S. NEWS  A volatile passenger has been charged with a f...   \n",
       "2     COMEDY  Woof — it’s been a long, long week. We don’t h...   \n",
       "3  U.S. NEWS  A white woman who said that she was unfairly f...   \n",
       "4  U.S. NEWS  COLUMBIA, S.C. (AP) — A 63-year-old worker die...   \n",
       "\n",
       "   Number of Words  \n",
       "0             1045  \n",
       "1              496  \n",
       "2               90  \n",
       "3              435  \n",
       "4              215  "
      ]
     },
     "execution_count": 39,
     "metadata": {},
     "output_type": "execute_result"
    }
   ],
   "source": [
    "df.head()"
   ]
  },
  {
   "cell_type": "code",
   "execution_count": 36,
   "metadata": {},
   "outputs": [],
   "source": [
    "df = df.rename(columns={\"File_path\" : \"labels\" , \"Articles\" : \"text\"})"
   ]
  },
  {
   "cell_type": "code",
   "execution_count": 23,
   "metadata": {},
   "outputs": [],
   "source": [
    "num_words = df.Summaries.apply(lambda x: len(x.split()))"
   ]
  },
  {
   "cell_type": "code",
   "execution_count": 24,
   "metadata": {},
   "outputs": [
    {
     "data": {
      "text/plain": [
       "<Axes: >"
      ]
     },
     "execution_count": 24,
     "metadata": {},
     "output_type": "execute_result"
    },
    {
     "data": {
      "image/png": "[encoded data removed]",
      "text/plain": [
       "<Figure size 640x480 with 1 Axes>"
      ]
     },
     "metadata": {},
     "output_type": "display_data"
    }
   ],
   "source": [
    "num_words.plot.box()"
   ]
  },
  {
   "cell_type": "code",
   "execution_count": 25,
   "metadata": {},
   "outputs": [
    {
     "data": {
      "text/plain": [
       "count    5449.000000\n",
       "mean      170.899615\n",
       "std       103.153342\n",
       "min        38.000000\n",
       "25%       111.000000\n",
       "50%       155.000000\n",
       "75%       209.000000\n",
       "max      2073.000000\n",
       "Name: Summaries, dtype: float64"
      ]
     },
     "execution_count": 25,
     "metadata": {},
     "output_type": "execute_result"
    }
   ],
   "source": [
    "num_words.describe()"
   ]
  },
  {
   "cell_type": "code",
   "execution_count": 45,
   "metadata": {},
   "outputs": [
    {
     "data": {
      "text/plain": [
       "185572"
      ]
     },
     "execution_count": 45,
     "metadata": {},
     "output_type": "execute_result"
    }
   ],
   "source": [
    "df[\"category\"].count()"
   ]
  },
  {
   "cell_type": "code",
   "execution_count": 42,
   "metadata": {},
   "outputs": [
    {
     "data": {
      "text/plain": [
       "category\n",
       "POLITICS          32568\n",
       "WELLNESS          16240\n",
       "ENTERTAINMENT     15847\n",
       "TRAVEL             8999\n",
       "STYLE & BEAUTY     8340\n",
       "PARENTING          7257\n",
       "HEALTHY LIVING     6359\n",
       "FOOD & DRINK       5733\n",
       "QUEER VOICES       5479\n",
       "BUSINESS           5113\n",
       "SPORTS             4391\n",
       "PARENTS            3652\n",
       "BLACK VOICES       3638\n",
       "COMEDY             3548\n",
       "HOME & LIVING      3467\n",
       "IMPACT             3330\n",
       "THE WORLDPOST      3278\n",
       "WORLD NEWS         3271\n",
       "CRIME              3123\n",
       "WOMEN              3112\n",
       "WEDDINGS           2950\n",
       "DIVORCE            2768\n",
       "MEDIA              2544\n",
       "WORLDPOST          2442\n",
       "RELIGION           2370\n",
       "WEIRD NEWS         2231\n",
       "GREEN              2169\n",
       "STYLE              2123\n",
       "TASTE              2031\n",
       "SCIENCE            1994\n",
       "TECH               1749\n",
       "MONEY              1612\n",
       "ARTS               1484\n",
       "U.S. NEWS          1371\n",
       "FIFTY              1363\n",
       "ARTS & CULTURE     1300\n",
       "GOOD NEWS          1227\n",
       "ENVIRONMENT        1220\n",
       "COLLEGE             999\n",
       "EDUCATION           994\n",
       "LATINO VOICES       964\n",
       "CULTURE & ARTS      922\n",
       "Name: count, dtype: int64"
      ]
     },
     "execution_count": 42,
     "metadata": {},
     "output_type": "execute_result"
    }
   ],
   "source": [
    "df[\"category\"].value_counts()"
   ]
  },
  {
   "cell_type": "code",
   "execution_count": 38,
   "metadata": {},
   "outputs": [],
   "source": [
    "df.loc[(df['labels'] != \"business\" )  & (df['labels'] != \"sport\") & (df['labels'] != \"entertainment\"), \"labels\"] = \"other\""
   ]
  },
  {
   "cell_type": "code",
   "execution_count": 39,
   "metadata": {},
   "outputs": [],
   "source": [
    "df.loc[(df['labels'] == \"sport\"), \"labels\"] = \"sports\""
   ]
  },
  {
   "cell_type": "code",
   "execution_count": 45,
   "metadata": {},
   "outputs": [
    {
     "data": {
      "text/html": [
       "<div>\n",
       "<style scoped>\n",
       "    .dataframe tbody tr th:only-of-type {\n",
       "        vertical-align: middle;\n",
       "    }\n",
       "\n",
       "    .dataframe tbody tr th {\n",
       "        vertical-align: top;\n",
       "    }\n",
       "\n",
       "    .dataframe thead th {\n",
       "        text-align: right;\n",
       "    }\n",
       "</style>\n",
       "<table border=\"1\" class=\"dataframe\">\n",
       "  <thead>\n",
       "    <tr style=\"text-align: right;\">\n",
       "      <th></th>\n",
       "      <th>labels</th>\n",
       "      <th>text</th>\n",
       "      <th>Summaries</th>\n",
       "    </tr>\n",
       "  </thead>\n",
       "  <tbody>\n",
       "    <tr>\n",
       "      <th>417</th>\n",
       "      <td>sports</td>\n",
       "      <td>Hodges announces rugby retirement..Scarlets an...</td>\n",
       "      <td>The 36-year-old, who has 54 caps, was Llanelli...</td>\n",
       "    </tr>\n",
       "    <tr>\n",
       "      <th>418</th>\n",
       "      <td>sports</td>\n",
       "      <td>Bomb threat at Bernabeu stadium..Spectators we...</td>\n",
       "      <td>Spectators were evacuated from Real Madrid's B...</td>\n",
       "    </tr>\n",
       "    <tr>\n",
       "      <th>419</th>\n",
       "      <td>sports</td>\n",
       "      <td>Parmar ruled out of Davis Cup tie..A knee inju...</td>\n",
       "      <td>The unheralded Sherwood was the surprise inclu...</td>\n",
       "    </tr>\n",
       "    <tr>\n",
       "      <th>420</th>\n",
       "      <td>sports</td>\n",
       "      <td>Benitez issues warning to Gerrard..Liverpool m...</td>\n",
       "      <td>Benitez responded: \"I spoke to Steven and said...</td>\n",
       "    </tr>\n",
       "    <tr>\n",
       "      <th>421</th>\n",
       "      <td>sports</td>\n",
       "      <td>Officials respond in court row..Australian ten...</td>\n",
       "      <td>Hewitt said he had had a \"gutful\" of trying to...</td>\n",
       "    </tr>\n",
       "    <tr>\n",
       "      <th>...</th>\n",
       "      <td>...</td>\n",
       "      <td>...</td>\n",
       "      <td>...</td>\n",
       "    </tr>\n",
       "    <tr>\n",
       "      <th>3147</th>\n",
       "      <td>sports</td>\n",
       "      <td>Big guns ease through in San Jose\\n\\nTop-seede...</td>\n",
       "      <td>Top-seeded Americans Andy Roddick and Andre Ag...</td>\n",
       "    </tr>\n",
       "    <tr>\n",
       "      <th>3148</th>\n",
       "      <td>sports</td>\n",
       "      <td>Almagro continues Spanish surge\\n\\nUnseeded Ni...</td>\n",
       "      <td>Nadal, playing in the outdoor clay event for t...</td>\n",
       "    </tr>\n",
       "    <tr>\n",
       "      <th>3149</th>\n",
       "      <td>sports</td>\n",
       "      <td>Melzer shocks Agassi in San Jose\\n\\nSecond see...</td>\n",
       "      <td>Second seed Andre Agassi suffered a comprehens...</td>\n",
       "    </tr>\n",
       "    <tr>\n",
       "      <th>3150</th>\n",
       "      <td>sports</td>\n",
       "      <td>Mirza makes Indian tennis history\\n\\nTeenager ...</td>\n",
       "      <td>Teenager Sania Mirza completed a superb week a...</td>\n",
       "    </tr>\n",
       "    <tr>\n",
       "      <th>3151</th>\n",
       "      <td>sports</td>\n",
       "      <td>Roddick to face Saulnier in final\\n\\nAndy Rodd...</td>\n",
       "      <td>Andy Roddick will play Cyril Saulnier in the f...</td>\n",
       "    </tr>\n",
       "  </tbody>\n",
       "</table>\n",
       "<p>1021 rows × 3 columns</p>\n",
       "</div>"
      ],
      "text/plain": [
       "      labels                                               text  \\\n",
       "417   sports  Hodges announces rugby retirement..Scarlets an...   \n",
       "418   sports  Bomb threat at Bernabeu stadium..Spectators we...   \n",
       "419   sports  Parmar ruled out of Davis Cup tie..A knee inju...   \n",
       "420   sports  Benitez issues warning to Gerrard..Liverpool m...   \n",
       "421   sports  Officials respond in court row..Australian ten...   \n",
       "...      ...                                                ...   \n",
       "3147  sports  Big guns ease through in San Jose\\n\\nTop-seede...   \n",
       "3148  sports  Almagro continues Spanish surge\\n\\nUnseeded Ni...   \n",
       "3149  sports  Melzer shocks Agassi in San Jose\\n\\nSecond see...   \n",
       "3150  sports  Mirza makes Indian tennis history\\n\\nTeenager ...   \n",
       "3151  sports  Roddick to face Saulnier in final\\n\\nAndy Rodd...   \n",
       "\n",
       "                                              Summaries  \n",
       "417   The 36-year-old, who has 54 caps, was Llanelli...  \n",
       "418   Spectators were evacuated from Real Madrid's B...  \n",
       "419   The unheralded Sherwood was the surprise inclu...  \n",
       "420   Benitez responded: \"I spoke to Steven and said...  \n",
       "421   Hewitt said he had had a \"gutful\" of trying to...  \n",
       "...                                                 ...  \n",
       "3147  Top-seeded Americans Andy Roddick and Andre Ag...  \n",
       "3148  Nadal, playing in the outdoor clay event for t...  \n",
       "3149  Second seed Andre Agassi suffered a comprehens...  \n",
       "3150  Teenager Sania Mirza completed a superb week a...  \n",
       "3151  Andy Roddick will play Cyril Saulnier in the f...  \n",
       "\n",
       "[1021 rows x 3 columns]"
      ]
     },
     "execution_count": 45,
     "metadata": {},
     "output_type": "execute_result"
    }
   ],
   "source": [
    "df[df['labels'] == 'sports']"
   ]
  },
  {
   "cell_type": "code",
   "execution_count": 41,
   "metadata": {},
   "outputs": [
    {
     "data": {
      "text/plain": [
       "labels\n",
       "other            2275\n",
       "business         1228\n",
       "sports           1021\n",
       "entertainment     925\n",
       "Name: count, dtype: int64"
      ]
     },
     "execution_count": 41,
     "metadata": {},
     "output_type": "execute_result"
    }
   ],
   "source": [
    "df[\"labels\"].value_counts()"
   ]
  },
  {
   "cell_type": "code",
   "execution_count": 28,
   "metadata": {},
   "outputs": [],
   "source": [
    "df = df[[\"labels\", \"text\"]]"
   ]
  },
  {
   "cell_type": "code",
   "execution_count": 46,
   "metadata": {},
   "outputs": [],
   "source": [
    "df.to_csv(\"test_set.csv\", index=False)"
   ]
  },
  {
   "cell_type": "code",
   "execution_count": 1,
   "metadata": {},
   "outputs": [],
   "source": [
    "from collections import OrderedDict"
   ]
  },
  {
   "cell_type": "code",
   "execution_count": 2,
   "metadata": {},
   "outputs": [],
   "source": [
    "dict = OrderedDict()"
   ]
  },
  {
   "cell_type": "code",
   "execution_count": 3,
   "metadata": {},
   "outputs": [],
   "source": [
    "dict['a'] = None"
   ]
  },
  {
   "cell_type": "code",
   "execution_count": 5,
   "metadata": {},
   "outputs": [
    {
     "data": {
      "text/plain": [
       "True"
      ]
     },
     "execution_count": 5,
     "metadata": {},
     "output_type": "execute_result"
    },
    {
     "ename": "",
     "evalue": "",
     "output_type": "error",
     "traceback": [
      "\u001b[1;31mThe Kernel crashed while executing code in the current cell or a previous cell. \n",
      "\u001b[1;31mPlease review the code in the cell(s) to identify a possible cause of the failure. \n",
      "\u001b[1;31mClick <a href='https://aka.ms/vscodeJupyterKernelCrash'>here</a> for more info. \n",
      "\u001b[1;31mView Jupyter <a href='command:jupyter.viewOutput'>log</a> for further details."
     ]
    }
   ],
   "source": [
    "'a' in dict.keys()"
   ]
  }
 ],
 "metadata": {
  "kernelspec": {
   "display_name": "math-ml",
   "language": "python",
   "name": "python3"
  },
  "language_info": {
   "codemirror_mode": {
    "name": "ipython",
    "version": 3
   },
   "file_extension": ".py",
   "mimetype": "text/x-python",
   "name": "python",
   "nbconvert_exporter": "python",
   "pygments_lexer": "ipython3",
   "version": "3.8.18"
  }
 },
 "nbformat": 4,
 "nbformat_minor": 2
}
