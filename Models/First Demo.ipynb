{
 "cells": [
  {
   "cell_type": "code",
   "execution_count": 1,
   "metadata": {},
   "outputs": [
    {
     "name": "stderr",
     "output_type": "stream",
     "text": [
      "C:\\Users\\kinga\\AppData\\Roaming\\Python\\Python37\\site-packages\\tqdm\\auto.py:21: TqdmWarning: IProgress not found. Please update jupyter and ipywidgets. See https://ipywidgets.readthedocs.io/en/stable/user_install.html\n",
      "  from .autonotebook import tqdm as notebook_tqdm\n"
     ]
    }
   ],
   "source": [
    "import requests\n",
    "from bs4 import BeautifulSoup\n",
    "import numpy as np\n",
    "import torch"
   ]
  },
  {
   "cell_type": "code",
   "execution_count": 14,
   "metadata": {},
   "outputs": [],
   "source": [
    "def huffpost_content(url):\n",
    "    # Make an HTTP request to the webpage\n",
    "    try: \n",
    "        response = requests.get(url)\n",
    "    except:\n",
    "        content = None\n",
    "    else:\n",
    "        # Parse the HTML contents of the page using beautifulsoup4\n",
    "        soup = BeautifulSoup(response.content, \"html.parser\")\n",
    "\n",
    "        content = \"\"\n",
    "        for node in soup.find_all(class_=\"primary-cli cli cli-text\"):\n",
    "            content += node.get_text()\n",
    "        \n",
    "\n",
    "    return content"
   ]
  },
  {
   "cell_type": "code",
   "execution_count": 2,
   "metadata": {},
   "outputs": [],
   "source": [
    "from transformers import pipeline"
   ]
  },
  {
   "cell_type": "code",
   "execution_count": 3,
   "metadata": {},
   "outputs": [
    {
     "name": "stderr",
     "output_type": "stream",
     "text": [
      "Xformers is not installed correctly. If you want to use memory_efficient_attention to accelerate training use the following command to install Xformers\n",
      "pip install xformers.\n"
     ]
    }
   ],
   "source": [
    "classifier = pipeline('text-classification', \n",
    "model=r\"C:\\Users\\kinga\\Downloads\\DistilroBERTa\\checkpoint-8332\",\n",
    "    device=0 if torch.cuda.is_available() else -1)\n",
    "summarizer = pipeline(\n",
    "    \"summarization\",\n",
    "    r\"C:\\Users\\kinga\\Downloads\\led-v1\\checkpoint-918\",\n",
    "    device=0 if torch.cuda.is_available() else -1,\n",
    ")"
   ]
  },
  {
   "cell_type": "code",
   "execution_count": 18,
   "metadata": {},
   "outputs": [],
   "source": [
    "text = huffpost_content(\"https://www.huffpost.com/entry/dejan-milojevic-warriors-coach-dead_n_65a839e0e4b041f1ce648545\")"
   ]
  },
  {
   "cell_type": "code",
   "execution_count": 19,
   "metadata": {},
   "outputs": [
    {
     "name": "stdout",
     "output_type": "stream",
     "text": [
      "['SPORTS']\n"
     ]
    }
   ],
   "source": [
    "class_result = [result[\"label\"] for result in classifier(text, padding=True, truncation=True)]\n",
    "print(class_result)"
   ]
  },
  {
   "cell_type": "code",
   "execution_count": 20,
   "metadata": {},
   "outputs": [
    {
     "name": "stdout",
     "output_type": "stream",
     "text": [
      "“The Golden State Warriors assistants coach Dej Milojevać died on Wednesday after suffered a heartattack, the teams said in A statement.Milojeić's native of Belgrade, Serbia, had a native level playing careerand was a prominent head coach at the Warriors .He was 46 when he died.Restoration In Peace dejan milojevicć.After all that he did as director of basketball operations for the NBA team in 2014 and 2015.Before leaving the Warriors his native of Serbia, Djan had been working in their third seasonAs an assistant coach to the Warriors he was responsible for the development of the Warriors young men and women into professionals.He currently served as associate coach for Anzelheim called KP BudučnostVoli.Kerr describes Milojvićas a ‘positive’ and †beautiful person, who said he brought joyAnd lightTo this day, Miloeviks is considered one of the most important people you could ever tell me!His death has not been announced publicly but it is widely known that he was born in Svalbard and raised in Serbia.Preparations on X were underway on X which included Twitter and a game\n"
     ]
    }
   ],
   "source": [
    "result = summarizer(\n",
    "    text,\n",
    "    min_length=8,\n",
    "    max_length=256,\n",
    "    no_repeat_ngram_size=3,\n",
    "    encoder_no_repeat_ngram_size=3,\n",
    "    repetition_penalty=3.5,\n",
    "    num_beams=4,\n",
    "    do_sample=False,\n",
    "    early_stopping=True,\n",
    ")\n",
    "print(result[0]['summary_text'])"
   ]
  }
 ],
 "metadata": {
  "kernelspec": {
   "display_name": "ml-venv",
   "language": "python",
   "name": "python3"
  },
  "language_info": {
   "codemirror_mode": {
    "name": "ipython",
    "version": 3
   },
   "file_extension": ".py",
   "mimetype": "text/x-python",
   "name": "python",
   "nbconvert_exporter": "python",
   "pygments_lexer": "ipython3",
   "version": "3.7.16"
  }
 },
 "nbformat": 4,
 "nbformat_minor": 2
}
